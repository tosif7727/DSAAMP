{
 "cells": [
  {
   "cell_type": "markdown",
   "id": "38f316cb",
   "metadata": {},
   "source": [
    "## venv - Python's Built-in Virtual Environment 🐍\n",
    "\n",
    "**What is it?** ❓  \n",
    "- `venv` is Python's built-in tool for creating isolated environments.  \n",
    "- It only manages Python packages. 📦  \n",
    "\n",
    "**Key Features:** ✨  \n",
    "- Lightweight and simple to use.  \n",
    "- Comes pre-installed with Python 3.3+. 🚀  \n",
    "- Fast environment creation. ⚡  \n",
    "\n",
    "**Use Cases:** 💡  \n",
    "- Small to medium-sized Python-only projects.  \n",
    "- Web development (e.g., Django, Flask). 🌐  \n",
    "- Scripts, automation tasks, or testing libraries. 🛠️  \n"
   ]
  },
  {
   "cell_type": "markdown",
   "id": "201777ee",
   "metadata": {},
   "source": [
    "## Basic Code for Using `venv` 🐍\n",
    "\n",
    "Below is the basic code to create and activate a virtual environment using `venv`:  \n",
    "\n",
    "#### Step 1: Create a virtual environment ✨  \n",
    "> `python -m venv myenv`  # Replace 'myenv' with your desired environment name  \n",
    "\n",
    "#### Step 2: Activate the virtual environment 🚀  \n",
    "##### On Windows:  \n",
    "> `myenv\\Scripts\\activate`  # Use `source myenv/Scripts/activate` for Git Bash  \n",
    "\n",
    "##### On macOS/Linux:  \n",
    "> `source myenv/bin/activate`  \n",
    "\n",
    "#### Step 3: Install packages (example: `requests`) 📦  \n",
    "> `pip install requests`  # Replace 'requests' with your desired package name  \n",
    "\n",
    "#### Step 4: Deactivate the virtual environment when done ❌  \n",
    "> `deactivate`  \n",
    "\n",
    "#### Step 5: Remove the virtual environment (if needed) 🗑️  \n",
    "> `rm -rf myenv`  # Be careful with this command, as it will delete the folder and all its contents  \n",
    "\n",
    "#### Step 6: Freeze the environment to a `requirements.txt` file 📄  \n",
    "> `pip freeze > requirements.txt`  \n"
   ]
  }
 ],
 "metadata": {
  "kernelspec": {
   "display_name": "data_analysis",
   "language": "python",
   "name": "python3"
  },
  "language_info": {
   "name": "python",
   "version": "3.10.15"
  }
 },
 "nbformat": 4,
 "nbformat_minor": 5
}
