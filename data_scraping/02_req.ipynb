{
 "cells": [
  {
   "cell_type": "code",
   "execution_count": null,
   "id": "d3fbef9c",
   "metadata": {},
   "outputs": [],
   "source": [
    "url = 'https://www.worldometers.info/world-population/population-by-country/'"
   ]
  },
  {
   "cell_type": "code",
   "execution_count": 11,
   "id": "425d953f",
   "metadata": {},
   "outputs": [
    {
     "name": "stdout",
     "output_type": "stream",
     "text": [
      "Status Code: 200\n"
     ]
    },
    {
     "name": "stderr",
     "output_type": "stream",
     "text": [
      "C:\\Users\\touse\\AppData\\Local\\Temp\\ipykernel_17856\\2367554353.py:22: FutureWarning: Passing literal html to 'read_html' is deprecated and will be removed in a future version. To read from a literal string, wrap it in a 'StringIO' object.\n",
      "  tables = pd.read_html(response.text)\n"
     ]
    },
    {
     "name": "stdout",
     "output_type": "stream",
     "text": [
      "Number of tables found: 1\n"
     ]
    }
   ],
   "source": [
    "import requests\n",
    "import pandas as pd\n",
    "\n",
    "# Target URL (page must contain HTML tables)\n",
    "url = 'https://www.worldometers.info/world-population/population-by-country/'\n",
    "\n",
    "# Define realistic headers to mimic a real browser\n",
    "# Define headers to mimic a real browser and avoid blocking by the website\n",
    "headers = {\n",
    "    \"User-Agent\": (\n",
    "        \"Mozilla/5.0 (Windows NT 10.0; Win64; x64) \"\n",
    "        \"AppleWebKit/537.36 (KHTML, like Gecko) \"\n",
    "        \"Chrome/123.0.0.0 Safari/537.36\"    \n",
    "    )\n",
    "}\n",
    "\n",
    "# Send a GET request to the URL with headers\n",
    "response = requests.get(url, headers=headers)\n",
    "print(f'Status Code: {response.status_code}')  # Raise an error for bad responses\n",
    "\n",
    "# Parse the HTML content using pandas\n",
    "tables = pd.read_html(response.text)\n",
    "\n",
    "# Check if any tables were found\n",
    "print(f\"Number of tables found: {len(tables)}\") \n"
   ]
  },
  {
   "cell_type": "code",
   "execution_count": 8,
   "id": "a60ed4a3",
   "metadata": {},
   "outputs": [
    {
     "data": {
      "application/vnd.microsoft.datawrangler.viewer.v0+json": {
       "columns": [
        {
         "name": "index",
         "rawType": "int64",
         "type": "integer"
        },
        {
         "name": "#",
         "rawType": "int64",
         "type": "integer"
        },
        {
         "name": "Country (or dependency)",
         "rawType": "object",
         "type": "string"
        },
        {
         "name": "Population (2025)",
         "rawType": "int64",
         "type": "integer"
        },
        {
         "name": "Yearly Change",
         "rawType": "object",
         "type": "string"
        },
        {
         "name": "Net Change",
         "rawType": "object",
         "type": "string"
        },
        {
         "name": "Density (P/Km²)",
         "rawType": "int64",
         "type": "integer"
        },
        {
         "name": "Land Area (Km²)",
         "rawType": "int64",
         "type": "integer"
        },
        {
         "name": "Migrants (net)",
         "rawType": "object",
         "type": "string"
        },
        {
         "name": "Fert. Rate",
         "rawType": "float64",
         "type": "float"
        },
        {
         "name": "Median Age",
         "rawType": "float64",
         "type": "float"
        },
        {
         "name": "Urban Pop %",
         "rawType": "object",
         "type": "string"
        },
        {
         "name": "World Share",
         "rawType": "object",
         "type": "string"
        }
       ],
       "conversionMethod": "pd.DataFrame",
       "ref": "33404aa3-2ff7-4567-abc7-dcd6c6612f1a",
       "rows": [
        [
         "0",
         "1",
         "India",
         "1463865525",
         "0.89%",
         "12929734",
         "492",
         "2973190",
         "−495,753",
         "1.94",
         "28.8",
         "37.1%",
         "17.78%"
        ],
        [
         "1",
         "2",
         "China",
         "1416096094",
         "−0.23%",
         "−3,225,184",
         "151",
         "9388211",
         "−268,126",
         "1.02",
         "40.1",
         "67.5%",
         "17.20%"
        ],
        [
         "2",
         "3",
         "United States",
         "347275807",
         "0.54%",
         "1849236",
         "38",
         "9147420",
         "1230663",
         "1.62",
         "38.5",
         "82.8%",
         "4.22%"
        ],
        [
         "3",
         "4",
         "Indonesia",
         "285721236",
         "0.79%",
         "2233305",
         "158",
         "1811570",
         "−39,509",
         "2.1",
         "30.4",
         "59.6%",
         "3.47%"
        ],
        [
         "4",
         "5",
         "Pakistan",
         "255219554",
         "1.57%",
         "3950390",
         "331",
         "770880",
         "−1,235,336",
         "3.5",
         "20.6",
         "34.4%",
         "3.10%"
        ]
       ],
       "shape": {
        "columns": 12,
        "rows": 5
       }
      },
      "text/html": [
       "<div>\n",
       "<style scoped>\n",
       "    .dataframe tbody tr th:only-of-type {\n",
       "        vertical-align: middle;\n",
       "    }\n",
       "\n",
       "    .dataframe tbody tr th {\n",
       "        vertical-align: top;\n",
       "    }\n",
       "\n",
       "    .dataframe thead th {\n",
       "        text-align: right;\n",
       "    }\n",
       "</style>\n",
       "<table border=\"1\" class=\"dataframe\">\n",
       "  <thead>\n",
       "    <tr style=\"text-align: right;\">\n",
       "      <th></th>\n",
       "      <th>#</th>\n",
       "      <th>Country (or dependency)</th>\n",
       "      <th>Population (2025)</th>\n",
       "      <th>Yearly Change</th>\n",
       "      <th>Net Change</th>\n",
       "      <th>Density (P/Km²)</th>\n",
       "      <th>Land Area (Km²)</th>\n",
       "      <th>Migrants (net)</th>\n",
       "      <th>Fert. Rate</th>\n",
       "      <th>Median Age</th>\n",
       "      <th>Urban Pop %</th>\n",
       "      <th>World Share</th>\n",
       "    </tr>\n",
       "  </thead>\n",
       "  <tbody>\n",
       "    <tr>\n",
       "      <th>0</th>\n",
       "      <td>1</td>\n",
       "      <td>India</td>\n",
       "      <td>1463865525</td>\n",
       "      <td>0.89%</td>\n",
       "      <td>12929734</td>\n",
       "      <td>492</td>\n",
       "      <td>2973190</td>\n",
       "      <td>−495,753</td>\n",
       "      <td>1.94</td>\n",
       "      <td>28.8</td>\n",
       "      <td>37.1%</td>\n",
       "      <td>17.78%</td>\n",
       "    </tr>\n",
       "    <tr>\n",
       "      <th>1</th>\n",
       "      <td>2</td>\n",
       "      <td>China</td>\n",
       "      <td>1416096094</td>\n",
       "      <td>−0.23%</td>\n",
       "      <td>−3,225,184</td>\n",
       "      <td>151</td>\n",
       "      <td>9388211</td>\n",
       "      <td>−268,126</td>\n",
       "      <td>1.02</td>\n",
       "      <td>40.1</td>\n",
       "      <td>67.5%</td>\n",
       "      <td>17.20%</td>\n",
       "    </tr>\n",
       "    <tr>\n",
       "      <th>2</th>\n",
       "      <td>3</td>\n",
       "      <td>United States</td>\n",
       "      <td>347275807</td>\n",
       "      <td>0.54%</td>\n",
       "      <td>1849236</td>\n",
       "      <td>38</td>\n",
       "      <td>9147420</td>\n",
       "      <td>1230663</td>\n",
       "      <td>1.62</td>\n",
       "      <td>38.5</td>\n",
       "      <td>82.8%</td>\n",
       "      <td>4.22%</td>\n",
       "    </tr>\n",
       "    <tr>\n",
       "      <th>3</th>\n",
       "      <td>4</td>\n",
       "      <td>Indonesia</td>\n",
       "      <td>285721236</td>\n",
       "      <td>0.79%</td>\n",
       "      <td>2233305</td>\n",
       "      <td>158</td>\n",
       "      <td>1811570</td>\n",
       "      <td>−39,509</td>\n",
       "      <td>2.10</td>\n",
       "      <td>30.4</td>\n",
       "      <td>59.6%</td>\n",
       "      <td>3.47%</td>\n",
       "    </tr>\n",
       "    <tr>\n",
       "      <th>4</th>\n",
       "      <td>5</td>\n",
       "      <td>Pakistan</td>\n",
       "      <td>255219554</td>\n",
       "      <td>1.57%</td>\n",
       "      <td>3950390</td>\n",
       "      <td>331</td>\n",
       "      <td>770880</td>\n",
       "      <td>−1,235,336</td>\n",
       "      <td>3.50</td>\n",
       "      <td>20.6</td>\n",
       "      <td>34.4%</td>\n",
       "      <td>3.10%</td>\n",
       "    </tr>\n",
       "  </tbody>\n",
       "</table>\n",
       "</div>"
      ],
      "text/plain": [
       "   # Country (or dependency)  Population (2025) Yearly Change  Net Change  \\\n",
       "0  1                   India         1463865525         0.89%    12929734   \n",
       "1  2                   China         1416096094        −0.23%  −3,225,184   \n",
       "2  3           United States          347275807         0.54%     1849236   \n",
       "3  4               Indonesia          285721236         0.79%     2233305   \n",
       "4  5                Pakistan          255219554         1.57%     3950390   \n",
       "\n",
       "   Density (P/Km²)  Land Area (Km²) Migrants (net)  Fert. Rate  Median Age  \\\n",
       "0              492          2973190       −495,753        1.94        28.8   \n",
       "1              151          9388211       −268,126        1.02        40.1   \n",
       "2               38          9147420        1230663        1.62        38.5   \n",
       "3              158          1811570        −39,509        2.10        30.4   \n",
       "4              331           770880     −1,235,336        3.50        20.6   \n",
       "\n",
       "  Urban Pop % World Share  \n",
       "0       37.1%      17.78%  \n",
       "1       67.5%      17.20%  \n",
       "2       82.8%       4.22%  \n",
       "3       59.6%       3.47%  \n",
       "4       34.4%       3.10%  "
      ]
     },
     "execution_count": 8,
     "metadata": {},
     "output_type": "execute_result"
    }
   ],
   "source": [
    "tables[0].head()"
   ]
  }
 ],
 "metadata": {
  "kernelspec": {
   "display_name": "data_scraping",
   "language": "python",
   "name": "python3"
  },
  "language_info": {
   "codemirror_mode": {
    "name": "ipython",
    "version": 3
   },
   "file_extension": ".py",
   "mimetype": "text/x-python",
   "name": "python",
   "nbconvert_exporter": "python",
   "pygments_lexer": "ipython3",
   "version": "3.9.21"
  }
 },
 "nbformat": 4,
 "nbformat_minor": 5
}
