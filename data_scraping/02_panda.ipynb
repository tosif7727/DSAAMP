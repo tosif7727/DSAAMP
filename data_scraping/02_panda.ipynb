{
 "cells": [
  {
   "cell_type": "markdown",
   "id": "7c618e74",
   "metadata": {},
   "source": [
    "### Data Scraping Using Pandas"
   ]
  },
  {
   "cell_type": "markdown",
   "id": "634d9d31",
   "metadata": {},
   "source": [
    "Notes:\n",
    "This code uses pandas.read_html() which requires lxml, html5lib, or bs4 (BeautifulSoup). You can install these with:\n",
    "```bash\n",
    "pip install lxml html5lib beautifulsoup4\n",
    "```\n"
   ]
  },
  {
   "cell_type": "code",
   "execution_count": 4,
   "id": "8ae9fbd7",
   "metadata": {},
   "outputs": [
    {
     "name": "stdout",
     "output_type": "stream",
     "text": [
      "Found 51 tables.\n",
      "  Islamic Republic of Pakistanاسلامی جمہوریہ پاكستان (Urdu)Islāmī Jumhūriyah Pākistān[1]  \\\n",
      "0                                 Flag  State emblem                                       \n",
      "1  Motto: Īmān, Ittihād, Nazam (Urdu) ایمان، اتحا...                                       \n",
      "2  Anthem: Qaumī Tarānah (Urdu) قَومی ترانہ \"The ...                                       \n",
      "3  Territory controlled by Pakistan Territory cla...                                       \n",
      "4                                            Capital                                       \n",
      "\n",
      "  Islamic Republic of Pakistanاسلامی جمہوریہ پاكستان (Urdu)Islāmī Jumhūriyah Pākistān[1].1  \n",
      "0                                 Flag  State emblem                                        \n",
      "1  Motto: Īmān, Ittihād, Nazam (Urdu) ایمان، اتحا...                                        \n",
      "2  Anthem: Qaumī Tarānah (Urdu) قَومی ترانہ \"The ...                                        \n",
      "3  Territory controlled by Pakistan Territory cla...                                        \n",
      "4  Islamabad 33°41′30″N 73°3′0″E﻿ / ﻿33.69167°N 7...                                        \n"
     ]
    }
   ],
   "source": [
    "import pandas as pd\n",
    "\n",
    "# URL of the page containing HTML tables\n",
    "url = 'https://en.wikipedia.org/wiki/Pakistan'\n",
    "\n",
    "# Read all tables from the webpage\n",
    "tables = pd.read_html(url)\n",
    "\n",
    "# Display how many tables were found\n",
    "print(f\"Found {len(tables)} tables.\")"
   ]
  },
  {
   "cell_type": "code",
   "execution_count": null,
   "id": "66d5fae0",
   "metadata": {},
   "outputs": [
    {
     "name": "stdout",
     "output_type": "stream",
     "text": [
      "  Administrative unit[277] Capital[278][279][280]  Population[281][282][283]\n",
      "0              Balochistan                 Quetta                   14894402\n",
      "1                   Punjab                 Lahore                  127688922\n",
      "2                    Sindh                Karachi                   55696147\n",
      "3       Khyber Pakhtunkhwa               Peshawar                   40856097\n",
      "4         Gilgit-Baltistan                 Gilgit                    1492924\n"
     ]
    }
   ],
   "source": [
    "# Display the first table (you can inspect or choose another if needed)\n",
    "df = tables[1]\n",
    "\n",
    "# Show first few rows of the DataFrame\n",
    "print(df.head())\n",
    "\n",
    "# Save the DataFrame to a CSV file\n",
    "df.to_csv('pakistan_data.csv', index=False)\n"
   ]
  }
 ],
 "metadata": {
  "kernelspec": {
   "display_name": "data_scraping",
   "language": "python",
   "name": "python3"
  },
  "language_info": {
   "codemirror_mode": {
    "name": "ipython",
    "version": 3
   },
   "file_extension": ".py",
   "mimetype": "text/x-python",
   "name": "python",
   "nbconvert_exporter": "python",
   "pygments_lexer": "ipython3",
   "version": "3.9.21"
  }
 },
 "nbformat": 4,
 "nbformat_minor": 5
}
