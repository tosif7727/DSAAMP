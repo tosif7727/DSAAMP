{
 "cells": [
  {
   "cell_type": "markdown",
   "id": "99b0a592",
   "metadata": {},
   "source": [
    "# Sub-setting in python\n",
    "selection subsetting is a common task in data analysis and manipulation. In this notebook, we will explore how to subset data using Python, specifically with the pandas library. We will cover different methods of subsetting data, including boolean indexing, label-based indexing, and position-based indexing.\n"
   ]
  },
  {
   "cell_type": "code",
   "execution_count": 2,
   "id": "51765f83",
   "metadata": {},
   "outputs": [],
   "source": [
    "# import libraries\n",
    "import os\n",
    "import sys\n",
    "import pandas as pd\n",
    "df = pd.read_csv('../data_scraping/datasets/pop_migration.csv')"
   ]
  },
  {
   "cell_type": "code",
   "execution_count": null,
   "id": "6733e8da",
   "metadata": {},
   "outputs": [
    {
     "data": {
      "application/vnd.microsoft.datawrangler.viewer.v0+json": {
       "columns": [
        {
         "name": "index",
         "rawType": "int64",
         "type": "integer"
        },
        {
         "name": "Country",
         "rawType": "object",
         "type": "string"
        }
       ],
       "conversionMethod": "pd.DataFrame",
       "ref": "02dd0303-6b5f-4032-95bb-d109dc516427",
       "rows": [
        [
         "0",
         "Afghanistan"
        ],
        [
         "1",
         "Afghanistan"
        ],
        [
         "2",
         "Afghanistan"
        ],
        [
         "3",
         "Afghanistan"
        ],
        [
         "4",
         "Afghanistan"
        ],
        [
         "5",
         "Afghanistan"
        ],
        [
         "6",
         "Afghanistan"
        ],
        [
         "7",
         "Afghanistan"
        ],
        [
         "8",
         "Afghanistan"
        ],
        [
         "9",
         "Afghanistan"
        ],
        [
         "10",
         "Afghanistan"
        ],
        [
         "11",
         "Afghanistan"
        ],
        [
         "12",
         "Afghanistan"
        ],
        [
         "13",
         "Afghanistan"
        ],
        [
         "14",
         "Afghanistan"
        ],
        [
         "15",
         "Afghanistan"
        ],
        [
         "16",
         "Afghanistan"
        ],
        [
         "17",
         "Afghanistan"
        ],
        [
         "18",
         "Afghanistan"
        ],
        [
         "19",
         "Afghanistan"
        ],
        [
         "20",
         "Afghanistan"
        ],
        [
         "21",
         "Afghanistan"
        ],
        [
         "22",
         "Afghanistan"
        ],
        [
         "23",
         "Afghanistan"
        ],
        [
         "24",
         "Afghanistan"
        ],
        [
         "25",
         "Afghanistan"
        ],
        [
         "26",
         "Afghanistan"
        ],
        [
         "27",
         "Afghanistan"
        ],
        [
         "28",
         "Afghanistan"
        ],
        [
         "29",
         "Afghanistan"
        ],
        [
         "30",
         "Afghanistan"
        ],
        [
         "31",
         "Afghanistan"
        ],
        [
         "32",
         "Afghanistan"
        ],
        [
         "33",
         "Afghanistan"
        ],
        [
         "34",
         "Afghanistan"
        ],
        [
         "35",
         "Afghanistan"
        ],
        [
         "36",
         "Afghanistan"
        ],
        [
         "37",
         "Afghanistan"
        ],
        [
         "38",
         "Afghanistan"
        ],
        [
         "39",
         "Afghanistan"
        ],
        [
         "40",
         "Afghanistan"
        ],
        [
         "41",
         "Afghanistan"
        ],
        [
         "42",
         "Afghanistan"
        ],
        [
         "43",
         "Afghanistan"
        ],
        [
         "44",
         "Afghanistan"
        ],
        [
         "45",
         "Afghanistan"
        ],
        [
         "46",
         "Afghanistan"
        ],
        [
         "47",
         "Afghanistan"
        ],
        [
         "48",
         "Afghanistan"
        ],
        [
         "49",
         "Afghanistan"
        ]
       ],
       "shape": {
        "columns": 1,
        "rows": 320
       }
      },
      "text/html": [
       "<div>\n",
       "<style scoped>\n",
       "    .dataframe tbody tr th:only-of-type {\n",
       "        vertical-align: middle;\n",
       "    }\n",
       "\n",
       "    .dataframe tbody tr th {\n",
       "        vertical-align: top;\n",
       "    }\n",
       "\n",
       "    .dataframe thead th {\n",
       "        text-align: right;\n",
       "    }\n",
       "</style>\n",
       "<table border=\"1\" class=\"dataframe\">\n",
       "  <thead>\n",
       "    <tr style=\"text-align: right;\">\n",
       "      <th></th>\n",
       "      <th>Country</th>\n",
       "    </tr>\n",
       "  </thead>\n",
       "  <tbody>\n",
       "    <tr>\n",
       "      <th>0</th>\n",
       "      <td>Afghanistan</td>\n",
       "    </tr>\n",
       "    <tr>\n",
       "      <th>1</th>\n",
       "      <td>Afghanistan</td>\n",
       "    </tr>\n",
       "    <tr>\n",
       "      <th>2</th>\n",
       "      <td>Afghanistan</td>\n",
       "    </tr>\n",
       "    <tr>\n",
       "      <th>3</th>\n",
       "      <td>Afghanistan</td>\n",
       "    </tr>\n",
       "    <tr>\n",
       "      <th>4</th>\n",
       "      <td>Afghanistan</td>\n",
       "    </tr>\n",
       "    <tr>\n",
       "      <th>...</th>\n",
       "      <td>...</td>\n",
       "    </tr>\n",
       "    <tr>\n",
       "      <th>315</th>\n",
       "      <td>Pakistan</td>\n",
       "    </tr>\n",
       "    <tr>\n",
       "      <th>316</th>\n",
       "      <td>Pakistan</td>\n",
       "    </tr>\n",
       "    <tr>\n",
       "      <th>317</th>\n",
       "      <td>Pakistan</td>\n",
       "    </tr>\n",
       "    <tr>\n",
       "      <th>318</th>\n",
       "      <td>Pakistan</td>\n",
       "    </tr>\n",
       "    <tr>\n",
       "      <th>319</th>\n",
       "      <td>Pakistan</td>\n",
       "    </tr>\n",
       "  </tbody>\n",
       "</table>\n",
       "<p>320 rows × 1 columns</p>\n",
       "</div>"
      ],
      "text/plain": [
       "         Country\n",
       "0    Afghanistan\n",
       "1    Afghanistan\n",
       "2    Afghanistan\n",
       "3    Afghanistan\n",
       "4    Afghanistan\n",
       "..           ...\n",
       "315     Pakistan\n",
       "316     Pakistan\n",
       "317     Pakistan\n",
       "318     Pakistan\n",
       "319     Pakistan\n",
       "\n",
       "[320 rows x 1 columns]"
      ]
     },
     "execution_count": 5,
     "metadata": {},
     "output_type": "execute_result"
    }
   ],
   "source": [
    "# subseting a column from the dataset\n",
    "df_country = df[['Country']]\n",
    "df_country"
   ]
  },
  {
   "cell_type": "code",
   "execution_count": 15,
   "id": "25fd9c15",
   "metadata": {},
   "outputs": [
    {
     "data": {
      "application/vnd.microsoft.datawrangler.viewer.v0+json": {
       "columns": [
        {
         "name": "index",
         "rawType": "int64",
         "type": "integer"
        },
        {
         "name": "Country",
         "rawType": "object",
         "type": "string"
        },
        {
         "name": "Year",
         "rawType": "int64",
         "type": "integer"
        },
        {
         "name": "total_population",
         "rawType": "float64",
         "type": "float"
        },
        {
         "name": "net_migration",
         "rawType": "float64",
         "type": "float"
        }
       ],
       "conversionMethod": "pd.DataFrame",
       "ref": "3332f018-ba5c-45ee-a96e-8dd351543db2",
       "rows": [
        [
         "0",
         "Afghanistan",
         "2023",
         "41454761.0",
         "-48958.0"
        ],
        [
         "1",
         "Afghanistan",
         "2022",
         "40578842.0",
         "-647402.0"
        ],
        [
         "2",
         "Afghanistan",
         "2021",
         "40000412.0",
         "-548784.0"
        ],
        [
         "3",
         "Afghanistan",
         "2020",
         "39068979.0",
         "143634.0"
        ],
        [
         "4",
         "Afghanistan",
         "2019",
         "37856121.0",
         "9159.0"
        ],
        [
         "5",
         "Afghanistan",
         "2018",
         "36743039.0",
         "-36753.0"
        ],
        [
         "6",
         "Afghanistan",
         "2017",
         "35688935.0",
         "-71491.0"
        ],
        [
         "7",
         "Afghanistan",
         "2016",
         "34700612.0",
         "-143049.0"
        ],
        [
         "8",
         "Afghanistan",
         "2015",
         "33831764.0",
         "-286314.0"
        ],
        [
         "9",
         "Afghanistan",
         "2014",
         "32792523.0",
         "233913.0"
        ],
        [
         "10",
         "Afghanistan",
         "2013",
         "31622704.0",
         "18119.0"
        ],
        [
         "11",
         "Afghanistan",
         "2012",
         "30560034.0",
         "68628.0"
        ],
        [
         "12",
         "Afghanistan",
         "2011",
         "29347708.0",
         "384486.0"
        ],
        [
         "13",
         "Afghanistan",
         "2010",
         "28284089.0",
         "-167460.0"
        ],
        [
         "14",
         "Afghanistan",
         "2009",
         "27466101.0",
         "-60602.0"
        ],
        [
         "15",
         "Afghanistan",
         "2008",
         "26482622.0",
         "215753.0"
        ],
        [
         "16",
         "Afghanistan",
         "2007",
         "25909852.0",
         "-851298.0"
        ],
        [
         "17",
         "Afghanistan",
         "2006",
         "25424094.0",
         "57673.0"
        ],
        [
         "18",
         "Afghanistan",
         "2005",
         "24404567.0",
         "250971.0"
        ],
        [
         "19",
         "Afghanistan",
         "2004",
         "23560654.0",
         "-269194.0"
        ],
        [
         "20",
         "Afghanistan",
         "2003",
         "22733049.0",
         "247317.0"
        ],
        [
         "21",
         "Afghanistan",
         "2002",
         "21378117.0",
         "860349.0"
        ],
        [
         "22",
         "Afghanistan",
         "2001",
         "20284307.0",
         "-212872.0"
        ],
        [
         "23",
         "Afghanistan",
         "2000",
         "20130327.0",
         "-1025973.0"
        ],
        [
         "24",
         "Afghanistan",
         "1999",
         "19887785.0",
         "-32400.0"
        ],
        [
         "25",
         "Afghanistan",
         "1998",
         "19159996.0",
         "7380.0"
        ],
        [
         "26",
         "Afghanistan",
         "1997",
         "18452091.0",
         "-21215.0"
        ],
        [
         "27",
         "Afghanistan",
         "1996",
         "17763266.0",
         "4072.0"
        ],
        [
         "28",
         "Afghanistan",
         "1995",
         "17065836.0",
         "52505.0"
        ],
        [
         "29",
         "Afghanistan",
         "1994",
         "16250794.0",
         "315206.0"
        ],
        [
         "30",
         "Afghanistan",
         "1993",
         "14943172.0",
         "1149684.0"
        ],
        [
         "31",
         "Afghanistan",
         "1992",
         "13278974.0",
         "1197329.0"
        ],
        [
         "32",
         "Afghanistan",
         "1991",
         "12238879.0",
         "32782.0"
        ],
        [
         "33",
         "Afghanistan",
         "1990",
         "12045660.0",
         "-458737.0"
        ],
        [
         "34",
         "Afghanistan",
         "1989",
         "11874088.0",
         "18296.0"
        ],
        [
         "35",
         "Afghanistan",
         "1988",
         "11523298.0",
         "-56263.0"
        ],
        [
         "36",
         "Afghanistan",
         "1987",
         "11387818.0",
         "-345535.0"
        ],
        [
         "37",
         "Afghanistan",
         "1986",
         "11420074.0",
         "-343397.0"
        ],
        [
         "38",
         "Afghanistan",
         "1985",
         "11426852.0",
         "-208685.0"
        ],
        [
         "39",
         "Afghanistan",
         "1984",
         "11190221.0",
         "248224.0"
        ],
        [
         "40",
         "Afghanistan",
         "1983",
         "10917982.0",
         "-172797.0"
        ],
        [
         "41",
         "Afghanistan",
         "1982",
         "10991378.0",
         "-500998.0"
        ],
        [
         "42",
         "Afghanistan",
         "1981",
         "11937581.0",
         "-1998086.0"
        ],
        [
         "43",
         "Afghanistan",
         "1980",
         "13169311.0",
         "-1174239.0"
        ],
        [
         "44",
         "Afghanistan",
         "1979",
         "13655567.0",
         "-525413.0"
        ],
        [
         "45",
         "Afghanistan",
         "1978",
         "13611441.0",
         "-117186.0"
        ],
        [
         "46",
         "Afghanistan",
         "1977",
         "13340756.0",
         "-83115.0"
        ],
        [
         "47",
         "Afghanistan",
         "1976",
         "13059851.0",
         "-85430.0"
        ],
        [
         "48",
         "Afghanistan",
         "1975",
         "12773954.0",
         "-44418.0"
        ],
        [
         "49",
         "Afghanistan",
         "1974",
         "12469127.0",
         "-20009.0"
        ]
       ],
       "shape": {
        "columns": 4,
        "rows": 320
       }
      },
      "text/html": [
       "<div>\n",
       "<style scoped>\n",
       "    .dataframe tbody tr th:only-of-type {\n",
       "        vertical-align: middle;\n",
       "    }\n",
       "\n",
       "    .dataframe tbody tr th {\n",
       "        vertical-align: top;\n",
       "    }\n",
       "\n",
       "    .dataframe thead th {\n",
       "        text-align: right;\n",
       "    }\n",
       "</style>\n",
       "<table border=\"1\" class=\"dataframe\">\n",
       "  <thead>\n",
       "    <tr style=\"text-align: right;\">\n",
       "      <th></th>\n",
       "      <th>Country</th>\n",
       "      <th>Year</th>\n",
       "      <th>total_population</th>\n",
       "      <th>net_migration</th>\n",
       "    </tr>\n",
       "  </thead>\n",
       "  <tbody>\n",
       "    <tr>\n",
       "      <th>0</th>\n",
       "      <td>Afghanistan</td>\n",
       "      <td>2023</td>\n",
       "      <td>41454761.0</td>\n",
       "      <td>-48958.0</td>\n",
       "    </tr>\n",
       "    <tr>\n",
       "      <th>1</th>\n",
       "      <td>Afghanistan</td>\n",
       "      <td>2022</td>\n",
       "      <td>40578842.0</td>\n",
       "      <td>-647402.0</td>\n",
       "    </tr>\n",
       "    <tr>\n",
       "      <th>2</th>\n",
       "      <td>Afghanistan</td>\n",
       "      <td>2021</td>\n",
       "      <td>40000412.0</td>\n",
       "      <td>-548784.0</td>\n",
       "    </tr>\n",
       "    <tr>\n",
       "      <th>3</th>\n",
       "      <td>Afghanistan</td>\n",
       "      <td>2020</td>\n",
       "      <td>39068979.0</td>\n",
       "      <td>143634.0</td>\n",
       "    </tr>\n",
       "    <tr>\n",
       "      <th>4</th>\n",
       "      <td>Afghanistan</td>\n",
       "      <td>2019</td>\n",
       "      <td>37856121.0</td>\n",
       "      <td>9159.0</td>\n",
       "    </tr>\n",
       "    <tr>\n",
       "      <th>...</th>\n",
       "      <td>...</td>\n",
       "      <td>...</td>\n",
       "      <td>...</td>\n",
       "      <td>...</td>\n",
       "    </tr>\n",
       "    <tr>\n",
       "      <th>315</th>\n",
       "      <td>Pakistan</td>\n",
       "      <td>1964</td>\n",
       "      <td>50799999.0</td>\n",
       "      <td>-63298.0</td>\n",
       "    </tr>\n",
       "    <tr>\n",
       "      <th>316</th>\n",
       "      <td>Pakistan</td>\n",
       "      <td>1963</td>\n",
       "      <td>49447776.0</td>\n",
       "      <td>-64552.0</td>\n",
       "    </tr>\n",
       "    <tr>\n",
       "      <th>317</th>\n",
       "      <td>Pakistan</td>\n",
       "      <td>1962</td>\n",
       "      <td>48156128.0</td>\n",
       "      <td>-65780.0</td>\n",
       "    </tr>\n",
       "    <tr>\n",
       "      <th>318</th>\n",
       "      <td>Pakistan</td>\n",
       "      <td>1961</td>\n",
       "      <td>46921277.0</td>\n",
       "      <td>-66991.0</td>\n",
       "    </tr>\n",
       "    <tr>\n",
       "      <th>319</th>\n",
       "      <td>Pakistan</td>\n",
       "      <td>1960</td>\n",
       "      <td>45709310.0</td>\n",
       "      <td>0.0</td>\n",
       "    </tr>\n",
       "  </tbody>\n",
       "</table>\n",
       "<p>320 rows × 4 columns</p>\n",
       "</div>"
      ],
      "text/plain": [
       "         Country  Year  total_population  net_migration\n",
       "0    Afghanistan  2023        41454761.0       -48958.0\n",
       "1    Afghanistan  2022        40578842.0      -647402.0\n",
       "2    Afghanistan  2021        40000412.0      -548784.0\n",
       "3    Afghanistan  2020        39068979.0       143634.0\n",
       "4    Afghanistan  2019        37856121.0         9159.0\n",
       "..           ...   ...               ...            ...\n",
       "315     Pakistan  1964        50799999.0       -63298.0\n",
       "316     Pakistan  1963        49447776.0       -64552.0\n",
       "317     Pakistan  1962        48156128.0       -65780.0\n",
       "318     Pakistan  1961        46921277.0       -66991.0\n",
       "319     Pakistan  1960        45709310.0            0.0\n",
       "\n",
       "[320 rows x 4 columns]"
      ]
     },
     "execution_count": 15,
     "metadata": {},
     "output_type": "execute_result"
    }
   ],
   "source": [
    "df_year = df[['Year']]\n",
    "df"
   ]
  },
  {
   "cell_type": "code",
   "execution_count": 24,
   "id": "1611c42b",
   "metadata": {},
   "outputs": [
    {
     "data": {
      "application/vnd.microsoft.datawrangler.viewer.v0+json": {
       "columns": [
        {
         "name": "index",
         "rawType": "int64",
         "type": "integer"
        },
        {
         "name": "Country",
         "rawType": "object",
         "type": "string"
        },
        {
         "name": "Year",
         "rawType": "int64",
         "type": "integer"
        }
       ],
       "conversionMethod": "pd.DataFrame",
       "ref": "6cb9bf3d-9962-4f23-9066-7a131b90a97f",
       "rows": [
        [
         "0",
         "Afghanistan",
         "2023"
        ],
        [
         "1",
         "Afghanistan",
         "2022"
        ],
        [
         "2",
         "Afghanistan",
         "2021"
        ],
        [
         "3",
         "Afghanistan",
         "2020"
        ],
        [
         "4",
         "Afghanistan",
         "2019"
        ],
        [
         "5",
         "Afghanistan",
         "2018"
        ],
        [
         "6",
         "Afghanistan",
         "2017"
        ],
        [
         "7",
         "Afghanistan",
         "2016"
        ],
        [
         "8",
         "Afghanistan",
         "2015"
        ],
        [
         "9",
         "Afghanistan",
         "2014"
        ],
        [
         "10",
         "Afghanistan",
         "2013"
        ],
        [
         "11",
         "Afghanistan",
         "2012"
        ],
        [
         "12",
         "Afghanistan",
         "2011"
        ],
        [
         "13",
         "Afghanistan",
         "2010"
        ],
        [
         "14",
         "Afghanistan",
         "2009"
        ],
        [
         "15",
         "Afghanistan",
         "2008"
        ],
        [
         "16",
         "Afghanistan",
         "2007"
        ],
        [
         "17",
         "Afghanistan",
         "2006"
        ],
        [
         "18",
         "Afghanistan",
         "2005"
        ],
        [
         "19",
         "Afghanistan",
         "2004"
        ],
        [
         "20",
         "Afghanistan",
         "2003"
        ],
        [
         "21",
         "Afghanistan",
         "2002"
        ],
        [
         "22",
         "Afghanistan",
         "2001"
        ],
        [
         "23",
         "Afghanistan",
         "2000"
        ],
        [
         "24",
         "Afghanistan",
         "1999"
        ],
        [
         "25",
         "Afghanistan",
         "1998"
        ],
        [
         "26",
         "Afghanistan",
         "1997"
        ],
        [
         "27",
         "Afghanistan",
         "1996"
        ],
        [
         "28",
         "Afghanistan",
         "1995"
        ],
        [
         "29",
         "Afghanistan",
         "1994"
        ],
        [
         "30",
         "Afghanistan",
         "1993"
        ],
        [
         "31",
         "Afghanistan",
         "1992"
        ],
        [
         "32",
         "Afghanistan",
         "1991"
        ],
        [
         "33",
         "Afghanistan",
         "1990"
        ],
        [
         "34",
         "Afghanistan",
         "1989"
        ],
        [
         "35",
         "Afghanistan",
         "1988"
        ],
        [
         "36",
         "Afghanistan",
         "1987"
        ],
        [
         "37",
         "Afghanistan",
         "1986"
        ],
        [
         "38",
         "Afghanistan",
         "1985"
        ],
        [
         "39",
         "Afghanistan",
         "1984"
        ],
        [
         "40",
         "Afghanistan",
         "1983"
        ],
        [
         "41",
         "Afghanistan",
         "1982"
        ],
        [
         "42",
         "Afghanistan",
         "1981"
        ],
        [
         "43",
         "Afghanistan",
         "1980"
        ],
        [
         "44",
         "Afghanistan",
         "1979"
        ],
        [
         "45",
         "Afghanistan",
         "1978"
        ],
        [
         "46",
         "Afghanistan",
         "1977"
        ],
        [
         "47",
         "Afghanistan",
         "1976"
        ],
        [
         "48",
         "Afghanistan",
         "1975"
        ],
        [
         "49",
         "Afghanistan",
         "1974"
        ]
       ],
       "shape": {
        "columns": 2,
        "rows": 320
       }
      },
      "text/html": [
       "<div>\n",
       "<style scoped>\n",
       "    .dataframe tbody tr th:only-of-type {\n",
       "        vertical-align: middle;\n",
       "    }\n",
       "\n",
       "    .dataframe tbody tr th {\n",
       "        vertical-align: top;\n",
       "    }\n",
       "\n",
       "    .dataframe thead th {\n",
       "        text-align: right;\n",
       "    }\n",
       "</style>\n",
       "<table border=\"1\" class=\"dataframe\">\n",
       "  <thead>\n",
       "    <tr style=\"text-align: right;\">\n",
       "      <th></th>\n",
       "      <th>Country</th>\n",
       "      <th>Year</th>\n",
       "    </tr>\n",
       "  </thead>\n",
       "  <tbody>\n",
       "    <tr>\n",
       "      <th>0</th>\n",
       "      <td>Afghanistan</td>\n",
       "      <td>2023</td>\n",
       "    </tr>\n",
       "    <tr>\n",
       "      <th>1</th>\n",
       "      <td>Afghanistan</td>\n",
       "      <td>2022</td>\n",
       "    </tr>\n",
       "    <tr>\n",
       "      <th>2</th>\n",
       "      <td>Afghanistan</td>\n",
       "      <td>2021</td>\n",
       "    </tr>\n",
       "    <tr>\n",
       "      <th>3</th>\n",
       "      <td>Afghanistan</td>\n",
       "      <td>2020</td>\n",
       "    </tr>\n",
       "    <tr>\n",
       "      <th>4</th>\n",
       "      <td>Afghanistan</td>\n",
       "      <td>2019</td>\n",
       "    </tr>\n",
       "    <tr>\n",
       "      <th>...</th>\n",
       "      <td>...</td>\n",
       "      <td>...</td>\n",
       "    </tr>\n",
       "    <tr>\n",
       "      <th>315</th>\n",
       "      <td>Pakistan</td>\n",
       "      <td>1964</td>\n",
       "    </tr>\n",
       "    <tr>\n",
       "      <th>316</th>\n",
       "      <td>Pakistan</td>\n",
       "      <td>1963</td>\n",
       "    </tr>\n",
       "    <tr>\n",
       "      <th>317</th>\n",
       "      <td>Pakistan</td>\n",
       "      <td>1962</td>\n",
       "    </tr>\n",
       "    <tr>\n",
       "      <th>318</th>\n",
       "      <td>Pakistan</td>\n",
       "      <td>1961</td>\n",
       "    </tr>\n",
       "    <tr>\n",
       "      <th>319</th>\n",
       "      <td>Pakistan</td>\n",
       "      <td>1960</td>\n",
       "    </tr>\n",
       "  </tbody>\n",
       "</table>\n",
       "<p>320 rows × 2 columns</p>\n",
       "</div>"
      ],
      "text/plain": [
       "         Country  Year\n",
       "0    Afghanistan  2023\n",
       "1    Afghanistan  2022\n",
       "2    Afghanistan  2021\n",
       "3    Afghanistan  2020\n",
       "4    Afghanistan  2019\n",
       "..           ...   ...\n",
       "315     Pakistan  1964\n",
       "316     Pakistan  1963\n",
       "317     Pakistan  1962\n",
       "318     Pakistan  1961\n",
       "319     Pakistan  1960\n",
       "\n",
       "[320 rows x 2 columns]"
      ]
     },
     "execution_count": 24,
     "metadata": {},
     "output_type": "execute_result"
    }
   ],
   "source": [
    "# subsetting of two column from dataframe\n",
    "df_contry_year = df[[\"Country\" , \"Year\"]]\n",
    "df_contry_year"
   ]
  },
  {
   "cell_type": "code",
   "execution_count": 26,
   "id": "ed94d2eb",
   "metadata": {},
   "outputs": [
    {
     "data": {
      "application/vnd.microsoft.datawrangler.viewer.v0+json": {
       "columns": [
        {
         "name": "index",
         "rawType": "int64",
         "type": "integer"
        },
        {
         "name": "Country",
         "rawType": "object",
         "type": "string"
        },
        {
         "name": "Year",
         "rawType": "int64",
         "type": "integer"
        },
        {
         "name": "total_population",
         "rawType": "float64",
         "type": "float"
        },
        {
         "name": "net_migration",
         "rawType": "float64",
         "type": "float"
        }
       ],
       "conversionMethod": "pd.DataFrame",
       "ref": "0a110c44-b81d-4834-a0d2-8a73fccfef7c",
       "rows": [
        [
         "3",
         "Afghanistan",
         "2020",
         "39068979.0",
         "143634.0"
        ],
        [
         "67",
         "Bangladesh",
         "2020",
         "166298024.0",
         "-1002522.0"
        ],
        [
         "131",
         "India",
         "2020",
         "1402617695.0",
         "-73806.0"
        ],
        [
         "195",
         "Sri Lanka",
         "2020",
         "21919000.0",
         "-29875.0"
        ],
        [
         "259",
         "Pakistan",
         "2020",
         "235001746.0",
         "-559291.0"
        ]
       ],
       "shape": {
        "columns": 4,
        "rows": 5
       }
      },
      "text/html": [
       "<div>\n",
       "<style scoped>\n",
       "    .dataframe tbody tr th:only-of-type {\n",
       "        vertical-align: middle;\n",
       "    }\n",
       "\n",
       "    .dataframe tbody tr th {\n",
       "        vertical-align: top;\n",
       "    }\n",
       "\n",
       "    .dataframe thead th {\n",
       "        text-align: right;\n",
       "    }\n",
       "</style>\n",
       "<table border=\"1\" class=\"dataframe\">\n",
       "  <thead>\n",
       "    <tr style=\"text-align: right;\">\n",
       "      <th></th>\n",
       "      <th>Country</th>\n",
       "      <th>Year</th>\n",
       "      <th>total_population</th>\n",
       "      <th>net_migration</th>\n",
       "    </tr>\n",
       "  </thead>\n",
       "  <tbody>\n",
       "    <tr>\n",
       "      <th>3</th>\n",
       "      <td>Afghanistan</td>\n",
       "      <td>2020</td>\n",
       "      <td>3.906898e+07</td>\n",
       "      <td>143634.0</td>\n",
       "    </tr>\n",
       "    <tr>\n",
       "      <th>67</th>\n",
       "      <td>Bangladesh</td>\n",
       "      <td>2020</td>\n",
       "      <td>1.662980e+08</td>\n",
       "      <td>-1002522.0</td>\n",
       "    </tr>\n",
       "    <tr>\n",
       "      <th>131</th>\n",
       "      <td>India</td>\n",
       "      <td>2020</td>\n",
       "      <td>1.402618e+09</td>\n",
       "      <td>-73806.0</td>\n",
       "    </tr>\n",
       "    <tr>\n",
       "      <th>195</th>\n",
       "      <td>Sri Lanka</td>\n",
       "      <td>2020</td>\n",
       "      <td>2.191900e+07</td>\n",
       "      <td>-29875.0</td>\n",
       "    </tr>\n",
       "    <tr>\n",
       "      <th>259</th>\n",
       "      <td>Pakistan</td>\n",
       "      <td>2020</td>\n",
       "      <td>2.350017e+08</td>\n",
       "      <td>-559291.0</td>\n",
       "    </tr>\n",
       "  </tbody>\n",
       "</table>\n",
       "</div>"
      ],
      "text/plain": [
       "         Country  Year  total_population  net_migration\n",
       "3    Afghanistan  2020      3.906898e+07       143634.0\n",
       "67    Bangladesh  2020      1.662980e+08     -1002522.0\n",
       "131        India  2020      1.402618e+09       -73806.0\n",
       "195    Sri Lanka  2020      2.191900e+07       -29875.0\n",
       "259     Pakistan  2020      2.350017e+08      -559291.0"
      ]
     },
     "execution_count": 26,
     "metadata": {},
     "output_type": "execute_result"
    }
   ],
   "source": [
    "# filter the dataset by year\n",
    "df_2020 = df[df[\"Year\"] == 2020]\n",
    "df_2020"
   ]
  },
  {
   "cell_type": "code",
   "execution_count": 29,
   "id": "02f5f105",
   "metadata": {},
   "outputs": [
    {
     "data": {
      "application/vnd.microsoft.datawrangler.viewer.v0+json": {
       "columns": [
        {
         "name": "index",
         "rawType": "int64",
         "type": "integer"
        },
        {
         "name": "Country",
         "rawType": "object",
         "type": "string"
        },
        {
         "name": "Year",
         "rawType": "int64",
         "type": "integer"
        },
        {
         "name": "total_population",
         "rawType": "float64",
         "type": "float"
        },
        {
         "name": "net_migration",
         "rawType": "float64",
         "type": "float"
        }
       ],
       "conversionMethod": "pd.DataFrame",
       "ref": "09cf2851-87d5-4e26-b462-1117a4a6d77b",
       "rows": [
        [
         "256",
         "Pakistan",
         "2023",
         "247504495.0",
         "-1619557.0"
        ],
        [
         "257",
         "Pakistan",
         "2022",
         "243700667.0",
         "-1322625.0"
        ],
        [
         "258",
         "Pakistan",
         "2021",
         "239477801.0",
         "-565673.0"
        ],
        [
         "259",
         "Pakistan",
         "2020",
         "235001746.0",
         "-559291.0"
        ],
        [
         "260",
         "Pakistan",
         "2019",
         "230800899.0",
         "-1177220.0"
        ],
        [
         "261",
         "Pakistan",
         "2018",
         "226928892.0",
         "-1309611.0"
        ],
        [
         "262",
         "Pakistan",
         "2017",
         "223273967.0",
         "-1574585.0"
        ],
        [
         "263",
         "Pakistan",
         "2016",
         "220138869.0",
         "-2290411.0"
        ],
        [
         "264",
         "Pakistan",
         "2015",
         "217290883.0",
         "-2172162.0"
        ],
        [
         "265",
         "Pakistan",
         "2014",
         "214264647.0",
         "-2037920.0"
        ],
        [
         "266",
         "Pakistan",
         "2013",
         "211073978.0",
         "-1906319.0"
        ],
        [
         "267",
         "Pakistan",
         "2012",
         "207667125.0",
         "-1647989.0"
        ],
        [
         "268",
         "Pakistan",
         "2011",
         "203746065.0",
         "-890633.0"
        ],
        [
         "269",
         "Pakistan",
         "2010",
         "199239047.0",
         "-431902.0"
        ],
        [
         "270",
         "Pakistan",
         "2009",
         "194376534.0",
         "-18298.0"
        ],
        [
         "271",
         "Pakistan",
         "2008",
         "189499113.0",
         "-140746.0"
        ],
        [
         "272",
         "Pakistan",
         "2007",
         "184493231.0",
         "576349.0"
        ],
        [
         "273",
         "Pakistan",
         "2006",
         "179682690.0",
         "-183933.0"
        ],
        [
         "274",
         "Pakistan",
         "2005",
         "175453212.0",
         "-189899.0"
        ],
        [
         "275",
         "Pakistan",
         "2004",
         "171286000.0",
         "-64669.0"
        ],
        [
         "276",
         "Pakistan",
         "2003",
         "167110248.0",
         "-219118.0"
        ],
        [
         "277",
         "Pakistan",
         "2002",
         "163222549.0",
         "-653758.0"
        ],
        [
         "278",
         "Pakistan",
         "2001",
         "159270907.0",
         "-54727.0"
        ],
        [
         "279",
         "Pakistan",
         "2000",
         "154879127.0",
         "252869.0"
        ],
        [
         "280",
         "Pakistan",
         "1999",
         "150565377.0",
         "-134510.0"
        ],
        [
         "281",
         "Pakistan",
         "1998",
         "146522356.0",
         "-112191.0"
        ],
        [
         "282",
         "Pakistan",
         "1997",
         "142531804.0",
         "-55539.0"
        ],
        [
         "283",
         "Pakistan",
         "1996",
         "138557092.0",
         "-60855.0"
        ],
        [
         "284",
         "Pakistan",
         "1995",
         "134582253.0",
         "11534.0"
        ],
        [
         "285",
         "Pakistan",
         "1994",
         "130748083.0",
         "-277100.0"
        ],
        [
         "286",
         "Pakistan",
         "1993",
         "127020117.0",
         "-139493.0"
        ],
        [
         "287",
         "Pakistan",
         "1992",
         "123546848.0",
         "-718387.0"
        ],
        [
         "288",
         "Pakistan",
         "1991",
         "120060406.0",
         "-19668.0"
        ],
        [
         "289",
         "Pakistan",
         "1990",
         "116155576.0",
         "275242.0"
        ],
        [
         "290",
         "Pakistan",
         "1989",
         "112336629.0",
         "-17164.0"
        ],
        [
         "291",
         "Pakistan",
         "1988",
         "108724739.0",
         "38139.0"
        ],
        [
         "292",
         "Pakistan",
         "1987",
         "105130717.0",
         "146364.0"
        ],
        [
         "293",
         "Pakistan",
         "1986",
         "101606764.0",
         "111045.0"
        ],
        [
         "294",
         "Pakistan",
         "1985",
         "98229285.0",
         "68860.0"
        ],
        [
         "295",
         "Pakistan",
         "1984",
         "95164936.0",
         "-319242.0"
        ],
        [
         "296",
         "Pakistan",
         "1983",
         "92227711.0",
         "-4753.0"
        ],
        [
         "297",
         "Pakistan",
         "1982",
         "89089246.0",
         "294252.0"
        ],
        [
         "298",
         "Pakistan",
         "1981",
         "85802049.0",
         "555032.0"
        ],
        [
         "299",
         "Pakistan",
         "1980",
         "82291010.0",
         "1078229.0"
        ],
        [
         "300",
         "Pakistan",
         "1979",
         "78997039.0",
         "450003.0"
        ],
        [
         "301",
         "Pakistan",
         "1978",
         "76307379.0",
         "111386.0"
        ],
        [
         "302",
         "Pakistan",
         "1977",
         "73901827.0",
         "85250.0"
        ],
        [
         "303",
         "Pakistan",
         "1976",
         "71620254.0",
         "48238.0"
        ],
        [
         "304",
         "Pakistan",
         "1975",
         "69461175.0",
         "-1710.0"
        ],
        [
         "305",
         "Pakistan",
         "1974",
         "67415487.0",
         "-34785.0"
        ]
       ],
       "shape": {
        "columns": 4,
        "rows": 64
       }
      },
      "text/html": [
       "<div>\n",
       "<style scoped>\n",
       "    .dataframe tbody tr th:only-of-type {\n",
       "        vertical-align: middle;\n",
       "    }\n",
       "\n",
       "    .dataframe tbody tr th {\n",
       "        vertical-align: top;\n",
       "    }\n",
       "\n",
       "    .dataframe thead th {\n",
       "        text-align: right;\n",
       "    }\n",
       "</style>\n",
       "<table border=\"1\" class=\"dataframe\">\n",
       "  <thead>\n",
       "    <tr style=\"text-align: right;\">\n",
       "      <th></th>\n",
       "      <th>Country</th>\n",
       "      <th>Year</th>\n",
       "      <th>total_population</th>\n",
       "      <th>net_migration</th>\n",
       "    </tr>\n",
       "  </thead>\n",
       "  <tbody>\n",
       "    <tr>\n",
       "      <th>256</th>\n",
       "      <td>Pakistan</td>\n",
       "      <td>2023</td>\n",
       "      <td>247504495.0</td>\n",
       "      <td>-1619557.0</td>\n",
       "    </tr>\n",
       "    <tr>\n",
       "      <th>257</th>\n",
       "      <td>Pakistan</td>\n",
       "      <td>2022</td>\n",
       "      <td>243700667.0</td>\n",
       "      <td>-1322625.0</td>\n",
       "    </tr>\n",
       "    <tr>\n",
       "      <th>258</th>\n",
       "      <td>Pakistan</td>\n",
       "      <td>2021</td>\n",
       "      <td>239477801.0</td>\n",
       "      <td>-565673.0</td>\n",
       "    </tr>\n",
       "    <tr>\n",
       "      <th>259</th>\n",
       "      <td>Pakistan</td>\n",
       "      <td>2020</td>\n",
       "      <td>235001746.0</td>\n",
       "      <td>-559291.0</td>\n",
       "    </tr>\n",
       "    <tr>\n",
       "      <th>260</th>\n",
       "      <td>Pakistan</td>\n",
       "      <td>2019</td>\n",
       "      <td>230800899.0</td>\n",
       "      <td>-1177220.0</td>\n",
       "    </tr>\n",
       "    <tr>\n",
       "      <th>...</th>\n",
       "      <td>...</td>\n",
       "      <td>...</td>\n",
       "      <td>...</td>\n",
       "      <td>...</td>\n",
       "    </tr>\n",
       "    <tr>\n",
       "      <th>315</th>\n",
       "      <td>Pakistan</td>\n",
       "      <td>1964</td>\n",
       "      <td>50799999.0</td>\n",
       "      <td>-63298.0</td>\n",
       "    </tr>\n",
       "    <tr>\n",
       "      <th>316</th>\n",
       "      <td>Pakistan</td>\n",
       "      <td>1963</td>\n",
       "      <td>49447776.0</td>\n",
       "      <td>-64552.0</td>\n",
       "    </tr>\n",
       "    <tr>\n",
       "      <th>317</th>\n",
       "      <td>Pakistan</td>\n",
       "      <td>1962</td>\n",
       "      <td>48156128.0</td>\n",
       "      <td>-65780.0</td>\n",
       "    </tr>\n",
       "    <tr>\n",
       "      <th>318</th>\n",
       "      <td>Pakistan</td>\n",
       "      <td>1961</td>\n",
       "      <td>46921277.0</td>\n",
       "      <td>-66991.0</td>\n",
       "    </tr>\n",
       "    <tr>\n",
       "      <th>319</th>\n",
       "      <td>Pakistan</td>\n",
       "      <td>1960</td>\n",
       "      <td>45709310.0</td>\n",
       "      <td>0.0</td>\n",
       "    </tr>\n",
       "  </tbody>\n",
       "</table>\n",
       "<p>64 rows × 4 columns</p>\n",
       "</div>"
      ],
      "text/plain": [
       "      Country  Year  total_population  net_migration\n",
       "256  Pakistan  2023       247504495.0     -1619557.0\n",
       "257  Pakistan  2022       243700667.0     -1322625.0\n",
       "258  Pakistan  2021       239477801.0      -565673.0\n",
       "259  Pakistan  2020       235001746.0      -559291.0\n",
       "260  Pakistan  2019       230800899.0     -1177220.0\n",
       "..        ...   ...               ...            ...\n",
       "315  Pakistan  1964        50799999.0       -63298.0\n",
       "316  Pakistan  1963        49447776.0       -64552.0\n",
       "317  Pakistan  1962        48156128.0       -65780.0\n",
       "318  Pakistan  1961        46921277.0       -66991.0\n",
       "319  Pakistan  1960        45709310.0            0.0\n",
       "\n",
       "[64 rows x 4 columns]"
      ]
     },
     "execution_count": 29,
     "metadata": {},
     "output_type": "execute_result"
    }
   ],
   "source": [
    "# filter the dataset by country\n",
    "df_couy = df[df[\"Country\"] == \"Pakistan\" ]\n",
    "df_couy"
   ]
  },
  {
   "cell_type": "code",
   "execution_count": 33,
   "id": "cf85defb",
   "metadata": {},
   "outputs": [
    {
     "data": {
      "application/vnd.microsoft.datawrangler.viewer.v0+json": {
       "columns": [
        {
         "name": "index",
         "rawType": "int64",
         "type": "integer"
        },
        {
         "name": "Country",
         "rawType": "object",
         "type": "string"
        },
        {
         "name": "Year",
         "rawType": "int64",
         "type": "integer"
        },
        {
         "name": "total_population",
         "rawType": "float64",
         "type": "float"
        },
        {
         "name": "net_migration",
         "rawType": "float64",
         "type": "float"
        }
       ],
       "conversionMethod": "pd.DataFrame",
       "ref": "fae97aeb-b28a-4c8e-b04b-2a9c0cb83e9d",
       "rows": [
        [
         "3",
         "Afghanistan",
         "2020",
         "39068979.0",
         "143634.0"
        ],
        [
         "4",
         "Afghanistan",
         "2019",
         "37856121.0",
         "9159.0"
        ],
        [
         "9",
         "Afghanistan",
         "2014",
         "32792523.0",
         "233913.0"
        ],
        [
         "10",
         "Afghanistan",
         "2013",
         "31622704.0",
         "18119.0"
        ],
        [
         "11",
         "Afghanistan",
         "2012",
         "30560034.0",
         "68628.0"
        ],
        [
         "12",
         "Afghanistan",
         "2011",
         "29347708.0",
         "384486.0"
        ],
        [
         "15",
         "Afghanistan",
         "2008",
         "26482622.0",
         "215753.0"
        ],
        [
         "17",
         "Afghanistan",
         "2006",
         "25424094.0",
         "57673.0"
        ],
        [
         "18",
         "Afghanistan",
         "2005",
         "24404567.0",
         "250971.0"
        ],
        [
         "20",
         "Afghanistan",
         "2003",
         "22733049.0",
         "247317.0"
        ],
        [
         "21",
         "Afghanistan",
         "2002",
         "21378117.0",
         "860349.0"
        ],
        [
         "25",
         "Afghanistan",
         "1998",
         "19159996.0",
         "7380.0"
        ],
        [
         "27",
         "Afghanistan",
         "1996",
         "17763266.0",
         "4072.0"
        ],
        [
         "28",
         "Afghanistan",
         "1995",
         "17065836.0",
         "52505.0"
        ],
        [
         "29",
         "Afghanistan",
         "1994",
         "16250794.0",
         "315206.0"
        ],
        [
         "30",
         "Afghanistan",
         "1993",
         "14943172.0",
         "1149684.0"
        ],
        [
         "31",
         "Afghanistan",
         "1992",
         "13278974.0",
         "1197329.0"
        ],
        [
         "32",
         "Afghanistan",
         "1991",
         "12238879.0",
         "32782.0"
        ],
        [
         "34",
         "Afghanistan",
         "1989",
         "11874088.0",
         "18296.0"
        ],
        [
         "39",
         "Afghanistan",
         "1984",
         "11190221.0",
         "248224.0"
        ],
        [
         "53",
         "Afghanistan",
         "1970",
         "11290128.0",
         "4458.0"
        ],
        [
         "54",
         "Afghanistan",
         "1969",
         "11017409.0",
         "2029.0"
        ],
        [
         "55",
         "Afghanistan",
         "1968",
         "10756922.0",
         "3333.0"
        ],
        [
         "56",
         "Afghanistan",
         "1967",
         "10505959.0",
         "6824.0"
        ],
        [
         "57",
         "Afghanistan",
         "1966",
         "10266395.0",
         "3563.0"
        ],
        [
         "58",
         "Afghanistan",
         "1965",
         "10036008.0",
         "10695.0"
        ],
        [
         "59",
         "Afghanistan",
         "1964",
         "9814318.0",
         "7079.0"
        ],
        [
         "60",
         "Afghanistan",
         "1963",
         "9604487.0",
         "6681.0"
        ],
        [
         "61",
         "Afghanistan",
         "1962",
         "9404406.0",
         "7016.0"
        ],
        [
         "62",
         "Afghanistan",
         "1961",
         "9214083.0",
         "6109.0"
        ],
        [
         "63",
         "Afghanistan",
         "1960",
         "9035043.0",
         "2606.0"
        ],
        [
         "116",
         "Bangladesh",
         "1971",
         "70276758.0",
         "224369.0"
        ],
        [
         "120",
         "Bangladesh",
         "1967",
         "63510929.0",
         "23164.0"
        ],
        [
         "121",
         "Bangladesh",
         "1966",
         "61669806.0",
         "3758.0"
        ],
        [
         "122",
         "Bangladesh",
         "1965",
         "59902519.0",
         "47610.0"
        ],
        [
         "123",
         "Bangladesh",
         "1964",
         "58178374.0",
         "25426.0"
        ],
        [
         "124",
         "Bangladesh",
         "1963",
         "56504402.0",
         "23215.0"
        ],
        [
         "125",
         "Bangladesh",
         "1962",
         "54881146.0",
         "26533.0"
        ],
        [
         "126",
         "Bangladesh",
         "1961",
         "53310348.0",
         "26503.0"
        ],
        [
         "127",
         "Bangladesh",
         "1960",
         "51828660.0",
         "13580.0"
        ],
        [
         "135",
         "India",
         "2016",
         "1343944296.0",
         "81248.0"
        ],
        [
         "154",
         "India",
         "1997",
         "999133762.0",
         "880.0"
        ],
        [
         "158",
         "India",
         "1993",
         "922118387.0",
         "2364.0"
        ],
        [
         "159",
         "India",
         "1992",
         "902957070.0",
         "35155.0"
        ],
        [
         "161",
         "India",
         "1990",
         "864972221.0",
         "125514.0"
        ],
        [
         "168",
         "India",
         "1983",
         "737372681.0",
         "119694.0"
        ],
        [
         "170",
         "India",
         "1981",
         "703696250.0",
         "33243.0"
        ],
        [
         "171",
         "India",
         "1980",
         "687354025.0",
         "210914.0"
        ],
        [
         "172",
         "India",
         "1979",
         "671155747.0",
         "774094.0"
        ],
        [
         "174",
         "India",
         "1977",
         "640801103.0",
         "590626.0"
        ]
       ],
       "shape": {
        "columns": 4,
        "rows": 83
       }
      },
      "text/html": [
       "<div>\n",
       "<style scoped>\n",
       "    .dataframe tbody tr th:only-of-type {\n",
       "        vertical-align: middle;\n",
       "    }\n",
       "\n",
       "    .dataframe tbody tr th {\n",
       "        vertical-align: top;\n",
       "    }\n",
       "\n",
       "    .dataframe thead th {\n",
       "        text-align: right;\n",
       "    }\n",
       "</style>\n",
       "<table border=\"1\" class=\"dataframe\">\n",
       "  <thead>\n",
       "    <tr style=\"text-align: right;\">\n",
       "      <th></th>\n",
       "      <th>Country</th>\n",
       "      <th>Year</th>\n",
       "      <th>total_population</th>\n",
       "      <th>net_migration</th>\n",
       "    </tr>\n",
       "  </thead>\n",
       "  <tbody>\n",
       "    <tr>\n",
       "      <th>3</th>\n",
       "      <td>Afghanistan</td>\n",
       "      <td>2020</td>\n",
       "      <td>39068979.0</td>\n",
       "      <td>143634.0</td>\n",
       "    </tr>\n",
       "    <tr>\n",
       "      <th>4</th>\n",
       "      <td>Afghanistan</td>\n",
       "      <td>2019</td>\n",
       "      <td>37856121.0</td>\n",
       "      <td>9159.0</td>\n",
       "    </tr>\n",
       "    <tr>\n",
       "      <th>9</th>\n",
       "      <td>Afghanistan</td>\n",
       "      <td>2014</td>\n",
       "      <td>32792523.0</td>\n",
       "      <td>233913.0</td>\n",
       "    </tr>\n",
       "    <tr>\n",
       "      <th>10</th>\n",
       "      <td>Afghanistan</td>\n",
       "      <td>2013</td>\n",
       "      <td>31622704.0</td>\n",
       "      <td>18119.0</td>\n",
       "    </tr>\n",
       "    <tr>\n",
       "      <th>11</th>\n",
       "      <td>Afghanistan</td>\n",
       "      <td>2012</td>\n",
       "      <td>30560034.0</td>\n",
       "      <td>68628.0</td>\n",
       "    </tr>\n",
       "    <tr>\n",
       "      <th>...</th>\n",
       "      <td>...</td>\n",
       "      <td>...</td>\n",
       "      <td>...</td>\n",
       "      <td>...</td>\n",
       "    </tr>\n",
       "    <tr>\n",
       "      <th>300</th>\n",
       "      <td>Pakistan</td>\n",
       "      <td>1979</td>\n",
       "      <td>78997039.0</td>\n",
       "      <td>450003.0</td>\n",
       "    </tr>\n",
       "    <tr>\n",
       "      <th>301</th>\n",
       "      <td>Pakistan</td>\n",
       "      <td>1978</td>\n",
       "      <td>76307379.0</td>\n",
       "      <td>111386.0</td>\n",
       "    </tr>\n",
       "    <tr>\n",
       "      <th>302</th>\n",
       "      <td>Pakistan</td>\n",
       "      <td>1977</td>\n",
       "      <td>73901827.0</td>\n",
       "      <td>85250.0</td>\n",
       "    </tr>\n",
       "    <tr>\n",
       "      <th>303</th>\n",
       "      <td>Pakistan</td>\n",
       "      <td>1976</td>\n",
       "      <td>71620254.0</td>\n",
       "      <td>48238.0</td>\n",
       "    </tr>\n",
       "    <tr>\n",
       "      <th>319</th>\n",
       "      <td>Pakistan</td>\n",
       "      <td>1960</td>\n",
       "      <td>45709310.0</td>\n",
       "      <td>0.0</td>\n",
       "    </tr>\n",
       "  </tbody>\n",
       "</table>\n",
       "<p>83 rows × 4 columns</p>\n",
       "</div>"
      ],
      "text/plain": [
       "         Country  Year  total_population  net_migration\n",
       "3    Afghanistan  2020        39068979.0       143634.0\n",
       "4    Afghanistan  2019        37856121.0         9159.0\n",
       "9    Afghanistan  2014        32792523.0       233913.0\n",
       "10   Afghanistan  2013        31622704.0        18119.0\n",
       "11   Afghanistan  2012        30560034.0        68628.0\n",
       "..           ...   ...               ...            ...\n",
       "300     Pakistan  1979        78997039.0       450003.0\n",
       "301     Pakistan  1978        76307379.0       111386.0\n",
       "302     Pakistan  1977        73901827.0        85250.0\n",
       "303     Pakistan  1976        71620254.0        48238.0\n",
       "319     Pakistan  1960        45709310.0            0.0\n",
       "\n",
       "[83 rows x 4 columns]"
      ]
     },
     "execution_count": 33,
     "metadata": {},
     "output_type": "execute_result"
    }
   ],
   "source": [
    "# filter the whole dataset by columns\n",
    "df_net = df[df[\"net_migration\"] >= 0]\n",
    "df_net"
   ]
  }
 ],
 "metadata": {
  "kernelspec": {
   "display_name": "data_analysis",
   "language": "python",
   "name": "python3"
  },
  "language_info": {
   "codemirror_mode": {
    "name": "ipython",
    "version": 3
   },
   "file_extension": ".py",
   "mimetype": "text/x-python",
   "name": "python",
   "nbconvert_exporter": "python",
   "pygments_lexer": "ipython3",
   "version": "3.10.15"
  }
 },
 "nbformat": 4,
 "nbformat_minor": 5
}
