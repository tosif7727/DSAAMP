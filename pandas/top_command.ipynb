{
 "cells": [
  {
   "cell_type": "markdown",
   "id": "59db2950",
   "metadata": {},
   "source": [
    "# Step: 01 Basic data inspection\n",
    "\n",
    "### Display the first 5 rows of the dataset\n"
   ]
  },
  {
   "cell_type": "code",
   "execution_count": 97,
   "id": "af034e76",
   "metadata": {},
   "outputs": [
    {
     "data": {
      "application/vnd.microsoft.datawrangler.viewer.v0+json": {
       "columns": [
        {
         "name": "index",
         "rawType": "int64",
         "type": "integer"
        },
        {
         "name": "Country",
         "rawType": "object",
         "type": "string"
        },
        {
         "name": "Year",
         "rawType": "int64",
         "type": "integer"
        },
        {
         "name": "total_population",
         "rawType": "float64",
         "type": "float"
        },
        {
         "name": "net_migration",
         "rawType": "float64",
         "type": "float"
        }
       ],
       "conversionMethod": "pd.DataFrame",
       "ref": "d3796e1a-27b7-450e-ba6d-752c3ed5be6b",
       "rows": [
        [
         "0",
         "Afghanistan",
         "2023",
         "41454761.0",
         "-48958.0"
        ],
        [
         "1",
         "Afghanistan",
         "2022",
         "40578842.0",
         "-647402.0"
        ],
        [
         "2",
         "Afghanistan",
         "2021",
         "40000412.0",
         "-548784.0"
        ],
        [
         "3",
         "Afghanistan",
         "2020",
         "39068979.0",
         "143634.0"
        ],
        [
         "4",
         "Afghanistan",
         "2019",
         "37856121.0",
         "9159.0"
        ]
       ],
       "shape": {
        "columns": 4,
        "rows": 5
       }
      },
      "text/html": [
       "<div>\n",
       "<style scoped>\n",
       "    .dataframe tbody tr th:only-of-type {\n",
       "        vertical-align: middle;\n",
       "    }\n",
       "\n",
       "    .dataframe tbody tr th {\n",
       "        vertical-align: top;\n",
       "    }\n",
       "\n",
       "    .dataframe thead th {\n",
       "        text-align: right;\n",
       "    }\n",
       "</style>\n",
       "<table border=\"1\" class=\"dataframe\">\n",
       "  <thead>\n",
       "    <tr style=\"text-align: right;\">\n",
       "      <th></th>\n",
       "      <th>Country</th>\n",
       "      <th>Year</th>\n",
       "      <th>total_population</th>\n",
       "      <th>net_migration</th>\n",
       "    </tr>\n",
       "  </thead>\n",
       "  <tbody>\n",
       "    <tr>\n",
       "      <th>0</th>\n",
       "      <td>Afghanistan</td>\n",
       "      <td>2023</td>\n",
       "      <td>41454761.0</td>\n",
       "      <td>-48958.0</td>\n",
       "    </tr>\n",
       "    <tr>\n",
       "      <th>1</th>\n",
       "      <td>Afghanistan</td>\n",
       "      <td>2022</td>\n",
       "      <td>40578842.0</td>\n",
       "      <td>-647402.0</td>\n",
       "    </tr>\n",
       "    <tr>\n",
       "      <th>2</th>\n",
       "      <td>Afghanistan</td>\n",
       "      <td>2021</td>\n",
       "      <td>40000412.0</td>\n",
       "      <td>-548784.0</td>\n",
       "    </tr>\n",
       "    <tr>\n",
       "      <th>3</th>\n",
       "      <td>Afghanistan</td>\n",
       "      <td>2020</td>\n",
       "      <td>39068979.0</td>\n",
       "      <td>143634.0</td>\n",
       "    </tr>\n",
       "    <tr>\n",
       "      <th>4</th>\n",
       "      <td>Afghanistan</td>\n",
       "      <td>2019</td>\n",
       "      <td>37856121.0</td>\n",
       "      <td>9159.0</td>\n",
       "    </tr>\n",
       "  </tbody>\n",
       "</table>\n",
       "</div>"
      ],
      "text/plain": [
       "       Country  Year  total_population  net_migration\n",
       "0  Afghanistan  2023        41454761.0       -48958.0\n",
       "1  Afghanistan  2022        40578842.0      -647402.0\n",
       "2  Afghanistan  2021        40000412.0      -548784.0\n",
       "3  Afghanistan  2020        39068979.0       143634.0\n",
       "4  Afghanistan  2019        37856121.0         9159.0"
      ]
     },
     "execution_count": 97,
     "metadata": {},
     "output_type": "execute_result"
    }
   ],
   "source": [
    "# Import Library\n",
    "import pandas as pd\n",
    "\n",
    "# Read the CSV file into a DataFrame\n",
    "df = pd.read_csv(\"../data_scraping/datasets/pop_migration.csv\")\n",
    "\n",
    "# Display the first 5 rows of the DataFrame\n",
    "df.head()"
   ]
  },
  {
   "cell_type": "markdown",
   "id": "41b03f10",
   "metadata": {},
   "source": [
    "### Display the last 5 rows of the dataset"
   ]
  },
  {
   "cell_type": "code",
   "execution_count": 98,
   "id": "e0500ef3",
   "metadata": {},
   "outputs": [
    {
     "data": {
      "application/vnd.microsoft.datawrangler.viewer.v0+json": {
       "columns": [
        {
         "name": "index",
         "rawType": "int64",
         "type": "integer"
        },
        {
         "name": "Country",
         "rawType": "object",
         "type": "string"
        },
        {
         "name": "Year",
         "rawType": "int64",
         "type": "integer"
        },
        {
         "name": "total_population",
         "rawType": "float64",
         "type": "float"
        },
        {
         "name": "net_migration",
         "rawType": "float64",
         "type": "float"
        }
       ],
       "conversionMethod": "pd.DataFrame",
       "ref": "894165f3-f6d8-4185-919b-02f5f2614168",
       "rows": [
        [
         "315",
         "Pakistan",
         "1964",
         "50799999.0",
         "-63298.0"
        ],
        [
         "316",
         "Pakistan",
         "1963",
         "49447776.0",
         "-64552.0"
        ],
        [
         "317",
         "Pakistan",
         "1962",
         "48156128.0",
         "-65780.0"
        ],
        [
         "318",
         "Pakistan",
         "1961",
         "46921277.0",
         "-66991.0"
        ],
        [
         "319",
         "Pakistan",
         "1960",
         "45709310.0",
         "0.0"
        ]
       ],
       "shape": {
        "columns": 4,
        "rows": 5
       }
      },
      "text/html": [
       "<div>\n",
       "<style scoped>\n",
       "    .dataframe tbody tr th:only-of-type {\n",
       "        vertical-align: middle;\n",
       "    }\n",
       "\n",
       "    .dataframe tbody tr th {\n",
       "        vertical-align: top;\n",
       "    }\n",
       "\n",
       "    .dataframe thead th {\n",
       "        text-align: right;\n",
       "    }\n",
       "</style>\n",
       "<table border=\"1\" class=\"dataframe\">\n",
       "  <thead>\n",
       "    <tr style=\"text-align: right;\">\n",
       "      <th></th>\n",
       "      <th>Country</th>\n",
       "      <th>Year</th>\n",
       "      <th>total_population</th>\n",
       "      <th>net_migration</th>\n",
       "    </tr>\n",
       "  </thead>\n",
       "  <tbody>\n",
       "    <tr>\n",
       "      <th>315</th>\n",
       "      <td>Pakistan</td>\n",
       "      <td>1964</td>\n",
       "      <td>50799999.0</td>\n",
       "      <td>-63298.0</td>\n",
       "    </tr>\n",
       "    <tr>\n",
       "      <th>316</th>\n",
       "      <td>Pakistan</td>\n",
       "      <td>1963</td>\n",
       "      <td>49447776.0</td>\n",
       "      <td>-64552.0</td>\n",
       "    </tr>\n",
       "    <tr>\n",
       "      <th>317</th>\n",
       "      <td>Pakistan</td>\n",
       "      <td>1962</td>\n",
       "      <td>48156128.0</td>\n",
       "      <td>-65780.0</td>\n",
       "    </tr>\n",
       "    <tr>\n",
       "      <th>318</th>\n",
       "      <td>Pakistan</td>\n",
       "      <td>1961</td>\n",
       "      <td>46921277.0</td>\n",
       "      <td>-66991.0</td>\n",
       "    </tr>\n",
       "    <tr>\n",
       "      <th>319</th>\n",
       "      <td>Pakistan</td>\n",
       "      <td>1960</td>\n",
       "      <td>45709310.0</td>\n",
       "      <td>0.0</td>\n",
       "    </tr>\n",
       "  </tbody>\n",
       "</table>\n",
       "</div>"
      ],
      "text/plain": [
       "      Country  Year  total_population  net_migration\n",
       "315  Pakistan  1964        50799999.0       -63298.0\n",
       "316  Pakistan  1963        49447776.0       -64552.0\n",
       "317  Pakistan  1962        48156128.0       -65780.0\n",
       "318  Pakistan  1961        46921277.0       -66991.0\n",
       "319  Pakistan  1960        45709310.0            0.0"
      ]
     },
     "execution_count": 98,
     "metadata": {},
     "output_type": "execute_result"
    }
   ],
   "source": [
    "# Display the last 5 rows of the DataFrame\n",
    "df.tail()"
   ]
  },
  {
   "cell_type": "markdown",
   "id": "b2ce538a",
   "metadata": {},
   "source": [
    "### Display random 5 rows of the dataset"
   ]
  },
  {
   "cell_type": "code",
   "execution_count": 99,
   "id": "51222852",
   "metadata": {},
   "outputs": [
    {
     "data": {
      "application/vnd.microsoft.datawrangler.viewer.v0+json": {
       "columns": [
        {
         "name": "index",
         "rawType": "int64",
         "type": "integer"
        },
        {
         "name": "Country",
         "rawType": "object",
         "type": "string"
        },
        {
         "name": "Year",
         "rawType": "int64",
         "type": "integer"
        },
        {
         "name": "total_population",
         "rawType": "float64",
         "type": "float"
        },
        {
         "name": "net_migration",
         "rawType": "float64",
         "type": "float"
        }
       ],
       "conversionMethod": "pd.DataFrame",
       "ref": "eeddbba0-86e7-4544-ba4c-71eb977a4515",
       "rows": [
        [
         "78",
         "Bangladesh",
         "2009",
         "150873714.0",
         "-1150194.0"
        ],
        [
         "209",
         "Sri Lanka",
         "2006",
         "20352411.0",
         "-107045.0"
        ],
        [
         "285",
         "Pakistan",
         "1994",
         "130748083.0",
         "-277100.0"
        ],
        [
         "245",
         "Sri Lanka",
         "1970",
         "12287110.0",
         "-16299.0"
        ],
        [
         "197",
         "Sri Lanka",
         "2018",
         "21670000.0",
         "-28607.0"
        ]
       ],
       "shape": {
        "columns": 4,
        "rows": 5
       }
      },
      "text/html": [
       "<div>\n",
       "<style scoped>\n",
       "    .dataframe tbody tr th:only-of-type {\n",
       "        vertical-align: middle;\n",
       "    }\n",
       "\n",
       "    .dataframe tbody tr th {\n",
       "        vertical-align: top;\n",
       "    }\n",
       "\n",
       "    .dataframe thead th {\n",
       "        text-align: right;\n",
       "    }\n",
       "</style>\n",
       "<table border=\"1\" class=\"dataframe\">\n",
       "  <thead>\n",
       "    <tr style=\"text-align: right;\">\n",
       "      <th></th>\n",
       "      <th>Country</th>\n",
       "      <th>Year</th>\n",
       "      <th>total_population</th>\n",
       "      <th>net_migration</th>\n",
       "    </tr>\n",
       "  </thead>\n",
       "  <tbody>\n",
       "    <tr>\n",
       "      <th>78</th>\n",
       "      <td>Bangladesh</td>\n",
       "      <td>2009</td>\n",
       "      <td>150873714.0</td>\n",
       "      <td>-1150194.0</td>\n",
       "    </tr>\n",
       "    <tr>\n",
       "      <th>209</th>\n",
       "      <td>Sri Lanka</td>\n",
       "      <td>2006</td>\n",
       "      <td>20352411.0</td>\n",
       "      <td>-107045.0</td>\n",
       "    </tr>\n",
       "    <tr>\n",
       "      <th>285</th>\n",
       "      <td>Pakistan</td>\n",
       "      <td>1994</td>\n",
       "      <td>130748083.0</td>\n",
       "      <td>-277100.0</td>\n",
       "    </tr>\n",
       "    <tr>\n",
       "      <th>245</th>\n",
       "      <td>Sri Lanka</td>\n",
       "      <td>1970</td>\n",
       "      <td>12287110.0</td>\n",
       "      <td>-16299.0</td>\n",
       "    </tr>\n",
       "    <tr>\n",
       "      <th>197</th>\n",
       "      <td>Sri Lanka</td>\n",
       "      <td>2018</td>\n",
       "      <td>21670000.0</td>\n",
       "      <td>-28607.0</td>\n",
       "    </tr>\n",
       "  </tbody>\n",
       "</table>\n",
       "</div>"
      ],
      "text/plain": [
       "        Country  Year  total_population  net_migration\n",
       "78   Bangladesh  2009       150873714.0     -1150194.0\n",
       "209   Sri Lanka  2006        20352411.0      -107045.0\n",
       "285    Pakistan  1994       130748083.0      -277100.0\n",
       "245   Sri Lanka  1970        12287110.0       -16299.0\n",
       "197   Sri Lanka  2018        21670000.0       -28607.0"
      ]
     },
     "execution_count": 99,
     "metadata": {},
     "output_type": "execute_result"
    }
   ],
   "source": [
    "df.sample(5)"
   ]
  },
  {
   "cell_type": "markdown",
   "id": "70e6286f",
   "metadata": {},
   "source": [
    "### Display the Summary of the dataset\n"
   ]
  },
  {
   "cell_type": "code",
   "execution_count": 100,
   "id": "b25ff5fb",
   "metadata": {},
   "outputs": [
    {
     "name": "stdout",
     "output_type": "stream",
     "text": [
      "<class 'pandas.core.frame.DataFrame'>\n",
      "RangeIndex: 320 entries, 0 to 319\n",
      "Data columns (total 4 columns):\n",
      " #   Column            Non-Null Count  Dtype  \n",
      "---  ------            --------------  -----  \n",
      " 0   Country           320 non-null    object \n",
      " 1   Year              320 non-null    int64  \n",
      " 2   total_population  320 non-null    float64\n",
      " 3   net_migration     320 non-null    float64\n",
      "dtypes: float64(2), int64(1), object(1)\n",
      "memory usage: 10.1+ KB\n"
     ]
    }
   ],
   "source": [
    "df.info()"
   ]
  },
  {
   "cell_type": "markdown",
   "id": "f38c23dc",
   "metadata": {},
   "source": [
    "#### Display the statistical summary of the dataset\n"
   ]
  },
  {
   "cell_type": "code",
   "execution_count": 101,
   "id": "9bc16eda",
   "metadata": {},
   "outputs": [
    {
     "data": {
      "application/vnd.microsoft.datawrangler.viewer.v0+json": {
       "columns": [
        {
         "name": "index",
         "rawType": "object",
         "type": "string"
        },
        {
         "name": "Year",
         "rawType": "float64",
         "type": "float"
        },
        {
         "name": "total_population",
         "rawType": "float64",
         "type": "float"
        },
        {
         "name": "net_migration",
         "rawType": "float64",
         "type": "float"
        }
       ],
       "conversionMethod": "pd.DataFrame",
       "ref": "6a2a7f94-d6c7-4eb7-9339-701395490cbc",
       "rows": [
        [
         "count",
         "320.0",
         "320.0",
         "320.0"
        ],
        [
         "mean",
         "1991.5",
         "238458612.603125",
         "-222220.8875"
        ],
        [
         "std",
         "18.501885017919147",
         "370145856.4066998",
         "475187.2257139008"
        ],
        [
         "min",
         "1960.0",
         "9035043.0",
         "-2290411.0"
        ],
        [
         "25%",
         "1975.75",
         "19523535.0",
         "-322429.5"
        ],
        [
         "50%",
         "1991.5",
         "74870587.5",
         "-66385.5"
        ],
        [
         "75%",
         "2007.25",
         "185744701.5",
         "2112.75"
        ],
        [
         "max",
         "2023.0",
         "1438069596.0",
         "1197329.0"
        ]
       ],
       "shape": {
        "columns": 3,
        "rows": 8
       }
      },
      "text/html": [
       "<div>\n",
       "<style scoped>\n",
       "    .dataframe tbody tr th:only-of-type {\n",
       "        vertical-align: middle;\n",
       "    }\n",
       "\n",
       "    .dataframe tbody tr th {\n",
       "        vertical-align: top;\n",
       "    }\n",
       "\n",
       "    .dataframe thead th {\n",
       "        text-align: right;\n",
       "    }\n",
       "</style>\n",
       "<table border=\"1\" class=\"dataframe\">\n",
       "  <thead>\n",
       "    <tr style=\"text-align: right;\">\n",
       "      <th></th>\n",
       "      <th>Year</th>\n",
       "      <th>total_population</th>\n",
       "      <th>net_migration</th>\n",
       "    </tr>\n",
       "  </thead>\n",
       "  <tbody>\n",
       "    <tr>\n",
       "      <th>count</th>\n",
       "      <td>320.000000</td>\n",
       "      <td>3.200000e+02</td>\n",
       "      <td>3.200000e+02</td>\n",
       "    </tr>\n",
       "    <tr>\n",
       "      <th>mean</th>\n",
       "      <td>1991.500000</td>\n",
       "      <td>2.384586e+08</td>\n",
       "      <td>-2.222209e+05</td>\n",
       "    </tr>\n",
       "    <tr>\n",
       "      <th>std</th>\n",
       "      <td>18.501885</td>\n",
       "      <td>3.701459e+08</td>\n",
       "      <td>4.751872e+05</td>\n",
       "    </tr>\n",
       "    <tr>\n",
       "      <th>min</th>\n",
       "      <td>1960.000000</td>\n",
       "      <td>9.035043e+06</td>\n",
       "      <td>-2.290411e+06</td>\n",
       "    </tr>\n",
       "    <tr>\n",
       "      <th>25%</th>\n",
       "      <td>1975.750000</td>\n",
       "      <td>1.952354e+07</td>\n",
       "      <td>-3.224295e+05</td>\n",
       "    </tr>\n",
       "    <tr>\n",
       "      <th>50%</th>\n",
       "      <td>1991.500000</td>\n",
       "      <td>7.487059e+07</td>\n",
       "      <td>-6.638550e+04</td>\n",
       "    </tr>\n",
       "    <tr>\n",
       "      <th>75%</th>\n",
       "      <td>2007.250000</td>\n",
       "      <td>1.857447e+08</td>\n",
       "      <td>2.112750e+03</td>\n",
       "    </tr>\n",
       "    <tr>\n",
       "      <th>max</th>\n",
       "      <td>2023.000000</td>\n",
       "      <td>1.438070e+09</td>\n",
       "      <td>1.197329e+06</td>\n",
       "    </tr>\n",
       "  </tbody>\n",
       "</table>\n",
       "</div>"
      ],
      "text/plain": [
       "              Year  total_population  net_migration\n",
       "count   320.000000      3.200000e+02   3.200000e+02\n",
       "mean   1991.500000      2.384586e+08  -2.222209e+05\n",
       "std      18.501885      3.701459e+08   4.751872e+05\n",
       "min    1960.000000      9.035043e+06  -2.290411e+06\n",
       "25%    1975.750000      1.952354e+07  -3.224295e+05\n",
       "50%    1991.500000      7.487059e+07  -6.638550e+04\n",
       "75%    2007.250000      1.857447e+08   2.112750e+03\n",
       "max    2023.000000      1.438070e+09   1.197329e+06"
      ]
     },
     "execution_count": 101,
     "metadata": {},
     "output_type": "execute_result"
    }
   ],
   "source": [
    "df.describe()"
   ]
  },
  {
   "cell_type": "code",
   "execution_count": 102,
   "id": "b411b890",
   "metadata": {},
   "outputs": [
    {
     "data": {
      "application/vnd.microsoft.datawrangler.viewer.v0+json": {
       "columns": [
        {
         "name": "index",
         "rawType": "object",
         "type": "string"
        },
        {
         "name": "count",
         "rawType": "float64",
         "type": "float"
        },
        {
         "name": "mean",
         "rawType": "float64",
         "type": "float"
        },
        {
         "name": "std",
         "rawType": "float64",
         "type": "float"
        },
        {
         "name": "min",
         "rawType": "float64",
         "type": "float"
        },
        {
         "name": "25%",
         "rawType": "float64",
         "type": "float"
        },
        {
         "name": "50%",
         "rawType": "float64",
         "type": "float"
        },
        {
         "name": "75%",
         "rawType": "float64",
         "type": "float"
        },
        {
         "name": "max",
         "rawType": "float64",
         "type": "float"
        }
       ],
       "conversionMethod": "pd.DataFrame",
       "ref": "f2ec4e11-6d3d-47f3-8d99-9c958feb4de3",
       "rows": [
        [
         "Year",
         "320.0",
         "1991.5",
         "18.501885017919147",
         "1960.0",
         "1975.75",
         "1991.5",
         "2007.25",
         "2023.0"
        ],
        [
         "total_population",
         "320.0",
         "238458612.603125",
         "370145856.4066998",
         "9035043.0",
         "19523535.0",
         "74870587.5",
         "185744701.5",
         "1438069596.0"
        ],
        [
         "net_migration",
         "320.0",
         "-222220.8875",
         "475187.2257139008",
         "-2290411.0",
         "-322429.5",
         "-66385.5",
         "2112.75",
         "1197329.0"
        ]
       ],
       "shape": {
        "columns": 8,
        "rows": 3
       }
      },
      "text/html": [
       "<div>\n",
       "<style scoped>\n",
       "    .dataframe tbody tr th:only-of-type {\n",
       "        vertical-align: middle;\n",
       "    }\n",
       "\n",
       "    .dataframe tbody tr th {\n",
       "        vertical-align: top;\n",
       "    }\n",
       "\n",
       "    .dataframe thead th {\n",
       "        text-align: right;\n",
       "    }\n",
       "</style>\n",
       "<table border=\"1\" class=\"dataframe\">\n",
       "  <thead>\n",
       "    <tr style=\"text-align: right;\">\n",
       "      <th></th>\n",
       "      <th>count</th>\n",
       "      <th>mean</th>\n",
       "      <th>std</th>\n",
       "      <th>min</th>\n",
       "      <th>25%</th>\n",
       "      <th>50%</th>\n",
       "      <th>75%</th>\n",
       "      <th>max</th>\n",
       "    </tr>\n",
       "  </thead>\n",
       "  <tbody>\n",
       "    <tr>\n",
       "      <th>Year</th>\n",
       "      <td>320.0</td>\n",
       "      <td>1.991500e+03</td>\n",
       "      <td>1.850189e+01</td>\n",
       "      <td>1960.0</td>\n",
       "      <td>1975.75</td>\n",
       "      <td>1991.5</td>\n",
       "      <td>2.007250e+03</td>\n",
       "      <td>2.023000e+03</td>\n",
       "    </tr>\n",
       "    <tr>\n",
       "      <th>total_population</th>\n",
       "      <td>320.0</td>\n",
       "      <td>2.384586e+08</td>\n",
       "      <td>3.701459e+08</td>\n",
       "      <td>9035043.0</td>\n",
       "      <td>19523535.00</td>\n",
       "      <td>74870587.5</td>\n",
       "      <td>1.857447e+08</td>\n",
       "      <td>1.438070e+09</td>\n",
       "    </tr>\n",
       "    <tr>\n",
       "      <th>net_migration</th>\n",
       "      <td>320.0</td>\n",
       "      <td>-2.222209e+05</td>\n",
       "      <td>4.751872e+05</td>\n",
       "      <td>-2290411.0</td>\n",
       "      <td>-322429.50</td>\n",
       "      <td>-66385.5</td>\n",
       "      <td>2.112750e+03</td>\n",
       "      <td>1.197329e+06</td>\n",
       "    </tr>\n",
       "  </tbody>\n",
       "</table>\n",
       "</div>"
      ],
      "text/plain": [
       "                  count          mean           std        min          25%  \\\n",
       "Year              320.0  1.991500e+03  1.850189e+01     1960.0      1975.75   \n",
       "total_population  320.0  2.384586e+08  3.701459e+08  9035043.0  19523535.00   \n",
       "net_migration     320.0 -2.222209e+05  4.751872e+05 -2290411.0   -322429.50   \n",
       "\n",
       "                         50%           75%           max  \n",
       "Year                  1991.5  2.007250e+03  2.023000e+03  \n",
       "total_population  74870587.5  1.857447e+08  1.438070e+09  \n",
       "net_migration       -66385.5  2.112750e+03  1.197329e+06  "
      ]
     },
     "execution_count": 102,
     "metadata": {},
     "output_type": "execute_result"
    }
   ],
   "source": [
    "# Now Transpose the summary\n",
    "df.describe().T"
   ]
  },
  {
   "cell_type": "markdown",
   "id": "0d903b99",
   "metadata": {},
   "source": [
    "### Display the statistical summary of categorical columns"
   ]
  },
  {
   "cell_type": "code",
   "execution_count": 103,
   "id": "712527d1",
   "metadata": {},
   "outputs": [
    {
     "data": {
      "application/vnd.microsoft.datawrangler.viewer.v0+json": {
       "columns": [
        {
         "name": "index",
         "rawType": "object",
         "type": "string"
        },
        {
         "name": "Country",
         "rawType": "object",
         "type": "unknown"
        }
       ],
       "conversionMethod": "pd.DataFrame",
       "ref": "b28c4362-a072-4cc8-9b62-87fe0507b357",
       "rows": [
        [
         "count",
         "320"
        ],
        [
         "unique",
         "5"
        ],
        [
         "top",
         "Afghanistan"
        ],
        [
         "freq",
         "64"
        ]
       ],
       "shape": {
        "columns": 1,
        "rows": 4
       }
      },
      "text/html": [
       "<div>\n",
       "<style scoped>\n",
       "    .dataframe tbody tr th:only-of-type {\n",
       "        vertical-align: middle;\n",
       "    }\n",
       "\n",
       "    .dataframe tbody tr th {\n",
       "        vertical-align: top;\n",
       "    }\n",
       "\n",
       "    .dataframe thead th {\n",
       "        text-align: right;\n",
       "    }\n",
       "</style>\n",
       "<table border=\"1\" class=\"dataframe\">\n",
       "  <thead>\n",
       "    <tr style=\"text-align: right;\">\n",
       "      <th></th>\n",
       "      <th>Country</th>\n",
       "    </tr>\n",
       "  </thead>\n",
       "  <tbody>\n",
       "    <tr>\n",
       "      <th>count</th>\n",
       "      <td>320</td>\n",
       "    </tr>\n",
       "    <tr>\n",
       "      <th>unique</th>\n",
       "      <td>5</td>\n",
       "    </tr>\n",
       "    <tr>\n",
       "      <th>top</th>\n",
       "      <td>Afghanistan</td>\n",
       "    </tr>\n",
       "    <tr>\n",
       "      <th>freq</th>\n",
       "      <td>64</td>\n",
       "    </tr>\n",
       "  </tbody>\n",
       "</table>\n",
       "</div>"
      ],
      "text/plain": [
       "            Country\n",
       "count           320\n",
       "unique            5\n",
       "top     Afghanistan\n",
       "freq             64"
      ]
     },
     "execution_count": 103,
     "metadata": {},
     "output_type": "execute_result"
    }
   ],
   "source": [
    "# Display the categorical summary \n",
    "df.describe(include='object')"
   ]
  },
  {
   "cell_type": "markdown",
   "id": "296b2870",
   "metadata": {},
   "source": [
    "### Check the data Diamension or shape of the dataset\n"
   ]
  },
  {
   "cell_type": "code",
   "execution_count": 104,
   "id": "9c6fc98a",
   "metadata": {},
   "outputs": [
    {
     "data": {
      "text/plain": [
       "(320, 4)"
      ]
     },
     "execution_count": 104,
     "metadata": {},
     "output_type": "execute_result"
    }
   ],
   "source": [
    "df.shape"
   ]
  },
  {
   "cell_type": "markdown",
   "id": "182ec5ff",
   "metadata": {},
   "source": [
    "### Check the dataset column name's\n"
   ]
  },
  {
   "cell_type": "code",
   "execution_count": 90,
   "id": "b1cddf6f",
   "metadata": {},
   "outputs": [
    {
     "data": {
      "text/plain": [
       "Index(['Country', 'Year', 'total_population', 'net_migration'], dtype='object')"
      ]
     },
     "execution_count": 90,
     "metadata": {},
     "output_type": "execute_result"
    }
   ],
   "source": [
    "df.columns"
   ]
  },
  {
   "cell_type": "code",
   "execution_count": 91,
   "id": "a6c19030",
   "metadata": {},
   "outputs": [
    {
     "data": {
      "text/plain": [
       "['Country', 'Year', 'total_population', 'net_migration']"
      ]
     },
     "execution_count": 91,
     "metadata": {},
     "output_type": "execute_result"
    }
   ],
   "source": [
    "# Now columns list\n",
    "df.columns.to_list()"
   ]
  },
  {
   "cell_type": "markdown",
   "id": "525f8f3e",
   "metadata": {},
   "source": [
    "### Check the Data types of each column"
   ]
  },
  {
   "cell_type": "code",
   "execution_count": 92,
   "id": "cae79302",
   "metadata": {},
   "outputs": [
    {
     "data": {
      "text/plain": [
       "Country              object\n",
       "Year                  int64\n",
       "total_population    float64\n",
       "net_migration       float64\n",
       "dtype: object"
      ]
     },
     "execution_count": 92,
     "metadata": {},
     "output_type": "execute_result"
    }
   ],
   "source": [
    "df.dtypes"
   ]
  },
  {
   "cell_type": "markdown",
   "id": "e10a7692",
   "metadata": {},
   "source": [
    "# convert the data types of the columns\n"
   ]
  },
  {
   "cell_type": "code",
   "execution_count": 93,
   "id": "66562897",
   "metadata": {},
   "outputs": [
    {
     "data": {
      "text/plain": [
       "Country             category\n",
       "Year                   int64\n",
       "total_population       int64\n",
       "net_migration        float64\n",
       "dtype: object"
      ]
     },
     "execution_count": 93,
     "metadata": {},
     "output_type": "execute_result"
    }
   ],
   "source": [
    "df[\"total_population\"] = df[\"total_population\"].astype(\"int64\")\n",
    "\n",
    "df[\"Country\"] = df[\"Country\"].astype(\"category\")\n",
    "\n",
    "df.dtypes"
   ]
  },
  {
   "cell_type": "markdown",
   "id": "589e4218",
   "metadata": {},
   "source": [
    "### Check the Missing values in the dataset\n"
   ]
  },
  {
   "cell_type": "code",
   "execution_count": 94,
   "id": "4061e25d",
   "metadata": {},
   "outputs": [
    {
     "data": {
      "text/plain": [
       "Country             0\n",
       "Year                0\n",
       "total_population    0\n",
       "net_migration       0\n",
       "dtype: int64"
      ]
     },
     "execution_count": 94,
     "metadata": {},
     "output_type": "execute_result"
    }
   ],
   "source": [
    "df.isnull().sum()"
   ]
  },
  {
   "cell_type": "markdown",
   "id": "f469c221",
   "metadata": {},
   "source": [
    "# Step: 02 Handling Missing values"
   ]
  },
  {
   "cell_type": "markdown",
   "id": "dbede529",
   "metadata": {},
   "source": [
    "### Drop row with missing values"
   ]
  },
  {
   "cell_type": "code",
   "execution_count": 95,
   "id": "1de6cd92",
   "metadata": {},
   "outputs": [
    {
     "data": {
      "application/vnd.microsoft.datawrangler.viewer.v0+json": {
       "columns": [
        {
         "name": "index",
         "rawType": "int64",
         "type": "integer"
        },
        {
         "name": "Country",
         "rawType": "category",
         "type": "unknown"
        },
        {
         "name": "Year",
         "rawType": "int64",
         "type": "integer"
        },
        {
         "name": "total_population",
         "rawType": "int64",
         "type": "integer"
        },
        {
         "name": "net_migration",
         "rawType": "float64",
         "type": "float"
        }
       ],
       "conversionMethod": "pd.DataFrame",
       "ref": "01370fa5-c097-4491-a68a-cccb64866cf7",
       "rows": [
        [
         "0",
         "Afghanistan",
         "2023",
         "41454761",
         "-48958.0"
        ],
        [
         "1",
         "Afghanistan",
         "2022",
         "40578842",
         "-647402.0"
        ],
        [
         "2",
         "Afghanistan",
         "2021",
         "40000412",
         "-548784.0"
        ],
        [
         "3",
         "Afghanistan",
         "2020",
         "39068979",
         "143634.0"
        ],
        [
         "4",
         "Afghanistan",
         "2019",
         "37856121",
         "9159.0"
        ]
       ],
       "shape": {
        "columns": 4,
        "rows": 5
       }
      },
      "text/html": [
       "<div>\n",
       "<style scoped>\n",
       "    .dataframe tbody tr th:only-of-type {\n",
       "        vertical-align: middle;\n",
       "    }\n",
       "\n",
       "    .dataframe tbody tr th {\n",
       "        vertical-align: top;\n",
       "    }\n",
       "\n",
       "    .dataframe thead th {\n",
       "        text-align: right;\n",
       "    }\n",
       "</style>\n",
       "<table border=\"1\" class=\"dataframe\">\n",
       "  <thead>\n",
       "    <tr style=\"text-align: right;\">\n",
       "      <th></th>\n",
       "      <th>Country</th>\n",
       "      <th>Year</th>\n",
       "      <th>total_population</th>\n",
       "      <th>net_migration</th>\n",
       "    </tr>\n",
       "  </thead>\n",
       "  <tbody>\n",
       "    <tr>\n",
       "      <th>0</th>\n",
       "      <td>Afghanistan</td>\n",
       "      <td>2023</td>\n",
       "      <td>41454761</td>\n",
       "      <td>-48958.0</td>\n",
       "    </tr>\n",
       "    <tr>\n",
       "      <th>1</th>\n",
       "      <td>Afghanistan</td>\n",
       "      <td>2022</td>\n",
       "      <td>40578842</td>\n",
       "      <td>-647402.0</td>\n",
       "    </tr>\n",
       "    <tr>\n",
       "      <th>2</th>\n",
       "      <td>Afghanistan</td>\n",
       "      <td>2021</td>\n",
       "      <td>40000412</td>\n",
       "      <td>-548784.0</td>\n",
       "    </tr>\n",
       "    <tr>\n",
       "      <th>3</th>\n",
       "      <td>Afghanistan</td>\n",
       "      <td>2020</td>\n",
       "      <td>39068979</td>\n",
       "      <td>143634.0</td>\n",
       "    </tr>\n",
       "    <tr>\n",
       "      <th>4</th>\n",
       "      <td>Afghanistan</td>\n",
       "      <td>2019</td>\n",
       "      <td>37856121</td>\n",
       "      <td>9159.0</td>\n",
       "    </tr>\n",
       "  </tbody>\n",
       "</table>\n",
       "</div>"
      ],
      "text/plain": [
       "       Country  Year  total_population  net_migration\n",
       "0  Afghanistan  2023          41454761       -48958.0\n",
       "1  Afghanistan  2022          40578842      -647402.0\n",
       "2  Afghanistan  2021          40000412      -548784.0\n",
       "3  Afghanistan  2020          39068979       143634.0\n",
       "4  Afghanistan  2019          37856121         9159.0"
      ]
     },
     "execution_count": 95,
     "metadata": {},
     "output_type": "execute_result"
    }
   ],
   "source": [
    "df.head()"
   ]
  },
  {
   "cell_type": "markdown",
   "id": "c790fde0",
   "metadata": {},
   "source": [
    "### Remove the column with missing values\n"
   ]
  },
  {
   "cell_type": "code",
   "execution_count": 96,
   "id": "75e2b361",
   "metadata": {},
   "outputs": [],
   "source": [
    "# df.drop(columns = \"Year\" , inplace = True)"
   ]
  },
  {
   "cell_type": "markdown",
   "id": "caaa4535",
   "metadata": {},
   "source": [
    "### Drop row with missing values in specific columns"
   ]
  },
  {
   "cell_type": "code",
   "execution_count": 108,
   "id": "dc2c00ef",
   "metadata": {},
   "outputs": [
    {
     "data": {
      "application/vnd.microsoft.datawrangler.viewer.v0+json": {
       "columns": [
        {
         "name": "index",
         "rawType": "int64",
         "type": "integer"
        },
        {
         "name": "Country",
         "rawType": "object",
         "type": "string"
        },
        {
         "name": "Year",
         "rawType": "int64",
         "type": "integer"
        },
        {
         "name": "total_population",
         "rawType": "float64",
         "type": "float"
        },
        {
         "name": "net_migration",
         "rawType": "float64",
         "type": "float"
        }
       ],
       "conversionMethod": "pd.DataFrame",
       "ref": "38124d72-b5bc-4e70-af5f-81a9db44c67f",
       "rows": [
        [
         "0",
         "Afghanistan",
         "2023",
         "41454761.0",
         "-48958.0"
        ],
        [
         "1",
         "Afghanistan",
         "2022",
         "40578842.0",
         "-647402.0"
        ],
        [
         "2",
         "Afghanistan",
         "2021",
         "40000412.0",
         "-548784.0"
        ],
        [
         "3",
         "Afghanistan",
         "2020",
         "39068979.0",
         "143634.0"
        ],
        [
         "4",
         "Afghanistan",
         "2019",
         "37856121.0",
         "9159.0"
        ]
       ],
       "shape": {
        "columns": 4,
        "rows": 5
       }
      },
      "text/html": [
       "<div>\n",
       "<style scoped>\n",
       "    .dataframe tbody tr th:only-of-type {\n",
       "        vertical-align: middle;\n",
       "    }\n",
       "\n",
       "    .dataframe tbody tr th {\n",
       "        vertical-align: top;\n",
       "    }\n",
       "\n",
       "    .dataframe thead th {\n",
       "        text-align: right;\n",
       "    }\n",
       "</style>\n",
       "<table border=\"1\" class=\"dataframe\">\n",
       "  <thead>\n",
       "    <tr style=\"text-align: right;\">\n",
       "      <th></th>\n",
       "      <th>Country</th>\n",
       "      <th>Year</th>\n",
       "      <th>total_population</th>\n",
       "      <th>net_migration</th>\n",
       "    </tr>\n",
       "  </thead>\n",
       "  <tbody>\n",
       "    <tr>\n",
       "      <th>0</th>\n",
       "      <td>Afghanistan</td>\n",
       "      <td>2023</td>\n",
       "      <td>41454761.0</td>\n",
       "      <td>-48958.0</td>\n",
       "    </tr>\n",
       "    <tr>\n",
       "      <th>1</th>\n",
       "      <td>Afghanistan</td>\n",
       "      <td>2022</td>\n",
       "      <td>40578842.0</td>\n",
       "      <td>-647402.0</td>\n",
       "    </tr>\n",
       "    <tr>\n",
       "      <th>2</th>\n",
       "      <td>Afghanistan</td>\n",
       "      <td>2021</td>\n",
       "      <td>40000412.0</td>\n",
       "      <td>-548784.0</td>\n",
       "    </tr>\n",
       "    <tr>\n",
       "      <th>3</th>\n",
       "      <td>Afghanistan</td>\n",
       "      <td>2020</td>\n",
       "      <td>39068979.0</td>\n",
       "      <td>143634.0</td>\n",
       "    </tr>\n",
       "    <tr>\n",
       "      <th>4</th>\n",
       "      <td>Afghanistan</td>\n",
       "      <td>2019</td>\n",
       "      <td>37856121.0</td>\n",
       "      <td>9159.0</td>\n",
       "    </tr>\n",
       "  </tbody>\n",
       "</table>\n",
       "</div>"
      ],
      "text/plain": [
       "       Country  Year  total_population  net_migration\n",
       "0  Afghanistan  2023        41454761.0       -48958.0\n",
       "1  Afghanistan  2022        40578842.0      -647402.0\n",
       "2  Afghanistan  2021        40000412.0      -548784.0\n",
       "3  Afghanistan  2020        39068979.0       143634.0\n",
       "4  Afghanistan  2019        37856121.0         9159.0"
      ]
     },
     "execution_count": 108,
     "metadata": {},
     "output_type": "execute_result"
    }
   ],
   "source": [
    "df.dropna(subset = [\"Country\", \"total_population\"], inplace = True) # subset \n",
    "df.head()"
   ]
  },
  {
   "cell_type": "code",
   "execution_count": 110,
   "id": "e6530611",
   "metadata": {},
   "outputs": [
    {
     "data": {
      "text/plain": [
       "Country\n",
       "Afghanistan    64\n",
       "Bangladesh     64\n",
       "India          64\n",
       "Sri Lanka      64\n",
       "Pakistan       64\n",
       "Name: count, dtype: int64"
      ]
     },
     "execution_count": 110,
     "metadata": {},
     "output_type": "execute_result"
    }
   ],
   "source": [
    "df[\"Country\"].value_counts()"
   ]
  },
  {
   "cell_type": "markdown",
   "id": "bc62d8c4",
   "metadata": {},
   "source": [
    "# Step: 03 Duplicates and Data Integrity"
   ]
  },
  {
   "cell_type": "markdown",
   "id": "9bfee4d2",
   "metadata": {},
   "source": [
    "### Check for duplicates in the dataset"
   ]
  },
  {
   "cell_type": "code",
   "execution_count": 115,
   "id": "e3b0a8af",
   "metadata": {},
   "outputs": [
    {
     "data": {
      "text/plain": [
       "0"
      ]
     },
     "execution_count": 115,
     "metadata": {},
     "output_type": "execute_result"
    }
   ],
   "source": [
    "df.duplicated().sum()"
   ]
  },
  {
   "cell_type": "markdown",
   "id": "f067142a",
   "metadata": {},
   "source": [
    "### Get a Unique value in a column"
   ]
  },
  {
   "cell_type": "code",
   "execution_count": 116,
   "id": "8bfc13a3",
   "metadata": {},
   "outputs": [
    {
     "data": {
      "text/plain": [
       "array(['Afghanistan', 'Bangladesh', 'India', 'Sri Lanka', 'Pakistan'],\n",
       "      dtype=object)"
      ]
     },
     "execution_count": 116,
     "metadata": {},
     "output_type": "execute_result"
    }
   ],
   "source": [
    "df[\"Country\"].unique()"
   ]
  },
  {
   "cell_type": "markdown",
   "id": "0a4d1ec4",
   "metadata": {},
   "source": [
    "### Count a Unique value in a column\n"
   ]
  },
  {
   "cell_type": "code",
   "execution_count": 117,
   "id": "f235b2df",
   "metadata": {},
   "outputs": [
    {
     "data": {
      "text/plain": [
       "5"
      ]
     },
     "execution_count": 117,
     "metadata": {},
     "output_type": "execute_result"
    }
   ],
   "source": [
    "df[\"Country\"].nunique()"
   ]
  }
 ],
 "metadata": {
  "kernelspec": {
   "display_name": "data_analysis",
   "language": "python",
   "name": "python3"
  },
  "language_info": {
   "codemirror_mode": {
    "name": "ipython",
    "version": 3
   },
   "file_extension": ".py",
   "mimetype": "text/x-python",
   "name": "python",
   "nbconvert_exporter": "python",
   "pygments_lexer": "ipython3",
   "version": "3.10.15"
  }
 },
 "nbformat": 4,
 "nbformat_minor": 5
}
