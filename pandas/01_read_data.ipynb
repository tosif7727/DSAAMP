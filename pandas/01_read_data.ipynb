{
 "cells": [
  {
   "cell_type": "markdown",
   "id": "5bf12722",
   "metadata": {},
   "source": [
    "# pandas Library\n",
    "### pandas is a powerful data analysis and manipulation library for Python."
   ]
  },
  {
   "cell_type": "code",
   "execution_count": 1,
   "id": "54b38821",
   "metadata": {},
   "outputs": [],
   "source": [
    "# import library\n",
    "import os\n",
    "import sys\n",
    "import pandas as pd"
   ]
  },
  {
   "cell_type": "code",
   "execution_count": 3,
   "id": "b1e71b5f",
   "metadata": {},
   "outputs": [
    {
     "data": {
      "application/vnd.microsoft.datawrangler.viewer.v0+json": {
       "columns": [
        {
         "name": "index",
         "rawType": "int64",
         "type": "integer"
        },
        {
         "name": "Country,Year,total_population,net_migration",
         "rawType": "object",
         "type": "string"
        }
       ],
       "conversionMethod": "pd.DataFrame",
       "ref": "a173ce9d-8e68-4d91-89e6-dce5ded7e74f",
       "rows": [
        [
         "0",
         "Afghanistan,2023,41454761.0,-48958.0"
        ],
        [
         "1",
         "Afghanistan,2022,40578842.0,-647402.0"
        ],
        [
         "2",
         "Afghanistan,2021,40000412.0,-548784.0"
        ],
        [
         "3",
         "Afghanistan,2020,39068979.0,143634.0"
        ],
        [
         "4",
         "Afghanistan,2019,37856121.0,9159.0"
        ],
        [
         "5",
         "Afghanistan,2018,36743039.0,-36753.0"
        ]
       ],
       "shape": {
        "columns": 1,
        "rows": 6
       }
      },
      "text/html": [
       "<div>\n",
       "<style scoped>\n",
       "    .dataframe tbody tr th:only-of-type {\n",
       "        vertical-align: middle;\n",
       "    }\n",
       "\n",
       "    .dataframe tbody tr th {\n",
       "        vertical-align: top;\n",
       "    }\n",
       "\n",
       "    .dataframe thead th {\n",
       "        text-align: right;\n",
       "    }\n",
       "</style>\n",
       "<table border=\"1\" class=\"dataframe\">\n",
       "  <thead>\n",
       "    <tr style=\"text-align: right;\">\n",
       "      <th></th>\n",
       "      <th>Country,Year,total_population,net_migration</th>\n",
       "    </tr>\n",
       "  </thead>\n",
       "  <tbody>\n",
       "    <tr>\n",
       "      <th>0</th>\n",
       "      <td>Afghanistan,2023,41454761.0,-48958.0</td>\n",
       "    </tr>\n",
       "    <tr>\n",
       "      <th>1</th>\n",
       "      <td>Afghanistan,2022,40578842.0,-647402.0</td>\n",
       "    </tr>\n",
       "    <tr>\n",
       "      <th>2</th>\n",
       "      <td>Afghanistan,2021,40000412.0,-548784.0</td>\n",
       "    </tr>\n",
       "    <tr>\n",
       "      <th>3</th>\n",
       "      <td>Afghanistan,2020,39068979.0,143634.0</td>\n",
       "    </tr>\n",
       "    <tr>\n",
       "      <th>4</th>\n",
       "      <td>Afghanistan,2019,37856121.0,9159.0</td>\n",
       "    </tr>\n",
       "    <tr>\n",
       "      <th>5</th>\n",
       "      <td>Afghanistan,2018,36743039.0,-36753.0</td>\n",
       "    </tr>\n",
       "  </tbody>\n",
       "</table>\n",
       "</div>"
      ],
      "text/plain": [
       "  Country,Year,total_population,net_migration\n",
       "0        Afghanistan,2023,41454761.0,-48958.0\n",
       "1       Afghanistan,2022,40578842.0,-647402.0\n",
       "2       Afghanistan,2021,40000412.0,-548784.0\n",
       "3        Afghanistan,2020,39068979.0,143634.0\n",
       "4          Afghanistan,2019,37856121.0,9159.0\n",
       "5        Afghanistan,2018,36743039.0,-36753.0"
      ]
     },
     "execution_count": 3,
     "metadata": {},
     "output_type": "execute_result"
    }
   ],
   "source": [
    "# import data from clipboard\n",
    "df= pd.read_clipboard()\n",
    "df"
   ]
  },
  {
   "cell_type": "code",
   "execution_count": 12,
   "id": "ed5865ed",
   "metadata": {},
   "outputs": [
    {
     "data": {
      "application/vnd.microsoft.datawrangler.viewer.v0+json": {
       "columns": [
        {
         "name": "index",
         "rawType": "int64",
         "type": "integer"
        },
        {
         "name": "Country",
         "rawType": "object",
         "type": "string"
        },
        {
         "name": "Year",
         "rawType": "int64",
         "type": "integer"
        },
        {
         "name": "total_population",
         "rawType": "float64",
         "type": "float"
        },
        {
         "name": "net_migration",
         "rawType": "float64",
         "type": "float"
        }
       ],
       "conversionMethod": "pd.DataFrame",
       "ref": "481a6c41-21a8-4540-938c-121d431ae5ca",
       "rows": [
        [
         "0",
         "Afghanistan",
         "2023",
         "41454761.0",
         "-48958.0"
        ],
        [
         "1",
         "Afghanistan",
         "2022",
         "40578842.0",
         "-647402.0"
        ],
        [
         "2",
         "Afghanistan",
         "2021",
         "40000412.0",
         "-548784.0"
        ],
        [
         "3",
         "Afghanistan",
         "2020",
         "39068979.0",
         "143634.0"
        ],
        [
         "4",
         "Afghanistan",
         "2019",
         "37856121.0",
         "9159.0"
        ],
        [
         "5",
         "Afghanistan",
         "2018",
         "36743039.0",
         "-36753.0"
        ],
        [
         "6",
         "Afghanistan",
         "2017",
         "35688935.0",
         "-71491.0"
        ],
        [
         "7",
         "Afghanistan",
         "2016",
         "34700612.0",
         "-143049.0"
        ],
        [
         "8",
         "Afghanistan",
         "2015",
         "33831764.0",
         "-286314.0"
        ],
        [
         "9",
         "Afghanistan",
         "2014",
         "32792523.0",
         "233913.0"
        ],
        [
         "10",
         "Afghanistan",
         "2013",
         "31622704.0",
         "18119.0"
        ],
        [
         "11",
         "Afghanistan",
         "2012",
         "30560034.0",
         "68628.0"
        ],
        [
         "12",
         "Afghanistan",
         "2011",
         "29347708.0",
         "384486.0"
        ],
        [
         "13",
         "Afghanistan",
         "2010",
         "28284089.0",
         "-167460.0"
        ],
        [
         "14",
         "Afghanistan",
         "2009",
         "27466101.0",
         "-60602.0"
        ],
        [
         "15",
         "Afghanistan",
         "2008",
         "26482622.0",
         "215753.0"
        ],
        [
         "16",
         "Afghanistan",
         "2007",
         "25909852.0",
         "-851298.0"
        ],
        [
         "17",
         "Afghanistan",
         "2006",
         "25424094.0",
         "57673.0"
        ],
        [
         "18",
         "Afghanistan",
         "2005",
         "24404567.0",
         "250971.0"
        ],
        [
         "19",
         "Afghanistan",
         "2004",
         "23560654.0",
         "-269194.0"
        ],
        [
         "20",
         "Afghanistan",
         "2003",
         "22733049.0",
         "247317.0"
        ],
        [
         "21",
         "Afghanistan",
         "2002",
         "21378117.0",
         "860349.0"
        ],
        [
         "22",
         "Afghanistan",
         "2001",
         "20284307.0",
         "-212872.0"
        ],
        [
         "23",
         "Afghanistan",
         "2000",
         "20130327.0",
         "-1025973.0"
        ],
        [
         "24",
         "Afghanistan",
         "1999",
         "19887785.0",
         "-32400.0"
        ],
        [
         "25",
         "Afghanistan",
         "1998",
         "19159996.0",
         "7380.0"
        ],
        [
         "26",
         "Afghanistan",
         "1997",
         "18452091.0",
         "-21215.0"
        ],
        [
         "27",
         "Afghanistan",
         "1996",
         "17763266.0",
         "4072.0"
        ],
        [
         "28",
         "Afghanistan",
         "1995",
         "17065836.0",
         "52505.0"
        ],
        [
         "29",
         "Afghanistan",
         "1994",
         "16250794.0",
         "315206.0"
        ],
        [
         "30",
         "Afghanistan",
         "1993",
         "14943172.0",
         "1149684.0"
        ],
        [
         "31",
         "Afghanistan",
         "1992",
         "13278974.0",
         "1197329.0"
        ],
        [
         "32",
         "Afghanistan",
         "1991",
         "12238879.0",
         "32782.0"
        ],
        [
         "33",
         "Afghanistan",
         "1990",
         "12045660.0",
         "-458737.0"
        ],
        [
         "34",
         "Afghanistan",
         "1989",
         "11874088.0",
         "18296.0"
        ],
        [
         "35",
         "Afghanistan",
         "1988",
         "11523298.0",
         "-56263.0"
        ],
        [
         "36",
         "Afghanistan",
         "1987",
         "11387818.0",
         "-345535.0"
        ],
        [
         "37",
         "Afghanistan",
         "1986",
         "11420074.0",
         "-343397.0"
        ],
        [
         "38",
         "Afghanistan",
         "1985",
         "11426852.0",
         "-208685.0"
        ],
        [
         "39",
         "Afghanistan",
         "1984",
         "11190221.0",
         "248224.0"
        ],
        [
         "40",
         "Afghanistan",
         "1983",
         "10917982.0",
         "-172797.0"
        ],
        [
         "41",
         "Afghanistan",
         "1982",
         "10991378.0",
         "-500998.0"
        ],
        [
         "42",
         "Afghanistan",
         "1981",
         "11937581.0",
         "-1998086.0"
        ],
        [
         "43",
         "Afghanistan",
         "1980",
         "13169311.0",
         "-1174239.0"
        ],
        [
         "44",
         "Afghanistan",
         "1979",
         "13655567.0",
         "-525413.0"
        ],
        [
         "45",
         "Afghanistan",
         "1978",
         "13611441.0",
         "-117186.0"
        ],
        [
         "46",
         "Afghanistan",
         "1977",
         "13340756.0",
         "-83115.0"
        ],
        [
         "47",
         "Afghanistan",
         "1976",
         "13059851.0",
         "-85430.0"
        ],
        [
         "48",
         "Afghanistan",
         "1975",
         "12773954.0",
         "-44418.0"
        ],
        [
         "49",
         "Afghanistan",
         "1974",
         "12469127.0",
         "-20009.0"
        ]
       ],
       "shape": {
        "columns": 4,
        "rows": 320
       }
      },
      "text/html": [
       "<div>\n",
       "<style scoped>\n",
       "    .dataframe tbody tr th:only-of-type {\n",
       "        vertical-align: middle;\n",
       "    }\n",
       "\n",
       "    .dataframe tbody tr th {\n",
       "        vertical-align: top;\n",
       "    }\n",
       "\n",
       "    .dataframe thead th {\n",
       "        text-align: right;\n",
       "    }\n",
       "</style>\n",
       "<table border=\"1\" class=\"dataframe\">\n",
       "  <thead>\n",
       "    <tr style=\"text-align: right;\">\n",
       "      <th></th>\n",
       "      <th>Country</th>\n",
       "      <th>Year</th>\n",
       "      <th>total_population</th>\n",
       "      <th>net_migration</th>\n",
       "    </tr>\n",
       "  </thead>\n",
       "  <tbody>\n",
       "    <tr>\n",
       "      <th>0</th>\n",
       "      <td>Afghanistan</td>\n",
       "      <td>2023</td>\n",
       "      <td>41454761.0</td>\n",
       "      <td>-48958.0</td>\n",
       "    </tr>\n",
       "    <tr>\n",
       "      <th>1</th>\n",
       "      <td>Afghanistan</td>\n",
       "      <td>2022</td>\n",
       "      <td>40578842.0</td>\n",
       "      <td>-647402.0</td>\n",
       "    </tr>\n",
       "    <tr>\n",
       "      <th>2</th>\n",
       "      <td>Afghanistan</td>\n",
       "      <td>2021</td>\n",
       "      <td>40000412.0</td>\n",
       "      <td>-548784.0</td>\n",
       "    </tr>\n",
       "    <tr>\n",
       "      <th>3</th>\n",
       "      <td>Afghanistan</td>\n",
       "      <td>2020</td>\n",
       "      <td>39068979.0</td>\n",
       "      <td>143634.0</td>\n",
       "    </tr>\n",
       "    <tr>\n",
       "      <th>4</th>\n",
       "      <td>Afghanistan</td>\n",
       "      <td>2019</td>\n",
       "      <td>37856121.0</td>\n",
       "      <td>9159.0</td>\n",
       "    </tr>\n",
       "    <tr>\n",
       "      <th>...</th>\n",
       "      <td>...</td>\n",
       "      <td>...</td>\n",
       "      <td>...</td>\n",
       "      <td>...</td>\n",
       "    </tr>\n",
       "    <tr>\n",
       "      <th>315</th>\n",
       "      <td>Pakistan</td>\n",
       "      <td>1964</td>\n",
       "      <td>50799999.0</td>\n",
       "      <td>-63298.0</td>\n",
       "    </tr>\n",
       "    <tr>\n",
       "      <th>316</th>\n",
       "      <td>Pakistan</td>\n",
       "      <td>1963</td>\n",
       "      <td>49447776.0</td>\n",
       "      <td>-64552.0</td>\n",
       "    </tr>\n",
       "    <tr>\n",
       "      <th>317</th>\n",
       "      <td>Pakistan</td>\n",
       "      <td>1962</td>\n",
       "      <td>48156128.0</td>\n",
       "      <td>-65780.0</td>\n",
       "    </tr>\n",
       "    <tr>\n",
       "      <th>318</th>\n",
       "      <td>Pakistan</td>\n",
       "      <td>1961</td>\n",
       "      <td>46921277.0</td>\n",
       "      <td>-66991.0</td>\n",
       "    </tr>\n",
       "    <tr>\n",
       "      <th>319</th>\n",
       "      <td>Pakistan</td>\n",
       "      <td>1960</td>\n",
       "      <td>45709310.0</td>\n",
       "      <td>0.0</td>\n",
       "    </tr>\n",
       "  </tbody>\n",
       "</table>\n",
       "<p>320 rows × 4 columns</p>\n",
       "</div>"
      ],
      "text/plain": [
       "         Country  Year  total_population  net_migration\n",
       "0    Afghanistan  2023        41454761.0       -48958.0\n",
       "1    Afghanistan  2022        40578842.0      -647402.0\n",
       "2    Afghanistan  2021        40000412.0      -548784.0\n",
       "3    Afghanistan  2020        39068979.0       143634.0\n",
       "4    Afghanistan  2019        37856121.0         9159.0\n",
       "..           ...   ...               ...            ...\n",
       "315     Pakistan  1964        50799999.0       -63298.0\n",
       "316     Pakistan  1963        49447776.0       -64552.0\n",
       "317     Pakistan  1962        48156128.0       -65780.0\n",
       "318     Pakistan  1961        46921277.0       -66991.0\n",
       "319     Pakistan  1960        45709310.0            0.0\n",
       "\n",
       "[320 rows x 4 columns]"
      ]
     },
     "execution_count": 12,
     "metadata": {},
     "output_type": "execute_result"
    }
   ],
   "source": [
    "# import data from csv file\n",
    "df = pd.read_csv(\"../data_scraping/datasets/pop_migration.csv\")\n",
    "df\n"
   ]
  },
  {
   "cell_type": "markdown",
   "id": "5c81cf77",
   "metadata": {},
   "source": [
    "# Create A Dummy data sets\n"
   ]
  },
  {
   "cell_type": "code",
   "execution_count": 14,
   "id": "32bca521",
   "metadata": {},
   "outputs": [
    {
     "data": {
      "application/vnd.microsoft.datawrangler.viewer.v0+json": {
       "columns": [
        {
         "name": "index",
         "rawType": "int64",
         "type": "integer"
        },
        {
         "name": "Name",
         "rawType": "object",
         "type": "string"
        },
        {
         "name": "Location",
         "rawType": "object",
         "type": "string"
        },
        {
         "name": "Age",
         "rawType": "int64",
         "type": "integer"
        },
        {
         "name": "Salary",
         "rawType": "int64",
         "type": "integer"
        }
       ],
       "conversionMethod": "pd.DataFrame",
       "ref": "4630112b-3c01-46c3-82a0-f513fcd0e53f",
       "rows": [
        [
         "0",
         "John",
         "New York",
         "24",
         "70000"
        ],
        [
         "1",
         "Anna",
         "Paris",
         "13",
         "80000"
        ],
        [
         "2",
         "Peter",
         "Berlin",
         "53",
         "120000"
        ],
        [
         "3",
         "Linda",
         "London",
         "33",
         "90000"
        ]
       ],
       "shape": {
        "columns": 4,
        "rows": 4
       }
      },
      "text/html": [
       "<div>\n",
       "<style scoped>\n",
       "    .dataframe tbody tr th:only-of-type {\n",
       "        vertical-align: middle;\n",
       "    }\n",
       "\n",
       "    .dataframe tbody tr th {\n",
       "        vertical-align: top;\n",
       "    }\n",
       "\n",
       "    .dataframe thead th {\n",
       "        text-align: right;\n",
       "    }\n",
       "</style>\n",
       "<table border=\"1\" class=\"dataframe\">\n",
       "  <thead>\n",
       "    <tr style=\"text-align: right;\">\n",
       "      <th></th>\n",
       "      <th>Name</th>\n",
       "      <th>Location</th>\n",
       "      <th>Age</th>\n",
       "      <th>Salary</th>\n",
       "    </tr>\n",
       "  </thead>\n",
       "  <tbody>\n",
       "    <tr>\n",
       "      <th>0</th>\n",
       "      <td>John</td>\n",
       "      <td>New York</td>\n",
       "      <td>24</td>\n",
       "      <td>70000</td>\n",
       "    </tr>\n",
       "    <tr>\n",
       "      <th>1</th>\n",
       "      <td>Anna</td>\n",
       "      <td>Paris</td>\n",
       "      <td>13</td>\n",
       "      <td>80000</td>\n",
       "    </tr>\n",
       "    <tr>\n",
       "      <th>2</th>\n",
       "      <td>Peter</td>\n",
       "      <td>Berlin</td>\n",
       "      <td>53</td>\n",
       "      <td>120000</td>\n",
       "    </tr>\n",
       "    <tr>\n",
       "      <th>3</th>\n",
       "      <td>Linda</td>\n",
       "      <td>London</td>\n",
       "      <td>33</td>\n",
       "      <td>90000</td>\n",
       "    </tr>\n",
       "  </tbody>\n",
       "</table>\n",
       "</div>"
      ],
      "text/plain": [
       "    Name  Location  Age  Salary\n",
       "0   John  New York   24   70000\n",
       "1   Anna     Paris   13   80000\n",
       "2  Peter    Berlin   53  120000\n",
       "3  Linda    London   33   90000"
      ]
     },
     "execution_count": 14,
     "metadata": {},
     "output_type": "execute_result"
    }
   ],
   "source": [
    "data= {\n",
    "    \"Name\":[\"John\", \"Anna\", \"Peter\", \"Linda\"],\n",
    "    \"Location\":[\"New York\", \"Paris\", \"Berlin\", \"London\"],\n",
    "    \"Age\":[24, 13, 53, 33],\n",
    "    \"Salary\":[70000, 80000, 120000, 90000]\n",
    "}\n",
    "\n",
    "df= pd.DataFrame(data)\n",
    "df"
   ]
  }
 ],
 "metadata": {
  "kernelspec": {
   "display_name": "data_analysis",
   "language": "python",
   "name": "python3"
  },
  "language_info": {
   "codemirror_mode": {
    "name": "ipython",
    "version": 3
   },
   "file_extension": ".py",
   "mimetype": "text/x-python",
   "name": "python",
   "nbconvert_exporter": "python",
   "pygments_lexer": "ipython3",
   "version": "3.10.15"
  }
 },
 "nbformat": 4,
 "nbformat_minor": 5
}
