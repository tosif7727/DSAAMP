{
 "cells": [
  {
   "cell_type": "markdown",
   "id": "1d359790",
   "metadata": {},
   "source": [
    "# Notes on Outliers 📊\n",
    "\n",
    "Outliers are data points that are very different from the rest of the data. They can affect the results of your analysis, so it's important to understand them. Here's a simple breakdown:\n",
    "\n",
    "### Types of Outliers 🔍\n",
    "\n",
    "1. **Univariate Outliers** 📈  \n",
    "    These are unusual values in a single variable. For example, if most people's height is between 5-6 feet, but one person is 8 feet tall, that's a univariate outlier.\n",
    "\n",
    "2. **Multivariate Outliers** 📊  \n",
    "    These occur when a combination of variables is unusual. For instance, a person with a very high income but very low education level might be a multivariate outlier.\n",
    "\n",
    "3. **Global Outliers** 🌍  \n",
    "    These are extreme values that are far away from all other data points. For example, a temperature of 60°C in a dataset where most temperatures are between 20-30°C.\n",
    "\n",
    "4. **Contextual Outliers** 🕵️‍♂️  \n",
    "    These depend on the context. For example, 40°C might be normal in summer but an outlier in winter.\n",
    "\n",
    "5. **Collective Outliers** 👥  \n",
    "    A group of data points that together behave unusually. For example, a sudden spike in website traffic at midnight.\n",
    "\n",
    "### Why Outliers Happen? 🤔\n",
    "- **Errors in data collection** 📝  \n",
    "- **Natural variation** 🌱  \n",
    "- **Unusual events** 🌟  \n",
    "\n",
    "### What to Do with Outliers? 🛠️\n",
    "- Investigate them to see if they are errors.  \n",
    "- Decide whether to keep, remove, or transform them based on your analysis goals.  \n",
    "\n",
    "Outliers can teach us a lot, but they can also mislead us. Always handle them carefully! 😊"
   ]
  },
  {
   "cell_type": "markdown",
   "id": "fc79a982",
   "metadata": {},
   "source": [
    "## 🔹 Basic Methods to Remove Outliers\n",
    "## 1. Visualization se Outliers pakarna (Basic level)  \n",
    "📊 a) Box Plot (a.k.a. Tukri Chart 😅)\n",
    "\n",
    "Box plot easily outliers ko dikhata hai. Jo points box se bahar hotay hain, woh outliers hote hain.\n",
    "\n",
    "### Example:  \n",
    "Using the `data` variable, we can visualize outliers with a box plot. Refer to the code in the cell below for implementation."
   ]
  },
  {
   "cell_type": "code",
   "execution_count": 35,
   "id": "d758a4f8",
   "metadata": {},
   "outputs": [],
   "source": [
    "# import libraries\n",
    "import pandas as pd \n",
    "import numpy as np\n",
    "import seaborn as sns\n",
    "\n",
    "# Create a DataFrame of single variable data\n",
    "df = pd.DataFrame({\"Age\" : [20, 21, 22, 23, 24, 25, 26, 27, 28, 29, 30, 50] })\n",
    "\n"
   ]
  },
  {
   "cell_type": "code",
   "execution_count": 36,
   "id": "89f21ba3",
   "metadata": {},
   "outputs": [
    {
     "data": {
      "text/plain": [
       "<Axes: >"
      ]
     },
     "execution_count": 36,
     "metadata": {},
     "output_type": "execute_result"
    },
    {
     "data": {
      "image/png": "[encoded data removed]",
      "text/plain": [
       "<Figure size 640x480 with 1 Axes>"
      ]
     },
     "metadata": {},
     "output_type": "display_data"
    }
   ],
   "source": [
    "# Step 1:\n",
    "# Checking outliers using boxplot\n",
    "sns.boxplot(data=df)"
   ]
  },
  {
   "cell_type": "markdown",
   "id": "d64e80f3",
   "metadata": {},
   "source": [
    "# Method 1:\n",
    "\n",
    "Z-Score Method se Outliers ko samajhna bohot asaan hai! 😎\n",
    "\n",
    "### Z-Score Kya Hai? 🤔\n",
    "Z-Score ek statistical measure hai jo batata hai ke ek data point apne mean se kitna door hai, standard deviation ke terms mein. Agar Z-Score bohot zyada ya bohot kam ho, toh woh data point outlier ho sakta hai. 🚀\n",
    "\n",
    "### Formula:  \n",
    "**Z-Score = (Data Point - Mean) / Standard Deviation**  \n",
    "\n",
    "### Steps: 🛠️  \n",
    "1. **Mean aur Standard Deviation Calculate karo** 🧮  \n",
    "    Har data point ka Z-Score nikalne ke liye pehle mean aur standard deviation calculate karna zaroori hai.\n",
    "\n",
    "2. **Z-Score Calculate karo** 📊  \n",
    "    Har data point ka Z-Score nikal lo using the formula.\n",
    "\n",
    "3. **Threshold Set karo** 🎯  \n",
    "    Usually, Z-Score > 3 ya Z-Score < -3 ko outlier consider kiya jata hai.\n",
    "\n",
    "4. **Outliers Identify karo** 🔍  \n",
    "    Jo data points threshold ke bahar ho, woh outliers hain.\n",
    "\n",
    "5. **Outliers Remove karo (Optional)** 🗑️  \n",
    "    Agar analysis ke liye zaroori ho, toh outliers ko remove kar do.\n",
    "\n",
    "### Example:  \n",
    "Humne `Age` ka Z-Score calculate kiya aur threshold set kiya 3. Jo points Z-Score > 3 ya Z-Score < -3 hain, woh outliers hain. 👇\n",
    "\n"
   ]
  },
  {
   "cell_type": "code",
   "execution_count": null,
   "id": "2f89c6ca",
   "metadata": {},
   "outputs": [],
   "source": [
    "# Step 2:\n",
    "\n",
    "# Calculate the mean and Standard Deviation\n",
    "df[\"mean\"] = np.mean(df[\"Age\"])\n",
    "df[\"std\"] = np.std(df[\"Age\"])\n",
    "\n",
    "\n",
    "# Step 3:\n",
    "# Calculate the z-score for each data point\n",
    "df[\"z_score\"] = (df[\"Age\"] - df[\"mean\"]) / df[\"std\"]\n",
    "\n",
    "\n",
    "# Step 4:\n",
    "print(\"-------------------------------------------------\")\n",
    "print(f\"Here is the DataFrame with with and without outliers \\n{df}\")\n",
    "print(\"-------------------------------------------------\")\n",
    "# Step 5:\n",
    "# Identify outliers using z-score threshold of 3\n",
    "print(\"------------------------------------------------\")\n",
    "print(f\"Outliers using z-score threshold of 3 \\n{df[(df['z_score'] > 3) | (df['z_score'] < -3)]}\")\n",
    "print(\"-------------------------------------------------\")\n",
    "# Step 5:\n",
    "# Remove outliers\n",
    "df_no_outliers = df[(df[\"z_score\"] <= 3)]\n",
    "print(\"-------------------------------------------------\")\n",
    "print(df_no_outliers)\n",
    "print(\"-------------------------------------------------\")"
   ]
  },
  {
   "cell_type": "markdown",
   "id": "38313f6b",
   "metadata": {},
   "source": [
    "## Method 2:"
   ]
  },
  {
   "cell_type": "code",
   "execution_count": 57,
   "id": "769d1eee",
   "metadata": {},
   "outputs": [
    {
     "name": "stdout",
     "output_type": "stream",
     "text": [
      "-------------------------------------------------\n",
      "print Data Points\n",
      "   Hight   Z_score\n",
      "0    4.5 -0.815694\n",
      "1    5.4 -0.052967\n",
      "2    4.3 -0.985189\n",
      "3    5.3 -0.137715\n",
      "4    5.2 -0.222462\n",
      "5    5.5  0.031780\n",
      "6    5.1 -0.307210\n",
      "7    8.4  2.489457\n",
      "-------------------------------------------------\n",
      "Indeces of outliers[7]\n",
      "Outliers Values\n",
      "   Hight   Z_score\n",
      "7    8.4  2.489457\n",
      "-------------------------------------------------\n",
      "DataFrame without outliers\n",
      "   Hight   Z_score\n",
      "0    4.5 -0.815694\n",
      "1    5.4 -0.052967\n",
      "2    4.3 -0.985189\n",
      "3    5.3 -0.137715\n",
      "4    5.2 -0.222462\n",
      "5    5.5  0.031780\n",
      "6    5.1 -0.307210\n",
      "-------------------------------------------------\n"
     ]
    }
   ],
   "source": [
    "# import libraries\n",
    "import pandas as pd\n",
    "import numpy as np\n",
    "from scipy import stats\n",
    "import seaborn as sns\n",
    "\n",
    "# Step 1:\n",
    "# create DataFrame of single variable data\n",
    "df = pd.DataFrame({\"Hight\" : [4.5 ,5.4, 4.3, 5.3, 5.2, 5.5, 5.1, 8.4] })\n",
    "\n",
    "# Step 2:\n",
    "# Calculate z-score for each data point using scipy.stats\n",
    "df[\"Z_score\"] = stats.zscore(df[\"Hight\"])\n",
    "\n",
    "# Step 3:\n",
    "# Set threshold for z-score\n",
    "threshold = 2.3\n",
    "\n",
    "# Step 4:\n",
    "# Identify outliers using z-score threshold of 2.3\n",
    "outliers = np.where(df[\"Z_score\"] > threshold)[0]\n",
    "\n",
    "# Step 5:\n",
    "print(\"-------------------------------------------------\")\n",
    "print(f\"print Data Points\\n{df}\")\n",
    "print(\"-------------------------------------------------\")\n",
    "\n",
    "print(f\"Indeces of outliers{outliers}\")\n",
    "print(f\"Outliers Values\\n{df.iloc[outliers]}\")\n",
    "\n",
    "# Step 6:\n",
    "# Remove outliers from the DataFrame\n",
    "df= df[df[\"Z_score\"] <= threshold]\n",
    "print(\"-------------------------------------------------\")\n",
    "print(f\"DataFrame without outliers\\n{df}\")\n",
    "print(\"-------------------------------------------------\")  "
   ]
  },
  {
   "cell_type": "markdown",
   "id": "5241e640",
   "metadata": {},
   "source": [
    "## Method 3: IQR \n",
    "## IQR Method se Outliers ko pakarna! 🇵🇰✨\n",
    "\n",
    "### IQR Kya Hai? 🤔  \n",
    "IQR ka matlab hai **Interquartile Range**. Yeh ek statistical measure hai jo data ke middle 50% ko represent karta hai. Iska use karke hum outliers ko identify karte hain. 🚀  \n",
    "\n",
    "### Formula:  \n",
    "**IQR = Q3 - Q1**  \n",
    "Yahan:  \n",
    "- **Q1** (First Quartile) = Data ka 25th percentile  \n",
    "- **Q3** (Third Quartile) = Data ka 75th percentile  \n",
    "\n",
    "### Steps: 🛠️  \n",
    "1. **IQR Calculate karo** 🧮  \n",
    "    IQR nikalne ke liye Q3 aur Q1 ka difference lo.  \n",
    "    **IQR = Q3 - Q1**  \n",
    "\n",
    "2. **Lower aur Upper Bound Set karo** 🎯  \n",
    "    - **Lower Bound = Q1 - (1.5 * IQR)**  \n",
    "    - **Upper Bound = Q3 + (1.5 * IQR)**  \n",
    "\n",
    "3. **Outliers Identify karo** 🔍  \n",
    "    Jo data points lower bound se neeche ya upper bound se upar ho, woh outliers hain.  \n",
    "\n",
    "4. **Outliers Remove karo (Optional)** 🗑️  \n",
    "    Agar zarurat ho, toh outliers ko remove kar do.  \n",
    "\n",
    "### Example:  \n",
    "Humne `Age` ka IQR calculate kiya aur lower aur upper bounds set kiye. Jo points bounds ke bahar hain, woh outliers hain. 👇"
   ]
  },
  {
   "cell_type": "code",
   "execution_count": 72,
   "id": "76348157",
   "metadata": {},
   "outputs": [
    {
     "name": "stdout",
     "output_type": "stream",
     "text": [
      "-------------------------------------------------\n",
      "Outliers using IQR method\n",
      "    Age\n",
      "0    11\n",
      "12   50\n",
      "-------------------------------------------------\n",
      "DataFrame without outliers\n",
      "    Age\n",
      "1    20\n",
      "2    21\n",
      "3    22\n",
      "4    23\n",
      "5    24\n",
      "6    25\n",
      "7    26\n",
      "8    27\n",
      "9    28\n",
      "10   29\n",
      "11   30\n",
      "-------------------------------------------------\n"
     ]
    }
   ],
   "source": [
    "# import libraries\n",
    "import pandas as pd\n",
    "import numpy as np  \n",
    "from scipy import stats\n",
    "import seaborn as sns\n",
    "\n",
    "# Step 1:\n",
    "# Create a DataFrame of single variable data\n",
    "df = pd.DataFrame({\"Age\" : [11,20, 21, 22, 23, 24, 25, 26, 27, 28, 29, 30, 50] })\n",
    "\n",
    "# Step 2:\n",
    "# find the IQR\n",
    "Q1 = df[\"Age\"].quantile(0.25)\n",
    "Q3 = df[\"Age\"].quantile(0.75)\n",
    "IQR = Q3 - Q1\n",
    "\n",
    "# Step 3:\n",
    "# Set the lower and upper bounds for outliers\n",
    "lower_bound = Q1 - (1.5 * IQR)\n",
    "upper_bound = Q3 + (1.5 * IQR)\n",
    "\n",
    "# Step 4:\n",
    "# Identify outliers using IQR method\n",
    "print(\"-------------------------------------------------\")\n",
    "print(f\"Outliers using IQR method\\n{df[(df['Age'] < lower_bound) | (df['Age'] > upper_bound)]}\")\n",
    "\n",
    "# Step 5:\n",
    "# Remove outliers from the DataFrame\n",
    "df = df[(df[\"Age\"] >= lower_bound) & (df[\"Age\"] <= upper_bound)]\n",
    "print(\"-------------------------------------------------\")  \n",
    "print(f\"DataFrame without outliers\\n{df}\")\n",
    "print(\"-------------------------------------------------\")\n"
   ]
  }
 ],
 "metadata": {
  "kernelspec": {
   "display_name": "data_analysis",
   "language": "python",
   "name": "python3"
  },
  "language_info": {
   "codemirror_mode": {
    "name": "ipython",
    "version": 3
   },
   "file_extension": ".py",
   "mimetype": "text/x-python",
   "name": "python",
   "nbconvert_exporter": "python",
   "pygments_lexer": "ipython3",
   "version": "3.10.15"
  }
 },
 "nbformat": 4,
 "nbformat_minor": 5
}
