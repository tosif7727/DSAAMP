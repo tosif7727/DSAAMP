{
 "cells": [
  {
   "cell_type": "markdown",
   "id": "4b12ac60",
   "metadata": {},
   "source": [
    "# Imputing Missing Values\n"
   ]
  },
  {
   "cell_type": "markdown",
   "id": "6d4d6d87",
   "metadata": {},
   "source": [
    "\n",
    "# Missing Value Kya Hai? 🤔\n",
    "\n",
    "Missing value ka matlab hai data mein woh jagah jahan koi information available nahi hoti. Yeh aksar tab hota hai jab kisi survey, form ya data collection process mein kuch cheezein chhoot jaati hain. Missing values ko samajhna aur handle karna data analysis ka ek zaroori hissa hai. 😊\n",
    "\n",
    "## Missing Values Ki Wajahain 🛠️\n",
    "- Kisi ne form ka kuch hissa fill nahi kiya.\n",
    "- Data collection mein error ho gaya.\n",
    "- Kisi variable ki value applicable hi nahi thi.\n",
    "\n",
    "## Missing Values Ka Asar 📉\n",
    "- Analysis aur results galat ho sakte hain.\n",
    "- Machine learning models ki performance kharaab ho sakti hai.\n",
    "- Data ka structure incomplete lagta hai.\n",
    "\n",
    "Yeh zaroori hai ke missing values ko samajhdari se handle karein, warna aapke analysis aur predictions galat ho sakte hain. 😊"
   ]
  },
  {
   "cell_type": "markdown",
   "id": "2a084dda",
   "metadata": {},
   "source": [
    "# Missing Values Ko Impute Karne Ke 5 Ahem Tareeqay ✨\n",
    "\n",
    "Aap missing values ko machine learning models ka istemal karke impute kar saktay hain. Yeh process data imputation kehlata hai aur data preprocessing mein missing ya incomplete data ko handle karne ke liye aam tor par istemal hota hai. Neeche kuch tareeqay aur models diye gaye hain jo aap apne data aur missing values ki nature ke mutabiq use kar saktay hain:\n",
    "\n",
    "## Simple Imputation Techniques 🛠️\n",
    "\n",
    "- **Mean/Median Imputation**: Missing values k column ko mean ya median se replace karein. Yeh numerical data ke liye behtareen hai.\n",
    "- **Mode Imputation**: Missing values k column ko mode (sabse zyada bar aane wali value) se replace karein. Yeh categorical data ke liye mufeed hai.\n",
    "- **K-Nearest Neighbors (KNN)**: Yeh algorithm rows ki similarity ke base par missing values ko impute kar sakta hai.\n",
    "\n",
    "## Regression Imputation 📈\n",
    "\n",
    "- Regression model ka istemal karke missing values ko predict karein jo dataset ke doosre variables par mabni ho.\n",
    "\n",
    "## Decision Trees aur Random Forests 🌳\n",
    "\n",
    "- Yeh models missing values ko naturally handle karte hain. Yeh patterns ko seekh kar missing values ko predict karne ke liye bhi istemal ho saktay hain.\n",
    "\n",
    "## Advanced Techniques 🚀\n",
    "\n",
    "- **Multiple Imputation by Chained Equations (MICE)**: Yeh ek advanced technique hai jo har variable k missing values ko saath round-robin fashion mein model karti hai.\n",
    "- **Deep Learning Methods**: Neural networks, khaaskar autoencoders, complex datasets mein missing values ko impute karne mein kaafi effective hain.\n",
    "- **Time Series Specific Methods**: Agar aapka data time-series hai, to interpolation, forward-fill, ya backward-fill jaise techniques ka istemal karein.\n",
    "\n",
    "## Important Tips 📝\n",
    "\n",
    "- Apne data ki type, missingness ka pattern (e.g., random, completely random, ya not random), aur missing data ki amount ke mutabiq sahi method ka intekhab karein.\n",
    "- Yeh samajhna zaroori hai ke imputation bias introduce kar sakta hai ya aapke data ki distribution ko affect kar sakta hai, is liye isay ehtiyaat aur samajhdari ke saath karein. 😊"
   ]
  },
  {
   "cell_type": "markdown",
   "id": "e636e7bc",
   "metadata": {},
   "source": [
    "## 1. Simple Imputation Techniques 🛠️"
   ]
  },
  {
   "cell_type": "markdown",
   "id": "efa7c76d",
   "metadata": {},
   "source": [
    "### 1.1. Mean/Median Imputation ✨\n",
    "\n",
    "- **Mean/Median Imputation** ka matlab hai missing values k column k0 mean ya median se replace karna. \n",
    "- Yeh ek simple aur effective method hai, lekin iske kuch limitations bhi hain:\n",
    "    - Dataset ki variance ko kam kar deta hai. 📉\n",
    "    - Agar missing values random na hoon, to biased estimates ka sabab ban sakta hai. ⚠️\n",
    "\n",
    "Chaliye dekhte hain Python mein Titanic dataset ka istemal karke mean/median imputation kaise implement karte hain. 🚢"
   ]
  },
  {
   "cell_type": "markdown",
   "id": "712f84b6",
   "metadata": {},
   "source": [
    "### 1.1.1 Mean Imputation 🧮\n",
    "\n",
    "Mean imputation ka matlab hai missing values ko column ke average (mean) se replace karna. Yeh ek simple aur aam tareeqa hai jo numerical data ke liye kaafi useful ho sakta hai. 😊"
   ]
  },
  {
   "cell_type": "code",
   "execution_count": 71,
   "id": "9d73aad9",
   "metadata": {},
   "outputs": [
    {
     "data": {
      "application/vnd.microsoft.datawrangler.viewer.v0+json": {
       "columns": [
        {
         "name": "index",
         "rawType": "int64",
         "type": "integer"
        },
        {
         "name": "PassengerId",
         "rawType": "int64",
         "type": "integer"
        },
        {
         "name": "Survived",
         "rawType": "int64",
         "type": "integer"
        },
        {
         "name": "Pclass",
         "rawType": "int64",
         "type": "integer"
        },
        {
         "name": "Name",
         "rawType": "object",
         "type": "string"
        },
        {
         "name": "Sex",
         "rawType": "object",
         "type": "string"
        },
        {
         "name": "Age",
         "rawType": "float64",
         "type": "float"
        },
        {
         "name": "SibSp",
         "rawType": "int64",
         "type": "integer"
        },
        {
         "name": "Parch",
         "rawType": "int64",
         "type": "integer"
        },
        {
         "name": "Ticket",
         "rawType": "object",
         "type": "string"
        },
        {
         "name": "Fare",
         "rawType": "float64",
         "type": "float"
        },
        {
         "name": "Cabin",
         "rawType": "object",
         "type": "unknown"
        },
        {
         "name": "Embarked",
         "rawType": "object",
         "type": "string"
        }
       ],
       "conversionMethod": "pd.DataFrame",
       "ref": "3d64eeff-0576-48c1-9130-fca07f45dfe9",
       "rows": [
        [
         "0",
         "1",
         "0",
         "3",
         "Braund, Mr. Owen Harris",
         "male",
         "22.0",
         "1",
         "0",
         "A/5 21171",
         "7.25",
         null,
         "S"
        ],
        [
         "1",
         "2",
         "1",
         "1",
         "Cumings, Mrs. John Bradley (Florence Briggs Thayer)",
         "female",
         "38.0",
         "1",
         "0",
         "PC 17599",
         "71.2833",
         "C85",
         "C"
        ],
        [
         "2",
         "3",
         "1",
         "3",
         "Heikkinen, Miss. Laina",
         "female",
         "26.0",
         "0",
         "0",
         "STON/O2. 3101282",
         "7.925",
         null,
         "S"
        ],
        [
         "3",
         "4",
         "1",
         "1",
         "Futrelle, Mrs. Jacques Heath (Lily May Peel)",
         "female",
         "35.0",
         "1",
         "0",
         "113803",
         "53.1",
         "C123",
         "S"
        ],
        [
         "4",
         "5",
         "0",
         "3",
         "Allen, Mr. William Henry",
         "male",
         "35.0",
         "0",
         "0",
         "373450",
         "8.05",
         null,
         "S"
        ]
       ],
       "shape": {
        "columns": 12,
        "rows": 5
       }
      },
      "text/html": [
       "<div>\n",
       "<style scoped>\n",
       "    .dataframe tbody tr th:only-of-type {\n",
       "        vertical-align: middle;\n",
       "    }\n",
       "\n",
       "    .dataframe tbody tr th {\n",
       "        vertical-align: top;\n",
       "    }\n",
       "\n",
       "    .dataframe thead th {\n",
       "        text-align: right;\n",
       "    }\n",
       "</style>\n",
       "<table border=\"1\" class=\"dataframe\">\n",
       "  <thead>\n",
       "    <tr style=\"text-align: right;\">\n",
       "      <th></th>\n",
       "      <th>PassengerId</th>\n",
       "      <th>Survived</th>\n",
       "      <th>Pclass</th>\n",
       "      <th>Name</th>\n",
       "      <th>Sex</th>\n",
       "      <th>Age</th>\n",
       "      <th>SibSp</th>\n",
       "      <th>Parch</th>\n",
       "      <th>Ticket</th>\n",
       "      <th>Fare</th>\n",
       "      <th>Cabin</th>\n",
       "      <th>Embarked</th>\n",
       "    </tr>\n",
       "  </thead>\n",
       "  <tbody>\n",
       "    <tr>\n",
       "      <th>0</th>\n",
       "      <td>1</td>\n",
       "      <td>0</td>\n",
       "      <td>3</td>\n",
       "      <td>Braund, Mr. Owen Harris</td>\n",
       "      <td>male</td>\n",
       "      <td>22.0</td>\n",
       "      <td>1</td>\n",
       "      <td>0</td>\n",
       "      <td>A/5 21171</td>\n",
       "      <td>7.2500</td>\n",
       "      <td>NaN</td>\n",
       "      <td>S</td>\n",
       "    </tr>\n",
       "    <tr>\n",
       "      <th>1</th>\n",
       "      <td>2</td>\n",
       "      <td>1</td>\n",
       "      <td>1</td>\n",
       "      <td>Cumings, Mrs. John Bradley (Florence Briggs Th...</td>\n",
       "      <td>female</td>\n",
       "      <td>38.0</td>\n",
       "      <td>1</td>\n",
       "      <td>0</td>\n",
       "      <td>PC 17599</td>\n",
       "      <td>71.2833</td>\n",
       "      <td>C85</td>\n",
       "      <td>C</td>\n",
       "    </tr>\n",
       "    <tr>\n",
       "      <th>2</th>\n",
       "      <td>3</td>\n",
       "      <td>1</td>\n",
       "      <td>3</td>\n",
       "      <td>Heikkinen, Miss. Laina</td>\n",
       "      <td>female</td>\n",
       "      <td>26.0</td>\n",
       "      <td>0</td>\n",
       "      <td>0</td>\n",
       "      <td>STON/O2. 3101282</td>\n",
       "      <td>7.9250</td>\n",
       "      <td>NaN</td>\n",
       "      <td>S</td>\n",
       "    </tr>\n",
       "    <tr>\n",
       "      <th>3</th>\n",
       "      <td>4</td>\n",
       "      <td>1</td>\n",
       "      <td>1</td>\n",
       "      <td>Futrelle, Mrs. Jacques Heath (Lily May Peel)</td>\n",
       "      <td>female</td>\n",
       "      <td>35.0</td>\n",
       "      <td>1</td>\n",
       "      <td>0</td>\n",
       "      <td>113803</td>\n",
       "      <td>53.1000</td>\n",
       "      <td>C123</td>\n",
       "      <td>S</td>\n",
       "    </tr>\n",
       "    <tr>\n",
       "      <th>4</th>\n",
       "      <td>5</td>\n",
       "      <td>0</td>\n",
       "      <td>3</td>\n",
       "      <td>Allen, Mr. William Henry</td>\n",
       "      <td>male</td>\n",
       "      <td>35.0</td>\n",
       "      <td>0</td>\n",
       "      <td>0</td>\n",
       "      <td>373450</td>\n",
       "      <td>8.0500</td>\n",
       "      <td>NaN</td>\n",
       "      <td>S</td>\n",
       "    </tr>\n",
       "  </tbody>\n",
       "</table>\n",
       "</div>"
      ],
      "text/plain": [
       "   PassengerId  Survived  Pclass  \\\n",
       "0            1         0       3   \n",
       "1            2         1       1   \n",
       "2            3         1       3   \n",
       "3            4         1       1   \n",
       "4            5         0       3   \n",
       "\n",
       "                                                Name     Sex   Age  SibSp  \\\n",
       "0                            Braund, Mr. Owen Harris    male  22.0      1   \n",
       "1  Cumings, Mrs. John Bradley (Florence Briggs Th...  female  38.0      1   \n",
       "2                             Heikkinen, Miss. Laina  female  26.0      0   \n",
       "3       Futrelle, Mrs. Jacques Heath (Lily May Peel)  female  35.0      1   \n",
       "4                           Allen, Mr. William Henry    male  35.0      0   \n",
       "\n",
       "   Parch            Ticket     Fare Cabin Embarked  \n",
       "0      0         A/5 21171   7.2500   NaN        S  \n",
       "1      0          PC 17599  71.2833   C85        C  \n",
       "2      0  STON/O2. 3101282   7.9250   NaN        S  \n",
       "3      0            113803  53.1000  C123        S  \n",
       "4      0            373450   8.0500   NaN        S  "
      ]
     },
     "execution_count": 71,
     "metadata": {},
     "output_type": "execute_result"
    }
   ],
   "source": [
    "# import libraries\n",
    "import pandas as pd \n",
    "import numpy as np\n",
    "\n",
    "# Load Dataset\n",
    "df = pd.read_csv(\"../data_scraping/datasets/Titanic.csv\")\n",
    "df.head()"
   ]
  },
  {
   "cell_type": "code",
   "execution_count": 72,
   "id": "e5d39e1d",
   "metadata": {},
   "outputs": [
    {
     "data": {
      "text/plain": [
       "Cabin          687\n",
       "Age            177\n",
       "Embarked         2\n",
       "PassengerId      0\n",
       "Survived         0\n",
       "Pclass           0\n",
       "Name             0\n",
       "Sex              0\n",
       "SibSp            0\n",
       "Parch            0\n",
       "Ticket           0\n",
       "Fare             0\n",
       "dtype: int64"
      ]
     },
     "execution_count": 72,
     "metadata": {},
     "output_type": "execute_result"
    }
   ],
   "source": [
    "# Check Missing Values\n",
    "df.isna().sum().sort_values(ascending=False)"
   ]
  },
  {
   "cell_type": "markdown",
   "id": "074c2fbc",
   "metadata": {},
   "source": [
    "we can see the `age` columan has 177 missing values. let replace these missing values with mean....."
   ]
  },
  {
   "cell_type": "code",
   "execution_count": 73,
   "id": "a94d3008",
   "metadata": {},
   "outputs": [
    {
     "data": {
      "text/plain": [
       "Cabin          687\n",
       "Embarked         2\n",
       "PassengerId      0\n",
       "Survived         0\n",
       "Pclass           0\n",
       "Name             0\n",
       "Sex              0\n",
       "Age              0\n",
       "SibSp            0\n",
       "Parch            0\n",
       "Ticket           0\n",
       "Fare             0\n",
       "dtype: int64"
      ]
     },
     "execution_count": 73,
     "metadata": {},
     "output_type": "execute_result"
    }
   ],
   "source": [
    "# Fill missing values with mean\n",
    "df[\"Age\"] = df[\"Age\"].fillna(df[\"Age\"].mean())\n",
    "\n",
    "# Check Missing Values again\n",
    "df.isna().sum().sort_values(ascending=False)"
   ]
  },
  {
   "cell_type": "markdown",
   "id": "5fb48b0f",
   "metadata": {},
   "source": [
    "we can see that `age` column 177 missing values is filled with mean value of `age` column."
   ]
  },
  {
   "cell_type": "markdown",
   "id": "fc163cf5",
   "metadata": {},
   "source": [
    "### 1.1.2 Median Imputation 🧮\n",
    "Median imputation ka matlab hai missing values ko column ke median se replace karna. Yeh bhi ek simple aur aam tareeqa hai jo numerical data ke liye kaafi useful ho sakta hai. 😊"
   ]
  },
  {
   "cell_type": "code",
   "execution_count": 74,
   "id": "27c20f04",
   "metadata": {},
   "outputs": [
    {
     "data": {
      "application/vnd.microsoft.datawrangler.viewer.v0+json": {
       "columns": [
        {
         "name": "index",
         "rawType": "int64",
         "type": "integer"
        },
        {
         "name": "PassengerId",
         "rawType": "int64",
         "type": "integer"
        },
        {
         "name": "Survived",
         "rawType": "int64",
         "type": "integer"
        },
        {
         "name": "Pclass",
         "rawType": "int64",
         "type": "integer"
        },
        {
         "name": "Name",
         "rawType": "object",
         "type": "string"
        },
        {
         "name": "Sex",
         "rawType": "object",
         "type": "string"
        },
        {
         "name": "Age",
         "rawType": "float64",
         "type": "float"
        },
        {
         "name": "SibSp",
         "rawType": "int64",
         "type": "integer"
        },
        {
         "name": "Parch",
         "rawType": "int64",
         "type": "integer"
        },
        {
         "name": "Ticket",
         "rawType": "object",
         "type": "string"
        },
        {
         "name": "Fare",
         "rawType": "float64",
         "type": "float"
        },
        {
         "name": "Cabin",
         "rawType": "object",
         "type": "unknown"
        },
        {
         "name": "Embarked",
         "rawType": "object",
         "type": "string"
        }
       ],
       "conversionMethod": "pd.DataFrame",
       "ref": "ed7287cc-a507-4cf8-a6e8-a1f1ab0fd859",
       "rows": [
        [
         "0",
         "1",
         "0",
         "3",
         "Braund, Mr. Owen Harris",
         "male",
         "22.0",
         "1",
         "0",
         "A/5 21171",
         "7.25",
         null,
         "S"
        ],
        [
         "1",
         "2",
         "1",
         "1",
         "Cumings, Mrs. John Bradley (Florence Briggs Thayer)",
         "female",
         "38.0",
         "1",
         "0",
         "PC 17599",
         "71.2833",
         "C85",
         "C"
        ],
        [
         "2",
         "3",
         "1",
         "3",
         "Heikkinen, Miss. Laina",
         "female",
         "26.0",
         "0",
         "0",
         "STON/O2. 3101282",
         "7.925",
         null,
         "S"
        ],
        [
         "3",
         "4",
         "1",
         "1",
         "Futrelle, Mrs. Jacques Heath (Lily May Peel)",
         "female",
         "35.0",
         "1",
         "0",
         "113803",
         "53.1",
         "C123",
         "S"
        ],
        [
         "4",
         "5",
         "0",
         "3",
         "Allen, Mr. William Henry",
         "male",
         "35.0",
         "0",
         "0",
         "373450",
         "8.05",
         null,
         "S"
        ]
       ],
       "shape": {
        "columns": 12,
        "rows": 5
       }
      },
      "text/html": [
       "<div>\n",
       "<style scoped>\n",
       "    .dataframe tbody tr th:only-of-type {\n",
       "        vertical-align: middle;\n",
       "    }\n",
       "\n",
       "    .dataframe tbody tr th {\n",
       "        vertical-align: top;\n",
       "    }\n",
       "\n",
       "    .dataframe thead th {\n",
       "        text-align: right;\n",
       "    }\n",
       "</style>\n",
       "<table border=\"1\" class=\"dataframe\">\n",
       "  <thead>\n",
       "    <tr style=\"text-align: right;\">\n",
       "      <th></th>\n",
       "      <th>PassengerId</th>\n",
       "      <th>Survived</th>\n",
       "      <th>Pclass</th>\n",
       "      <th>Name</th>\n",
       "      <th>Sex</th>\n",
       "      <th>Age</th>\n",
       "      <th>SibSp</th>\n",
       "      <th>Parch</th>\n",
       "      <th>Ticket</th>\n",
       "      <th>Fare</th>\n",
       "      <th>Cabin</th>\n",
       "      <th>Embarked</th>\n",
       "    </tr>\n",
       "  </thead>\n",
       "  <tbody>\n",
       "    <tr>\n",
       "      <th>0</th>\n",
       "      <td>1</td>\n",
       "      <td>0</td>\n",
       "      <td>3</td>\n",
       "      <td>Braund, Mr. Owen Harris</td>\n",
       "      <td>male</td>\n",
       "      <td>22.0</td>\n",
       "      <td>1</td>\n",
       "      <td>0</td>\n",
       "      <td>A/5 21171</td>\n",
       "      <td>7.2500</td>\n",
       "      <td>NaN</td>\n",
       "      <td>S</td>\n",
       "    </tr>\n",
       "    <tr>\n",
       "      <th>1</th>\n",
       "      <td>2</td>\n",
       "      <td>1</td>\n",
       "      <td>1</td>\n",
       "      <td>Cumings, Mrs. John Bradley (Florence Briggs Th...</td>\n",
       "      <td>female</td>\n",
       "      <td>38.0</td>\n",
       "      <td>1</td>\n",
       "      <td>0</td>\n",
       "      <td>PC 17599</td>\n",
       "      <td>71.2833</td>\n",
       "      <td>C85</td>\n",
       "      <td>C</td>\n",
       "    </tr>\n",
       "    <tr>\n",
       "      <th>2</th>\n",
       "      <td>3</td>\n",
       "      <td>1</td>\n",
       "      <td>3</td>\n",
       "      <td>Heikkinen, Miss. Laina</td>\n",
       "      <td>female</td>\n",
       "      <td>26.0</td>\n",
       "      <td>0</td>\n",
       "      <td>0</td>\n",
       "      <td>STON/O2. 3101282</td>\n",
       "      <td>7.9250</td>\n",
       "      <td>NaN</td>\n",
       "      <td>S</td>\n",
       "    </tr>\n",
       "    <tr>\n",
       "      <th>3</th>\n",
       "      <td>4</td>\n",
       "      <td>1</td>\n",
       "      <td>1</td>\n",
       "      <td>Futrelle, Mrs. Jacques Heath (Lily May Peel)</td>\n",
       "      <td>female</td>\n",
       "      <td>35.0</td>\n",
       "      <td>1</td>\n",
       "      <td>0</td>\n",
       "      <td>113803</td>\n",
       "      <td>53.1000</td>\n",
       "      <td>C123</td>\n",
       "      <td>S</td>\n",
       "    </tr>\n",
       "    <tr>\n",
       "      <th>4</th>\n",
       "      <td>5</td>\n",
       "      <td>0</td>\n",
       "      <td>3</td>\n",
       "      <td>Allen, Mr. William Henry</td>\n",
       "      <td>male</td>\n",
       "      <td>35.0</td>\n",
       "      <td>0</td>\n",
       "      <td>0</td>\n",
       "      <td>373450</td>\n",
       "      <td>8.0500</td>\n",
       "      <td>NaN</td>\n",
       "      <td>S</td>\n",
       "    </tr>\n",
       "  </tbody>\n",
       "</table>\n",
       "</div>"
      ],
      "text/plain": [
       "   PassengerId  Survived  Pclass  \\\n",
       "0            1         0       3   \n",
       "1            2         1       1   \n",
       "2            3         1       3   \n",
       "3            4         1       1   \n",
       "4            5         0       3   \n",
       "\n",
       "                                                Name     Sex   Age  SibSp  \\\n",
       "0                            Braund, Mr. Owen Harris    male  22.0      1   \n",
       "1  Cumings, Mrs. John Bradley (Florence Briggs Th...  female  38.0      1   \n",
       "2                             Heikkinen, Miss. Laina  female  26.0      0   \n",
       "3       Futrelle, Mrs. Jacques Heath (Lily May Peel)  female  35.0      1   \n",
       "4                           Allen, Mr. William Henry    male  35.0      0   \n",
       "\n",
       "   Parch            Ticket     Fare Cabin Embarked  \n",
       "0      0         A/5 21171   7.2500   NaN        S  \n",
       "1      0          PC 17599  71.2833   C85        C  \n",
       "2      0  STON/O2. 3101282   7.9250   NaN        S  \n",
       "3      0            113803  53.1000  C123        S  \n",
       "4      0            373450   8.0500   NaN        S  "
      ]
     },
     "execution_count": 74,
     "metadata": {},
     "output_type": "execute_result"
    }
   ],
   "source": [
    "# import libraries\n",
    "import pandas as pd \n",
    "import numpy as np\n",
    "\n",
    "# Load Dataset\n",
    "df = pd.read_csv(\"../data_scraping/datasets/Titanic.csv\")\n",
    "df.head()"
   ]
  },
  {
   "cell_type": "code",
   "execution_count": 75,
   "id": "31d8cbd6",
   "metadata": {},
   "outputs": [
    {
     "data": {
      "text/plain": [
       "Cabin          687\n",
       "Age            177\n",
       "Embarked         2\n",
       "PassengerId      0\n",
       "Survived         0\n",
       "Pclass           0\n",
       "Name             0\n",
       "Sex              0\n",
       "SibSp            0\n",
       "Parch            0\n",
       "Ticket           0\n",
       "Fare             0\n",
       "dtype: int64"
      ]
     },
     "execution_count": 75,
     "metadata": {},
     "output_type": "execute_result"
    }
   ],
   "source": [
    "# Check the Missing Values\n",
    "df.isnull().sum().sort_values(ascending=False)"
   ]
  },
  {
   "cell_type": "markdown",
   "id": "ae38fb10",
   "metadata": {},
   "source": [
    "we can see the `age` columan has 177 missing values. let replace these missing values with median....."
   ]
  },
  {
   "cell_type": "code",
   "execution_count": 76,
   "id": "2c531c63",
   "metadata": {},
   "outputs": [
    {
     "data": {
      "text/plain": [
       "Cabin          687\n",
       "Embarked         2\n",
       "PassengerId      0\n",
       "Survived         0\n",
       "Pclass           0\n",
       "Name             0\n",
       "Sex              0\n",
       "Age              0\n",
       "SibSp            0\n",
       "Parch            0\n",
       "Ticket           0\n",
       "Fare             0\n",
       "dtype: int64"
      ]
     },
     "execution_count": 76,
     "metadata": {},
     "output_type": "execute_result"
    }
   ],
   "source": [
    "# Replace missing values with median\n",
    "df[\"Age\"] = df[\"Age\"].fillna(df[\"Age\"].median())\n",
    "\n",
    "# Check Missing Values again\n",
    "df.isna().sum().sort_values(ascending=False)"
   ]
  },
  {
   "cell_type": "markdown",
   "id": "2224d659",
   "metadata": {},
   "source": [
    "we can see that `age` column 177 missing values is filled with median value of `age` column."
   ]
  },
  {
   "cell_type": "markdown",
   "id": "f8b975a4",
   "metadata": {},
   "source": [
    "### 1.1.3 Mode Imputation 🧮\n",
    "Mode imputation ka matlab hai missing values ko column ke mode (sabse zyada bar aane wali value) se replace karna. Yeh categorical data ke liye behtareen hai. 😊"
   ]
  },
  {
   "cell_type": "code",
   "execution_count": 77,
   "id": "32133ea6",
   "metadata": {},
   "outputs": [
    {
     "data": {
      "application/vnd.microsoft.datawrangler.viewer.v0+json": {
       "columns": [
        {
         "name": "index",
         "rawType": "int64",
         "type": "integer"
        },
        {
         "name": "PassengerId",
         "rawType": "int64",
         "type": "integer"
        },
        {
         "name": "Survived",
         "rawType": "int64",
         "type": "integer"
        },
        {
         "name": "Pclass",
         "rawType": "int64",
         "type": "integer"
        },
        {
         "name": "Name",
         "rawType": "object",
         "type": "string"
        },
        {
         "name": "Sex",
         "rawType": "object",
         "type": "string"
        },
        {
         "name": "Age",
         "rawType": "float64",
         "type": "float"
        },
        {
         "name": "SibSp",
         "rawType": "int64",
         "type": "integer"
        },
        {
         "name": "Parch",
         "rawType": "int64",
         "type": "integer"
        },
        {
         "name": "Ticket",
         "rawType": "object",
         "type": "string"
        },
        {
         "name": "Fare",
         "rawType": "float64",
         "type": "float"
        },
        {
         "name": "Cabin",
         "rawType": "object",
         "type": "unknown"
        },
        {
         "name": "Embarked",
         "rawType": "object",
         "type": "string"
        }
       ],
       "conversionMethod": "pd.DataFrame",
       "ref": "4ccfee6f-1a8f-499a-b73e-d802a7fb19cb",
       "rows": [
        [
         "0",
         "1",
         "0",
         "3",
         "Braund, Mr. Owen Harris",
         "male",
         "22.0",
         "1",
         "0",
         "A/5 21171",
         "7.25",
         null,
         "S"
        ],
        [
         "1",
         "2",
         "1",
         "1",
         "Cumings, Mrs. John Bradley (Florence Briggs Thayer)",
         "female",
         "38.0",
         "1",
         "0",
         "PC 17599",
         "71.2833",
         "C85",
         "C"
        ],
        [
         "2",
         "3",
         "1",
         "3",
         "Heikkinen, Miss. Laina",
         "female",
         "26.0",
         "0",
         "0",
         "STON/O2. 3101282",
         "7.925",
         null,
         "S"
        ],
        [
         "3",
         "4",
         "1",
         "1",
         "Futrelle, Mrs. Jacques Heath (Lily May Peel)",
         "female",
         "35.0",
         "1",
         "0",
         "113803",
         "53.1",
         "C123",
         "S"
        ],
        [
         "4",
         "5",
         "0",
         "3",
         "Allen, Mr. William Henry",
         "male",
         "35.0",
         "0",
         "0",
         "373450",
         "8.05",
         null,
         "S"
        ]
       ],
       "shape": {
        "columns": 12,
        "rows": 5
       }
      },
      "text/html": [
       "<div>\n",
       "<style scoped>\n",
       "    .dataframe tbody tr th:only-of-type {\n",
       "        vertical-align: middle;\n",
       "    }\n",
       "\n",
       "    .dataframe tbody tr th {\n",
       "        vertical-align: top;\n",
       "    }\n",
       "\n",
       "    .dataframe thead th {\n",
       "        text-align: right;\n",
       "    }\n",
       "</style>\n",
       "<table border=\"1\" class=\"dataframe\">\n",
       "  <thead>\n",
       "    <tr style=\"text-align: right;\">\n",
       "      <th></th>\n",
       "      <th>PassengerId</th>\n",
       "      <th>Survived</th>\n",
       "      <th>Pclass</th>\n",
       "      <th>Name</th>\n",
       "      <th>Sex</th>\n",
       "      <th>Age</th>\n",
       "      <th>SibSp</th>\n",
       "      <th>Parch</th>\n",
       "      <th>Ticket</th>\n",
       "      <th>Fare</th>\n",
       "      <th>Cabin</th>\n",
       "      <th>Embarked</th>\n",
       "    </tr>\n",
       "  </thead>\n",
       "  <tbody>\n",
       "    <tr>\n",
       "      <th>0</th>\n",
       "      <td>1</td>\n",
       "      <td>0</td>\n",
       "      <td>3</td>\n",
       "      <td>Braund, Mr. Owen Harris</td>\n",
       "      <td>male</td>\n",
       "      <td>22.0</td>\n",
       "      <td>1</td>\n",
       "      <td>0</td>\n",
       "      <td>A/5 21171</td>\n",
       "      <td>7.2500</td>\n",
       "      <td>NaN</td>\n",
       "      <td>S</td>\n",
       "    </tr>\n",
       "    <tr>\n",
       "      <th>1</th>\n",
       "      <td>2</td>\n",
       "      <td>1</td>\n",
       "      <td>1</td>\n",
       "      <td>Cumings, Mrs. John Bradley (Florence Briggs Th...</td>\n",
       "      <td>female</td>\n",
       "      <td>38.0</td>\n",
       "      <td>1</td>\n",
       "      <td>0</td>\n",
       "      <td>PC 17599</td>\n",
       "      <td>71.2833</td>\n",
       "      <td>C85</td>\n",
       "      <td>C</td>\n",
       "    </tr>\n",
       "    <tr>\n",
       "      <th>2</th>\n",
       "      <td>3</td>\n",
       "      <td>1</td>\n",
       "      <td>3</td>\n",
       "      <td>Heikkinen, Miss. Laina</td>\n",
       "      <td>female</td>\n",
       "      <td>26.0</td>\n",
       "      <td>0</td>\n",
       "      <td>0</td>\n",
       "      <td>STON/O2. 3101282</td>\n",
       "      <td>7.9250</td>\n",
       "      <td>NaN</td>\n",
       "      <td>S</td>\n",
       "    </tr>\n",
       "    <tr>\n",
       "      <th>3</th>\n",
       "      <td>4</td>\n",
       "      <td>1</td>\n",
       "      <td>1</td>\n",
       "      <td>Futrelle, Mrs. Jacques Heath (Lily May Peel)</td>\n",
       "      <td>female</td>\n",
       "      <td>35.0</td>\n",
       "      <td>1</td>\n",
       "      <td>0</td>\n",
       "      <td>113803</td>\n",
       "      <td>53.1000</td>\n",
       "      <td>C123</td>\n",
       "      <td>S</td>\n",
       "    </tr>\n",
       "    <tr>\n",
       "      <th>4</th>\n",
       "      <td>5</td>\n",
       "      <td>0</td>\n",
       "      <td>3</td>\n",
       "      <td>Allen, Mr. William Henry</td>\n",
       "      <td>male</td>\n",
       "      <td>35.0</td>\n",
       "      <td>0</td>\n",
       "      <td>0</td>\n",
       "      <td>373450</td>\n",
       "      <td>8.0500</td>\n",
       "      <td>NaN</td>\n",
       "      <td>S</td>\n",
       "    </tr>\n",
       "  </tbody>\n",
       "</table>\n",
       "</div>"
      ],
      "text/plain": [
       "   PassengerId  Survived  Pclass  \\\n",
       "0            1         0       3   \n",
       "1            2         1       1   \n",
       "2            3         1       3   \n",
       "3            4         1       1   \n",
       "4            5         0       3   \n",
       "\n",
       "                                                Name     Sex   Age  SibSp  \\\n",
       "0                            Braund, Mr. Owen Harris    male  22.0      1   \n",
       "1  Cumings, Mrs. John Bradley (Florence Briggs Th...  female  38.0      1   \n",
       "2                             Heikkinen, Miss. Laina  female  26.0      0   \n",
       "3       Futrelle, Mrs. Jacques Heath (Lily May Peel)  female  35.0      1   \n",
       "4                           Allen, Mr. William Henry    male  35.0      0   \n",
       "\n",
       "   Parch            Ticket     Fare Cabin Embarked  \n",
       "0      0         A/5 21171   7.2500   NaN        S  \n",
       "1      0          PC 17599  71.2833   C85        C  \n",
       "2      0  STON/O2. 3101282   7.9250   NaN        S  \n",
       "3      0            113803  53.1000  C123        S  \n",
       "4      0            373450   8.0500   NaN        S  "
      ]
     },
     "execution_count": 77,
     "metadata": {},
     "output_type": "execute_result"
    }
   ],
   "source": [
    "# import libraries\n",
    "import pandas as pd \n",
    "import numpy as np\n",
    "\n",
    "# Load Dataset\n",
    "df = pd.read_csv(\"../data_scraping/datasets/Titanic.csv\")\n",
    "df.head()"
   ]
  },
  {
   "cell_type": "code",
   "execution_count": 78,
   "id": "8765551f",
   "metadata": {},
   "outputs": [
    {
     "data": {
      "application/vnd.microsoft.datawrangler.viewer.v0+json": {
       "columns": [
        {
         "name": "index",
         "rawType": "int64",
         "type": "integer"
        },
        {
         "name": "Name",
         "rawType": "object",
         "type": "string"
        },
        {
         "name": "Sex",
         "rawType": "object",
         "type": "string"
        },
        {
         "name": "Ticket",
         "rawType": "object",
         "type": "string"
        },
        {
         "name": "Cabin",
         "rawType": "object",
         "type": "unknown"
        },
        {
         "name": "Embarked",
         "rawType": "object",
         "type": "string"
        }
       ],
       "conversionMethod": "pd.DataFrame",
       "ref": "572d511c-086b-4cf7-b628-034142d500af",
       "rows": [
        [
         "0",
         "Braund, Mr. Owen Harris",
         "male",
         "A/5 21171",
         null,
         "S"
        ],
        [
         "1",
         "Cumings, Mrs. John Bradley (Florence Briggs Thayer)",
         "female",
         "PC 17599",
         "C85",
         "C"
        ],
        [
         "2",
         "Heikkinen, Miss. Laina",
         "female",
         "STON/O2. 3101282",
         null,
         "S"
        ],
        [
         "3",
         "Futrelle, Mrs. Jacques Heath (Lily May Peel)",
         "female",
         "113803",
         "C123",
         "S"
        ],
        [
         "4",
         "Allen, Mr. William Henry",
         "male",
         "373450",
         null,
         "S"
        ]
       ],
       "shape": {
        "columns": 5,
        "rows": 5
       }
      },
      "text/html": [
       "<div>\n",
       "<style scoped>\n",
       "    .dataframe tbody tr th:only-of-type {\n",
       "        vertical-align: middle;\n",
       "    }\n",
       "\n",
       "    .dataframe tbody tr th {\n",
       "        vertical-align: top;\n",
       "    }\n",
       "\n",
       "    .dataframe thead th {\n",
       "        text-align: right;\n",
       "    }\n",
       "</style>\n",
       "<table border=\"1\" class=\"dataframe\">\n",
       "  <thead>\n",
       "    <tr style=\"text-align: right;\">\n",
       "      <th></th>\n",
       "      <th>Name</th>\n",
       "      <th>Sex</th>\n",
       "      <th>Ticket</th>\n",
       "      <th>Cabin</th>\n",
       "      <th>Embarked</th>\n",
       "    </tr>\n",
       "  </thead>\n",
       "  <tbody>\n",
       "    <tr>\n",
       "      <th>0</th>\n",
       "      <td>Braund, Mr. Owen Harris</td>\n",
       "      <td>male</td>\n",
       "      <td>A/5 21171</td>\n",
       "      <td>NaN</td>\n",
       "      <td>S</td>\n",
       "    </tr>\n",
       "    <tr>\n",
       "      <th>1</th>\n",
       "      <td>Cumings, Mrs. John Bradley (Florence Briggs Th...</td>\n",
       "      <td>female</td>\n",
       "      <td>PC 17599</td>\n",
       "      <td>C85</td>\n",
       "      <td>C</td>\n",
       "    </tr>\n",
       "    <tr>\n",
       "      <th>2</th>\n",
       "      <td>Heikkinen, Miss. Laina</td>\n",
       "      <td>female</td>\n",
       "      <td>STON/O2. 3101282</td>\n",
       "      <td>NaN</td>\n",
       "      <td>S</td>\n",
       "    </tr>\n",
       "    <tr>\n",
       "      <th>3</th>\n",
       "      <td>Futrelle, Mrs. Jacques Heath (Lily May Peel)</td>\n",
       "      <td>female</td>\n",
       "      <td>113803</td>\n",
       "      <td>C123</td>\n",
       "      <td>S</td>\n",
       "    </tr>\n",
       "    <tr>\n",
       "      <th>4</th>\n",
       "      <td>Allen, Mr. William Henry</td>\n",
       "      <td>male</td>\n",
       "      <td>373450</td>\n",
       "      <td>NaN</td>\n",
       "      <td>S</td>\n",
       "    </tr>\n",
       "  </tbody>\n",
       "</table>\n",
       "</div>"
      ],
      "text/plain": [
       "                                                Name     Sex  \\\n",
       "0                            Braund, Mr. Owen Harris    male   \n",
       "1  Cumings, Mrs. John Bradley (Florence Briggs Th...  female   \n",
       "2                             Heikkinen, Miss. Laina  female   \n",
       "3       Futrelle, Mrs. Jacques Heath (Lily May Peel)  female   \n",
       "4                           Allen, Mr. William Henry    male   \n",
       "\n",
       "             Ticket Cabin Embarked  \n",
       "0         A/5 21171   NaN        S  \n",
       "1          PC 17599   C85        C  \n",
       "2  STON/O2. 3101282   NaN        S  \n",
       "3            113803  C123        S  \n",
       "4            373450   NaN        S  "
      ]
     },
     "execution_count": 78,
     "metadata": {},
     "output_type": "execute_result"
    }
   ],
   "source": [
    "# Check Categorical Variables\n",
    "df.select_dtypes(include=['object']).head()"
   ]
  },
  {
   "cell_type": "code",
   "execution_count": 79,
   "id": "788987aa",
   "metadata": {},
   "outputs": [
    {
     "data": {
      "text/plain": [
       "Cabin          687\n",
       "Age            177\n",
       "Embarked         2\n",
       "PassengerId      0\n",
       "Survived         0\n",
       "Pclass           0\n",
       "Name             0\n",
       "Sex              0\n",
       "SibSp            0\n",
       "Parch            0\n",
       "Ticket           0\n",
       "Fare             0\n",
       "dtype: int64"
      ]
     },
     "execution_count": 79,
     "metadata": {},
     "output_type": "execute_result"
    }
   ],
   "source": [
    "# Check Missing Values\n",
    "df.isnull().sum().sort_values(ascending=False)"
   ]
  },
  {
   "cell_type": "markdown",
   "id": "cb7d9616",
   "metadata": {},
   "source": [
    "we can see in the above sell `cabin` is categorical column and has 687 missing values. let replace these missing values with mode....."
   ]
  },
  {
   "cell_type": "code",
   "execution_count": 80,
   "id": "58df3360",
   "metadata": {},
   "outputs": [
    {
     "data": {
      "text/plain": [
       "Age            177\n",
       "Embarked         2\n",
       "PassengerId      0\n",
       "Survived         0\n",
       "Pclass           0\n",
       "Name             0\n",
       "Sex              0\n",
       "SibSp            0\n",
       "Parch            0\n",
       "Ticket           0\n",
       "Fare             0\n",
       "Cabin            0\n",
       "dtype: int64"
      ]
     },
     "execution_count": 80,
     "metadata": {},
     "output_type": "execute_result"
    }
   ],
   "source": [
    "# Replace missing values with mode\n",
    "df[\"Cabin\"] = df[\"Cabin\"].fillna(df[\"Cabin\"].mode()[0])\n",
    "\n",
    "# Check Missing Values again\n",
    "df.isna().sum().sort_values(ascending=False)"
   ]
  },
  {
   "cell_type": "markdown",
   "id": "9dc2988e",
   "metadata": {},
   "source": [
    "now the  `cabin` column 687 missing values is filled with mode value of `cabin` column."
   ]
  },
  {
   "cell_type": "markdown",
   "id": "0700ca49",
   "metadata": {},
   "source": [
    "## 1.2. K-Nearest Neighbors"
   ]
  },
  {
   "cell_type": "markdown",
   "id": "e2112b0d",
   "metadata": {},
   "source": [
    "### K-Nearest Neighbors (KNN) Algorithm 🧑‍🤝‍🧑\n",
    "\n",
    "K-Nearest Neighbors (KNN) ek simple aur powerful algorithm hai jo missing values ko impute karne ke liye bhi use hoti hai. Yeh algorithm data points ki similarity ke basis par kaam karta hai. 😊\n",
    "\n",
    "#### KNN Kaise Kaam Karta Hai? 🤔\n",
    "- Har missing value ke liye, KNN uske aas-paas ke **K nearest neighbors** ko dhoondta hai.\n",
    "- Yeh neighbors un data points par mabni hote hain jo missing value ke bagair hain.\n",
    "- Missing value ko in neighbors ki average, median, ya mode se replace kiya jata hai.\n",
    "\n",
    "#### KNN Imputation Ke Fayde 🌟\n",
    "- **Flexible**: Numerical aur categorical dono data ke liye kaam karta hai.\n",
    "- **Pattern Preservation**: Data ke underlying patterns ko preserve karta hai.\n",
    "- **Non-parametric**: Kisi assumption ki zarurat nahi hoti.\n",
    "\n",
    "#### KNN Imputation Ke Nuqsanat ⚠️\n",
    "- **Computationally Expensive**: Large datasets ke liye slow ho sakta hai.\n",
    "- **Outliers Ka Asar**: Outliers kaafi influence kar sakte hain.\n",
    "\n",
    "#### KNN Imputation Ka Istemaal Kab Karein? 🛠️\n",
    "- Jab aapke paas **small to medium-sized dataset** ho.\n",
    "- Jab missing values **randomly distributed** hoon.\n",
    "- Jab aapko data ke patterns ko preserve karna ho.\n",
    "\n",
    "KNN ek zabardast tareeqa hai missing values ko handle karne ka, lekin isay samajhdari aur computational resources ko madde nazar rakhte hue use karein. 😊\n"
   ]
  },
  {
   "cell_type": "code",
   "execution_count": 81,
   "id": "081182c0",
   "metadata": {},
   "outputs": [
    {
     "name": "stdout",
     "output_type": "stream",
     "text": [
      "Dataset with Missing Values\n",
      "Cabin          687\n",
      "Age            177\n",
      "Embarked         2\n",
      "PassengerId      0\n",
      "Survived         0\n",
      "Pclass           0\n",
      "Name             0\n",
      "Sex              0\n",
      "SibSp            0\n",
      "Parch            0\n",
      "Ticket           0\n",
      "Fare             0\n",
      "dtype: int64\n",
      "Dataset without Missing Values\n",
      "Cabin          687\n",
      "Embarked         2\n",
      "PassengerId      0\n",
      "Survived         0\n",
      "Pclass           0\n",
      "Name             0\n",
      "Sex              0\n",
      "Age              0\n",
      "SibSp            0\n",
      "Parch            0\n",
      "Ticket           0\n",
      "Fare             0\n",
      "dtype: int64\n"
     ]
    }
   ],
   "source": [
    "# import libraries\n",
    "import pandas as pd \n",
    "import numpy as np\n",
    "\n",
    "# Load Dataset\n",
    "df = pd.read_csv(\"../data_scraping/datasets/Titanic.csv\")\n",
    "df.head()\n",
    "# Check Missing Values\n",
    "print(f\"Dataset with Missing Values\\n{df.isna().sum().sort_values(ascending=False)}\")\n",
    "\n",
    "# Impute missing values with KNN\n",
    "from sklearn.impute import KNNImputer\n",
    "\n",
    "# Call the Imputer\n",
    "imputer = KNNImputer(n_neighbors=5)\n",
    "\n",
    "# Fit the imputer to the data\n",
    "df[\"Age\"] = imputer.fit_transform(df[[\"Age\"]])\n",
    "\n",
    "# Check Missing Values again\n",
    "print(f\"Dataset without Missing Values\\n{df.isna().sum().sort_values(ascending=False)}\")\n",
    "\n"
   ]
  },
  {
   "cell_type": "markdown",
   "id": "c874157f",
   "metadata": {},
   "source": [
    "## 1.3. Regression Imputation 📈\n",
    "- **Regression Imputation** ek advanced technique hai jo missing values ko predict karne ke liye regression models ka istemal karti hai. 📈\n",
    "- Yeh method un variables ke darmiyan ke relationships ko samajhne aur unka faida uthane mein madad karta hai jo aapas mein correlated hote hain. 🤝\n",
    "- Regression model ek dependent variable (jisme missing values hain) aur independent variables (jo complete hain) ke darmiyan ek equation fit karta hai. 🧮\n",
    "- Iske baad, yeh equation ka istemal karke missing values ko predict kiya jata hai. 🔮\n",
    "- Yeh technique tab kaafi useful hoti hai jab aapke data mein strong linear relationships hoon. 😊\n",
    "- useful for numerical data.\n",
    "- **Limitations**: Agar relationships weak hain ya data non-linear hai, to regression imputation kaam nahi karega. ⚠️\n"
   ]
  },
  {
   "cell_type": "code",
   "execution_count": 82,
   "id": "d35af245",
   "metadata": {},
   "outputs": [
    {
     "name": "stdout",
     "output_type": "stream",
     "text": [
      "Dataset with Missing Values\n",
      "Cabin          687\n",
      "Age            177\n",
      "Embarked         2\n",
      "PassengerId      0\n",
      "Survived         0\n",
      "Pclass           0\n",
      "Name             0\n",
      "Sex              0\n",
      "SibSp            0\n",
      "Parch            0\n",
      "Ticket           0\n",
      "Fare             0\n",
      "dtype: int64\n",
      "Dataset without Missing Values\n",
      "Cabin          687\n",
      "Embarked         2\n",
      "PassengerId      0\n",
      "Survived         0\n",
      "Pclass           0\n",
      "Name             0\n",
      "Sex              0\n",
      "Age              0\n",
      "SibSp            0\n",
      "Parch            0\n",
      "Ticket           0\n",
      "Fare             0\n",
      "dtype: int64\n"
     ]
    }
   ],
   "source": [
    "# import libraries\n",
    "import pandas as pd \n",
    "import numpy as np\n",
    "\n",
    "# Load Dataset\n",
    "df = pd.read_csv(\"../data_scraping/datasets/Titanic.csv\")\n",
    "df.head()\n",
    "# Check Missing Values\n",
    "print(f\"Dataset with Missing Values\\n{df.isna().sum().sort_values(ascending=False)}\")\n",
    "\n",
    "# impute missing values with regression imputer\n",
    "from sklearn.experimental import enable_iterative_imputer\n",
    "from sklearn.impute import IterativeImputer\n",
    "\n",
    "# call the IterativeImputer class with max_iter = 10\n",
    "imputer = IterativeImputer(max_iter=10)\n",
    "\n",
    "#impute missing values with regression imputer\n",
    "df['Age'] = imputer.fit_transform(df[['Age']])\n",
    "\n",
    "# check the number of missing values in each column\n",
    "print(f\"Dataset without Missing Values\\n{df.isna().sum().sort_values(ascending=False)}\")\n"
   ]
  },
  {
   "cell_type": "markdown",
   "id": "0af6b9bd",
   "metadata": {},
   "source": [
    "## 1.4. Random Forests Imputer🌳\n",
    "- **Random Forests** ek ensemble learning technique hai jo decision trees ka istemal karti hai. 🌳\n",
    "- Yeh method missing values ko impute karne ke liye bhi kaam karta hai. 😊\n",
    "- Random Forests ka istemal karte waqt, yeh algorithm data ke multiple decision trees banata hai aur unka average ya mode le kar final prediction karta hai. 📊\n",
    "- Yeh method data ke complex relationships ko samajhne mein madad karta hai aur missing values ko accurately predict kar sakta hai. 🔍\n",
    "- useful for both numerical and categorical data.\n",
    "- **Limitations**: Yeh method computationally expensive ho sakta hai aur large datasets par slow ho sakta hai. ⚠️\n",
    "- Agar aapke paas bahut saari features hain, to Random Forests ka istemal karna mushkil ho sakta hai. ⚠️\n",
    "- not suitable for small datasets...."
   ]
  },
  {
   "cell_type": "code",
   "execution_count": 89,
   "id": "635a1318",
   "metadata": {},
   "outputs": [
    {
     "name": "stdout",
     "output_type": "stream",
     "text": [
      "Dataset with Missing Values\n",
      "Cabin          687\n",
      "Age            177\n",
      "Embarked         2\n",
      "PassengerId      0\n",
      "Survived         0\n",
      "Pclass           0\n",
      "Name             0\n",
      "Sex              0\n",
      "SibSp            0\n",
      "Parch            0\n",
      "Ticket           0\n",
      "Fare             0\n",
      "dtype: int64\n"
     ]
    }
   ],
   "source": [
    "# import libraries\n",
    "import pandas as pd \n",
    "import numpy as np\n",
    "from sklearn.model_selection import train_test_split\n",
    "from sklearn.ensemble import RandomForestRegressor\n",
    "from sklearn.metrics import mean_squared_error, r2_score, mean_absolute_error, mean_absolute_percentage_error\n",
    "from sklearn.impute import SimpleImputer\n",
    "# Load Dataset\n",
    "df = pd.read_csv(\"../data_scraping/datasets/Titanic.csv\")\n",
    "df.head()\n",
    "# Check Missing Values\n",
    "print(f\"Dataset with Missing Values\\n{df.isna().sum().sort_values(ascending=False)}\")"
   ]
  },
  {
   "cell_type": "code",
   "execution_count": 90,
   "id": "ffbf52f5",
   "metadata": {},
   "outputs": [
    {
     "name": "stdout",
     "output_type": "stream",
     "text": [
      "Age            177\n",
      "Embarked         2\n",
      "PassengerId      0\n",
      "Survived         0\n",
      "Pclass           0\n",
      "Name             0\n",
      "Sex              0\n",
      "SibSp            0\n",
      "Parch            0\n",
      "Ticket           0\n",
      "Fare             0\n",
      "dtype: int64\n"
     ]
    }
   ],
   "source": [
    "# drop the Cabin column because it has too many missing values\n",
    "df.drop(columns=[\"Cabin\"], inplace=True)\n",
    "# Check Missing Values again\n",
    "print(df.isnull().sum().sort_values(ascending=False))"
   ]
  },
  {
   "cell_type": "code",
   "execution_count": 91,
   "id": "04892e8c",
   "metadata": {},
   "outputs": [
    {
     "data": {
      "application/vnd.microsoft.datawrangler.viewer.v0+json": {
       "columns": [
        {
         "name": "index",
         "rawType": "int64",
         "type": "integer"
        },
        {
         "name": "PassengerId",
         "rawType": "int64",
         "type": "integer"
        },
        {
         "name": "Survived",
         "rawType": "int64",
         "type": "integer"
        },
        {
         "name": "Pclass",
         "rawType": "int64",
         "type": "integer"
        },
        {
         "name": "Name",
         "rawType": "int32",
         "type": "integer"
        },
        {
         "name": "Sex",
         "rawType": "int32",
         "type": "integer"
        },
        {
         "name": "Age",
         "rawType": "float64",
         "type": "float"
        },
        {
         "name": "SibSp",
         "rawType": "int64",
         "type": "integer"
        },
        {
         "name": "Parch",
         "rawType": "int64",
         "type": "integer"
        },
        {
         "name": "Ticket",
         "rawType": "int32",
         "type": "integer"
        },
        {
         "name": "Fare",
         "rawType": "float64",
         "type": "float"
        },
        {
         "name": "Embarked",
         "rawType": "int32",
         "type": "integer"
        }
       ],
       "conversionMethod": "pd.DataFrame",
       "ref": "7a5730ce-6250-49d5-b8e2-5df54aba2ee8",
       "rows": [
        [
         "0",
         "1",
         "0",
         "3",
         "108",
         "1",
         "22.0",
         "1",
         "0",
         "523",
         "7.25",
         "2"
        ],
        [
         "1",
         "2",
         "1",
         "1",
         "190",
         "0",
         "38.0",
         "1",
         "0",
         "596",
         "71.2833",
         "0"
        ],
        [
         "2",
         "3",
         "1",
         "3",
         "353",
         "0",
         "26.0",
         "0",
         "0",
         "669",
         "7.925",
         "2"
        ],
        [
         "3",
         "4",
         "1",
         "1",
         "272",
         "0",
         "35.0",
         "1",
         "0",
         "49",
         "53.1",
         "2"
        ],
        [
         "4",
         "5",
         "0",
         "3",
         "15",
         "1",
         "35.0",
         "0",
         "0",
         "472",
         "8.05",
         "2"
        ]
       ],
       "shape": {
        "columns": 11,
        "rows": 5
       }
      },
      "text/html": [
       "<div>\n",
       "<style scoped>\n",
       "    .dataframe tbody tr th:only-of-type {\n",
       "        vertical-align: middle;\n",
       "    }\n",
       "\n",
       "    .dataframe tbody tr th {\n",
       "        vertical-align: top;\n",
       "    }\n",
       "\n",
       "    .dataframe thead th {\n",
       "        text-align: right;\n",
       "    }\n",
       "</style>\n",
       "<table border=\"1\" class=\"dataframe\">\n",
       "  <thead>\n",
       "    <tr style=\"text-align: right;\">\n",
       "      <th></th>\n",
       "      <th>PassengerId</th>\n",
       "      <th>Survived</th>\n",
       "      <th>Pclass</th>\n",
       "      <th>Name</th>\n",
       "      <th>Sex</th>\n",
       "      <th>Age</th>\n",
       "      <th>SibSp</th>\n",
       "      <th>Parch</th>\n",
       "      <th>Ticket</th>\n",
       "      <th>Fare</th>\n",
       "      <th>Embarked</th>\n",
       "    </tr>\n",
       "  </thead>\n",
       "  <tbody>\n",
       "    <tr>\n",
       "      <th>0</th>\n",
       "      <td>1</td>\n",
       "      <td>0</td>\n",
       "      <td>3</td>\n",
       "      <td>108</td>\n",
       "      <td>1</td>\n",
       "      <td>22.0</td>\n",
       "      <td>1</td>\n",
       "      <td>0</td>\n",
       "      <td>523</td>\n",
       "      <td>7.2500</td>\n",
       "      <td>2</td>\n",
       "    </tr>\n",
       "    <tr>\n",
       "      <th>1</th>\n",
       "      <td>2</td>\n",
       "      <td>1</td>\n",
       "      <td>1</td>\n",
       "      <td>190</td>\n",
       "      <td>0</td>\n",
       "      <td>38.0</td>\n",
       "      <td>1</td>\n",
       "      <td>0</td>\n",
       "      <td>596</td>\n",
       "      <td>71.2833</td>\n",
       "      <td>0</td>\n",
       "    </tr>\n",
       "    <tr>\n",
       "      <th>2</th>\n",
       "      <td>3</td>\n",
       "      <td>1</td>\n",
       "      <td>3</td>\n",
       "      <td>353</td>\n",
       "      <td>0</td>\n",
       "      <td>26.0</td>\n",
       "      <td>0</td>\n",
       "      <td>0</td>\n",
       "      <td>669</td>\n",
       "      <td>7.9250</td>\n",
       "      <td>2</td>\n",
       "    </tr>\n",
       "    <tr>\n",
       "      <th>3</th>\n",
       "      <td>4</td>\n",
       "      <td>1</td>\n",
       "      <td>1</td>\n",
       "      <td>272</td>\n",
       "      <td>0</td>\n",
       "      <td>35.0</td>\n",
       "      <td>1</td>\n",
       "      <td>0</td>\n",
       "      <td>49</td>\n",
       "      <td>53.1000</td>\n",
       "      <td>2</td>\n",
       "    </tr>\n",
       "    <tr>\n",
       "      <th>4</th>\n",
       "      <td>5</td>\n",
       "      <td>0</td>\n",
       "      <td>3</td>\n",
       "      <td>15</td>\n",
       "      <td>1</td>\n",
       "      <td>35.0</td>\n",
       "      <td>0</td>\n",
       "      <td>0</td>\n",
       "      <td>472</td>\n",
       "      <td>8.0500</td>\n",
       "      <td>2</td>\n",
       "    </tr>\n",
       "  </tbody>\n",
       "</table>\n",
       "</div>"
      ],
      "text/plain": [
       "   PassengerId  Survived  Pclass  Name  Sex   Age  SibSp  Parch  Ticket  \\\n",
       "0            1         0       3   108    1  22.0      1      0     523   \n",
       "1            2         1       1   190    0  38.0      1      0     596   \n",
       "2            3         1       3   353    0  26.0      0      0     669   \n",
       "3            4         1       1   272    0  35.0      1      0      49   \n",
       "4            5         0       3    15    1  35.0      0      0     472   \n",
       "\n",
       "      Fare  Embarked  \n",
       "0   7.2500         2  \n",
       "1  71.2833         0  \n",
       "2   7.9250         2  \n",
       "3  53.1000         2  \n",
       "4   8.0500         2  "
      ]
     },
     "execution_count": 91,
     "metadata": {},
     "output_type": "execute_result"
    }
   ],
   "source": [
    "# Check the categorical variables\n",
    "df.select_dtypes(include=['object'])\n",
    "\n",
    "# Now convert the categorical variables to numerical variables using label encoding\n",
    "from sklearn.preprocessing import LabelEncoder\n",
    "columns_to_encode = ['Name','Sex','Ticket','Embarked']\n",
    "\n",
    "# create a dictionary to store the label encoders\n",
    "label_encoders = {}\n",
    "\n",
    "# Loop to apply LabelEncoder to each column\n",
    "for col in columns_to_encode:\n",
    "    # Create a new LabelEncoder for the column\n",
    "    le = LabelEncoder()\n",
    "\n",
    "    # Fit and transform the data, then inverse transform it\n",
    "    df[col] = le.fit_transform(df[col])\n",
    "\n",
    "    # Store the encoder in the dictionary\n",
    "    label_encoders[col] = le\n",
    "\n",
    "# Check the first few rows of the DataFrame\n",
    "df.head()"
   ]
  },
  {
   "cell_type": "markdown",
   "id": "53f4992a",
   "metadata": {},
   "source": [
    "we have first impute the missing values of `age` ....\n"
   ]
  },
  {
   "cell_type": "code",
   "execution_count": 92,
   "id": "5659b156",
   "metadata": {},
   "outputs": [
    {
     "name": "stdout",
     "output_type": "stream",
     "text": [
      "The shape of the original dataset is:  (891, 11)\n",
      "The shape of the dataset with missing values removed is:  (177, 11)\n",
      "The shape of the dataset with missing values is:  (714,)\n"
     ]
    }
   ],
   "source": [
    "# Split the dataset into two parts: one with missing values, one without\n",
    "df_with_missing = df[df['Age'].isna()]\n",
    "# dropna removes all rows with missing values\n",
    "df_without_missing = df.dropna()\n",
    "\n",
    "print(\"The shape of the original dataset is: \", df.shape)\n",
    "print(\"The shape of the dataset with missing values removed is: \",  df_missing.shape)\n",
    "print(\"The shape of the dataset with missing values is: \", df_no_missing.shape)"
   ]
  },
  {
   "cell_type": "code",
   "execution_count": 93,
   "id": "a2c3fda0",
   "metadata": {},
   "outputs": [
    {
     "name": "stdout",
     "output_type": "stream",
     "text": [
      "RMSE for Random Forest Imputation:  11.653764627586007\n",
      "R2 Score for Random Forest Imputation:  0.26749108441711167\n",
      "MAE for Random Forest Imputation:  9.307397902097902\n",
      "MAPE for Random Forest Imputation:  0.4682002326118319\n"
     ]
    }
   ],
   "source": [
    "# Regression Imputation\n",
    "\n",
    "# split the data into X and y and we will only take the columns with no missing values\n",
    "X = df_without_missing.drop(['Age'], axis=1)\n",
    "y = df_without_missing['Age']\n",
    "\n",
    "# split the data into train and test sets\n",
    "X_train, X_test, y_train, y_test = train_test_split(X, y, test_size=0.20, random_state=42)\n",
    "\n",
    "# Random Forest Imputation\n",
    "rf_model = RandomForestRegressor(n_estimators=100, random_state=42)\n",
    "rf_model.fit(X_train, y_train)\n",
    "\n",
    "# evaluate the model\n",
    "y_pred = rf_model.predict(X_test)\n",
    "print(\"RMSE for Random Forest Imputation: \", np.sqrt(mean_squared_error(y_test, y_pred)))\n",
    "print(\"R2 Score for Random Forest Imputation: \", r2_score(y_test, y_pred))\n",
    "print(\"MAE for Random Forest Imputation: \", mean_absolute_error(y_test, y_pred))\n",
    "print(\"MAPE for Random Forest Imputation: \", mean_absolute_percentage_error(y_test, y_pred))"
   ]
  },
  {
   "cell_type": "code",
   "execution_count": 95,
   "id": "e3e3c899",
   "metadata": {},
   "outputs": [
    {
     "name": "stdout",
     "output_type": "stream",
     "text": [
      "Dataset with Missing Values\n",
      "Age            177\n",
      "PassengerId      0\n",
      "Survived         0\n",
      "Pclass           0\n",
      "Name             0\n",
      "Sex              0\n",
      "SibSp            0\n",
      "Parch            0\n",
      "Ticket           0\n",
      "Fare             0\n",
      "Embarked         0\n",
      "dtype: int64\n"
     ]
    }
   ],
   "source": [
    "# check the number of missing values in each column\n",
    "print(f\"Dataset with Missing Values\\n{df_with_missing.isna().sum().sort_values(ascending=False)}\")"
   ]
  },
  {
   "cell_type": "code",
   "execution_count": 102,
   "id": "767f9435",
   "metadata": {},
   "outputs": [],
   "source": [
    "# predict the missing values using the Random Forest model\n",
    "predicted_values = rf_model.predict(df_with_missing.drop(['Age'], axis=1))"
   ]
  },
  {
   "cell_type": "code",
   "execution_count": 104,
   "id": "6131baa9",
   "metadata": {},
   "outputs": [
    {
     "data": {
      "text/plain": [
       "PassengerId    0\n",
       "Survived       0\n",
       "Pclass         0\n",
       "Name           0\n",
       "Sex            0\n",
       "Age            0\n",
       "SibSp          0\n",
       "Parch          0\n",
       "Ticket         0\n",
       "Fare           0\n",
       "Embarked       0\n",
       "dtype: int64"
      ]
     },
     "execution_count": 104,
     "metadata": {},
     "output_type": "execute_result"
    }
   ],
   "source": [
    "# remove warning\n",
    "import warnings\n",
    "warnings.filterwarnings('ignore')\n",
    "\n",
    "# replace the missing values with the predicted values\n",
    "df_with_missing['Age'] = predicted_values\n",
    "\n",
    "# check the missing values\n",
    "df_with_missing.isnull().sum().sort_values(ascending=False)"
   ]
  },
  {
   "cell_type": "code",
   "execution_count": 108,
   "id": "57354d75",
   "metadata": {},
   "outputs": [
    {
     "name": "stdout",
     "output_type": "stream",
     "text": [
      "The shape of the complete dataframe is:  (891, 11)\n"
     ]
    }
   ],
   "source": [
    "# concatenate the two dataframes\n",
    "df_final = pd.concat([df_without_missing, df_with_missing], axis=0)\n",
    "\n",
    "# print the shape of the complete dataframe\n",
    "print(\"The shape of the complete dataframe is: \", df_final.shape)"
   ]
  },
  {
   "cell_type": "code",
   "execution_count": 110,
   "id": "5668495d",
   "metadata": {},
   "outputs": [
    {
     "data": {
      "application/vnd.microsoft.datawrangler.viewer.v0+json": {
       "columns": [
        {
         "name": "index",
         "rawType": "int64",
         "type": "integer"
        },
        {
         "name": "PassengerId",
         "rawType": "int64",
         "type": "integer"
        },
        {
         "name": "Survived",
         "rawType": "int64",
         "type": "integer"
        },
        {
         "name": "Pclass",
         "rawType": "int64",
         "type": "integer"
        },
        {
         "name": "Name",
         "rawType": "object",
         "type": "string"
        },
        {
         "name": "Sex",
         "rawType": "object",
         "type": "string"
        },
        {
         "name": "Age",
         "rawType": "float64",
         "type": "float"
        },
        {
         "name": "SibSp",
         "rawType": "int64",
         "type": "integer"
        },
        {
         "name": "Parch",
         "rawType": "int64",
         "type": "integer"
        },
        {
         "name": "Ticket",
         "rawType": "object",
         "type": "string"
        },
        {
         "name": "Fare",
         "rawType": "float64",
         "type": "float"
        },
        {
         "name": "Embarked",
         "rawType": "object",
         "type": "string"
        }
       ],
       "conversionMethod": "pd.DataFrame",
       "ref": "ccf25751-adb9-4964-9c0d-0fb5d7feea88",
       "rows": [
        [
         "0",
         "1",
         "0",
         "3",
         "Braund, Mr. Owen Harris",
         "male",
         "22.0",
         "1",
         "0",
         "A/5 21171",
         "7.25",
         "S"
        ],
        [
         "1",
         "2",
         "1",
         "1",
         "Cumings, Mrs. John Bradley (Florence Briggs Thayer)",
         "female",
         "38.0",
         "1",
         "0",
         "PC 17599",
         "71.2833",
         "C"
        ],
        [
         "2",
         "3",
         "1",
         "3",
         "Heikkinen, Miss. Laina",
         "female",
         "26.0",
         "0",
         "0",
         "STON/O2. 3101282",
         "7.925",
         "S"
        ],
        [
         "3",
         "4",
         "1",
         "1",
         "Futrelle, Mrs. Jacques Heath (Lily May Peel)",
         "female",
         "35.0",
         "1",
         "0",
         "113803",
         "53.1",
         "S"
        ],
        [
         "4",
         "5",
         "0",
         "3",
         "Allen, Mr. William Henry",
         "male",
         "35.0",
         "0",
         "0",
         "373450",
         "8.05",
         "S"
        ]
       ],
       "shape": {
        "columns": 11,
        "rows": 5
       }
      },
      "text/html": [
       "<div>\n",
       "<style scoped>\n",
       "    .dataframe tbody tr th:only-of-type {\n",
       "        vertical-align: middle;\n",
       "    }\n",
       "\n",
       "    .dataframe tbody tr th {\n",
       "        vertical-align: top;\n",
       "    }\n",
       "\n",
       "    .dataframe thead th {\n",
       "        text-align: right;\n",
       "    }\n",
       "</style>\n",
       "<table border=\"1\" class=\"dataframe\">\n",
       "  <thead>\n",
       "    <tr style=\"text-align: right;\">\n",
       "      <th></th>\n",
       "      <th>PassengerId</th>\n",
       "      <th>Survived</th>\n",
       "      <th>Pclass</th>\n",
       "      <th>Name</th>\n",
       "      <th>Sex</th>\n",
       "      <th>Age</th>\n",
       "      <th>SibSp</th>\n",
       "      <th>Parch</th>\n",
       "      <th>Ticket</th>\n",
       "      <th>Fare</th>\n",
       "      <th>Embarked</th>\n",
       "    </tr>\n",
       "  </thead>\n",
       "  <tbody>\n",
       "    <tr>\n",
       "      <th>0</th>\n",
       "      <td>1</td>\n",
       "      <td>0</td>\n",
       "      <td>3</td>\n",
       "      <td>Braund, Mr. Owen Harris</td>\n",
       "      <td>male</td>\n",
       "      <td>22.0</td>\n",
       "      <td>1</td>\n",
       "      <td>0</td>\n",
       "      <td>A/5 21171</td>\n",
       "      <td>7.2500</td>\n",
       "      <td>S</td>\n",
       "    </tr>\n",
       "    <tr>\n",
       "      <th>1</th>\n",
       "      <td>2</td>\n",
       "      <td>1</td>\n",
       "      <td>1</td>\n",
       "      <td>Cumings, Mrs. John Bradley (Florence Briggs Th...</td>\n",
       "      <td>female</td>\n",
       "      <td>38.0</td>\n",
       "      <td>1</td>\n",
       "      <td>0</td>\n",
       "      <td>PC 17599</td>\n",
       "      <td>71.2833</td>\n",
       "      <td>C</td>\n",
       "    </tr>\n",
       "    <tr>\n",
       "      <th>2</th>\n",
       "      <td>3</td>\n",
       "      <td>1</td>\n",
       "      <td>3</td>\n",
       "      <td>Heikkinen, Miss. Laina</td>\n",
       "      <td>female</td>\n",
       "      <td>26.0</td>\n",
       "      <td>0</td>\n",
       "      <td>0</td>\n",
       "      <td>STON/O2. 3101282</td>\n",
       "      <td>7.9250</td>\n",
       "      <td>S</td>\n",
       "    </tr>\n",
       "    <tr>\n",
       "      <th>3</th>\n",
       "      <td>4</td>\n",
       "      <td>1</td>\n",
       "      <td>1</td>\n",
       "      <td>Futrelle, Mrs. Jacques Heath (Lily May Peel)</td>\n",
       "      <td>female</td>\n",
       "      <td>35.0</td>\n",
       "      <td>1</td>\n",
       "      <td>0</td>\n",
       "      <td>113803</td>\n",
       "      <td>53.1000</td>\n",
       "      <td>S</td>\n",
       "    </tr>\n",
       "    <tr>\n",
       "      <th>4</th>\n",
       "      <td>5</td>\n",
       "      <td>0</td>\n",
       "      <td>3</td>\n",
       "      <td>Allen, Mr. William Henry</td>\n",
       "      <td>male</td>\n",
       "      <td>35.0</td>\n",
       "      <td>0</td>\n",
       "      <td>0</td>\n",
       "      <td>373450</td>\n",
       "      <td>8.0500</td>\n",
       "      <td>S</td>\n",
       "    </tr>\n",
       "  </tbody>\n",
       "</table>\n",
       "</div>"
      ],
      "text/plain": [
       "   PassengerId  Survived  Pclass  \\\n",
       "0            1         0       3   \n",
       "1            2         1       1   \n",
       "2            3         1       3   \n",
       "3            4         1       1   \n",
       "4            5         0       3   \n",
       "\n",
       "                                                Name     Sex   Age  SibSp  \\\n",
       "0                            Braund, Mr. Owen Harris    male  22.0      1   \n",
       "1  Cumings, Mrs. John Bradley (Florence Briggs Th...  female  38.0      1   \n",
       "2                             Heikkinen, Miss. Laina  female  26.0      0   \n",
       "3       Futrelle, Mrs. Jacques Heath (Lily May Peel)  female  35.0      1   \n",
       "4                           Allen, Mr. William Henry    male  35.0      0   \n",
       "\n",
       "   Parch            Ticket     Fare Embarked  \n",
       "0      0         A/5 21171   7.2500        S  \n",
       "1      0          PC 17599  71.2833        C  \n",
       "2      0  STON/O2. 3101282   7.9250        S  \n",
       "3      0            113803  53.1000        S  \n",
       "4      0            373450   8.0500        S  "
      ]
     },
     "execution_count": 110,
     "metadata": {},
     "output_type": "execute_result"
    }
   ],
   "source": [
    "for col in columns_to_encode:\n",
    "    # Retrieve the corresponding LabelEncoder for the column\n",
    "    le = label_encoders[col]\n",
    "\n",
    "    # Inverse transform the data\n",
    "    df_final[col] = le.inverse_transform(df[col])\n",
    "    \n",
    "# check the first 5 rows of the complete dataframe\n",
    "df_final.head()"
   ]
  },
  {
   "cell_type": "code",
   "execution_count": 111,
   "id": "f4c5a72b",
   "metadata": {},
   "outputs": [
    {
     "data": {
      "text/plain": [
       "Embarked       2\n",
       "PassengerId    0\n",
       "Survived       0\n",
       "Pclass         0\n",
       "Name           0\n",
       "Sex            0\n",
       "Age            0\n",
       "SibSp          0\n",
       "Parch          0\n",
       "Ticket         0\n",
       "Fare           0\n",
       "dtype: int64"
      ]
     },
     "execution_count": 111,
     "metadata": {},
     "output_type": "execute_result"
    }
   ],
   "source": [
    "df_final.isna().sum().sort_values(ascending=False)"
   ]
  },
  {
   "cell_type": "markdown",
   "id": "e1e6c1bb",
   "metadata": {},
   "source": [
    "# 🔍 Deep Learning Methods: Missing Values ki Imputation ke liye Autoencoders ka Use\n",
    "\n",
    "Neural networks, khaaskar autoencoders, bohat effective hain un datasets ke liye jahan data missing ho aur structure complex ho. 💻 Yeh methods specially un situations mein kaam aate hain jahan traditional statistical techniques fail ho jaati hain due to non-linear relationships.\n",
    "\n",
    "## 🤖 Autoencoder Kya Hota Hai?\n",
    "\n",
    "- Autoencoder aik aisa neural network hota hai jo apne input ko hi output mein copy karne ke liye train kiya jata hai.\n",
    "- Isme aik hidden layer hoti hai jo input ka compressed version (code) create karti hai.\n",
    "- Yeh network do hisson mein divide hota hai:\n",
    "    - **Encoder**: Input ko compress karta hai.\n",
    "    - **Decoder**: Compressed data se input ko reconstruct karta hai.\n",
    "\n",
    "## 🛠️ Imputation ke liye Autoencoders ka Kaam Karne Ka Tareeqa\n",
    "\n",
    "- Training ke dauraan, model ko aise inputs diye jaate hain jahan kuch values missing hoti hain.\n",
    "- Network yeh seekhta hai ke kaise missing values ko predict kiya jaaye, taake known values ka reconstruction error minimize ho.\n",
    "- Is tarah model data ka ek robust representation seekh leta hai. 🔄\n",
    "\n",
    "## ✅ Autoencoders ke Fayde\n",
    "\n",
    "- 🌀 **Complex Patterns Handle Karna**: Non-linear relationships ko bhi samajh sakte hain.\n",
    "- 📈 **Scalability**: Bade datasets ke saath efficiently kaam karte hain.\n",
    "- 🧰 **Flexibility**: Har tarah ke data (images, text, time-series) ke liye adapt ho jaate hain.\n",
    "\n",
    "## 🧪 Implementation Tips\n",
    "\n",
    "- 📊 **Data Preprocessing**: Autoencoder se pehle data ko normalize ya standardize karna zaroori hai.\n",
    "- 🏗️ **Network Architecture**: Layers ki type aur quantity ka selection data ki complexity par depend karta hai.\n",
    "- 🎯 **Training Techniques**: Dropout ya noise addition jaise methods se model aur resilient banta hai.\n",
    "\n",
    "## 🔍 Example Use-Cases\n",
    "\n",
    "- 🖼️ **Image Data**: Missing pixels fill karna ya corrupted images ko reconstruct karna.\n",
    "- 📉 **Time-Series Data**: Jaise stock prices ya weather data mein missing values ko predict karna.\n",
    "- 📊 **Tabular Data**: Machine learning ke datasets mein missing entries handle karna.\n"
   ]
  }
 ],
 "metadata": {
  "kernelspec": {
   "display_name": "data_analysis",
   "language": "python",
   "name": "python3"
  },
  "language_info": {
   "codemirror_mode": {
    "name": "ipython",
    "version": 3
   },
   "file_extension": ".py",
   "mimetype": "text/x-python",
   "name": "python",
   "nbconvert_exporter": "python",
   "pygments_lexer": "ipython3",
   "version": "3.10.15"
  }
 },
 "nbformat": 4,
 "nbformat_minor": 5
}
